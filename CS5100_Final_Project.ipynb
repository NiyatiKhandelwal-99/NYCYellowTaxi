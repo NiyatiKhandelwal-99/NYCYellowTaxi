{
 "cells": [
  {
   "cell_type": "markdown",
   "metadata": {},
   "source": [
    "# CS5100 Final Project"
   ]
  },
  {
   "cell_type": "markdown",
   "metadata": {},
   "source": [
    "Name: Niyati Manish Khandelwal\n",
    "\n",
    "Goal: This assignment will allow you to apply your knowledge of machine learning that you have aquired in this course on a real-world dataset of your choosing per the assignment specifications.\n",
    "\n",
    "Complete the notebook and demonstrate your mastery of the topic."
   ]
  },
  {
   "cell_type": "markdown",
   "metadata": {},
   "source": [
    "## Prerequisites\n",
    "\n",
    "In this section describe any packages that need to be installed or any additional setup that needs to take place before trying to run code."
   ]
  },
  {
   "cell_type": "code",
   "execution_count": 43,
   "metadata": {},
   "outputs": [
    {
     "name": "stdout",
     "output_type": "stream",
     "text": [
      "Requirement already satisfied: pyarrow in c:\\users\\niyati\\appdata\\local\\programs\\python\\python310\\lib\\site-packages (10.0.1)Note: you may need to restart the kernel to use updated packages.\n",
      "\n",
      "Requirement already satisfied: numpy>=1.16.6 in c:\\users\\niyati\\appdata\\local\\programs\\python\\python310\\lib\\site-packages (from pyarrow) (1.23.3)\n"
     ]
    }
   ],
   "source": [
    "pip install pyarrow"
   ]
  },
  {
   "cell_type": "code",
   "execution_count": 44,
   "metadata": {},
   "outputs": [
    {
     "name": "stdout",
     "output_type": "stream",
     "text": [
      "Requirement already satisfied: geopy in c:\\users\\niyati\\appdata\\local\\programs\\python\\python310\\lib\\site-packages (2.3.0)\n",
      "Requirement already satisfied: geographiclib<3,>=1.52 in c:\\users\\niyati\\appdata\\local\\programs\\python\\python310\\lib\\site-packages (from geopy) (2.0)\n",
      "Note: you may need to restart the kernel to use updated packages.\n"
     ]
    }
   ],
   "source": [
    "pip install geopy"
   ]
  },
  {
   "cell_type": "code",
   "execution_count": 45,
   "metadata": {},
   "outputs": [
    {
     "name": "stdout",
     "output_type": "stream",
     "text": [
      "Requirement already satisfied: xgboost in c:\\users\\niyati\\appdata\\local\\programs\\python\\python310\\lib\\site-packages (1.7.1)\n",
      "Requirement already satisfied: scipy in c:\\users\\niyati\\appdata\\local\\programs\\python\\python310\\lib\\site-packages (from xgboost) (1.9.1)\n",
      "Requirement already satisfied: numpy in c:\\users\\niyati\\appdata\\local\\programs\\python\\python310\\lib\\site-packages (from xgboost) (1.23.3)\n",
      "Note: you may need to restart the kernel to use updated packages.\n"
     ]
    }
   ],
   "source": [
    "pip install xgboost"
   ]
  },
  {
   "cell_type": "code",
   "execution_count": 46,
   "metadata": {},
   "outputs": [],
   "source": [
    "import pandas as pd\n",
    "import numpy as np\n",
    "import matplotlib.pyplot as plt\n",
    "import seaborn as sns\n",
    "import xgboost\n",
    "\n",
    "from sklearn.model_selection import train_test_split\n",
    "from sklearn.linear_model import LinearRegression\n",
    "from sklearn.linear_model import LinearRegression\n",
    "from sklearn.tree import DecisionTreeRegressor\n",
    "from sklearn.ensemble import RandomForestRegressor\n",
    "from sklearn.ensemble import AdaBoostRegressor\n",
    "from xgboost.sklearn import XGBRegressor\n",
    "from sklearn import metrics\n",
    "from geopy.distance import geodesic"
   ]
  },
  {
   "attachments": {},
   "cell_type": "markdown",
   "metadata": {},
   "source": [
    "## Problem"
   ]
  },
  {
   "attachments": {},
   "cell_type": "markdown",
   "metadata": {},
   "source": [
    "In this project, we are using the New York City yellow taxi dataset to predict the fare price of the next trip.\n",
    "Through this project, we will learn a couple of things including areas which have the highest fare rate, weekdays where taxi rides taken are of the highest fare, number of rides taken in each pickup hour, etc.\n",
    "We will be visualizing the data using scatter plots, bar graphs, countplots and distplots.\n",
    " "
   ]
  },
  {
   "cell_type": "markdown",
   "metadata": {},
   "source": [
    "## Data\n",
    "\n",
    "In this section you will describe the dataset (corpus) you are using. Explain who collected the data, how they did it, the manner in which it was stored, the way you accessed the data, what steps you will have to do to clean it, and so on. Provide any relavent details."
   ]
  },
  {
   "attachments": {},
   "cell_type": "markdown",
   "metadata": {},
   "source": [
    "The dataset we will be using is from the official NYC Taxi and Limousine Commission website - https://www.nyc.gov/site/tlc/about/tlc-trip-record-data.page.\n",
    "\n",
    "We will be using the latest dataset i.e 2022 September Yellow Taxi Trip Records - https://d37ci6vzurychx.cloudfront.net/trip-data/yellow_tripdata_2022-09.parquet. Description of each field of this dataset can be found in - data_dictionary_trip_records_yellow.pdf.\n",
    "\n",
    "This dataset consists of fields capturing pick-up and drop-off dates/times, pick-up and drop-off locations, trip distances, itemized fares, rate types, payment types, and driver-reported passenger counts.\n",
    "\n",
    "The data used in the dataset was collected and provided to the NYC Taxi and Limousine Commission (TLC) by technology providers authorized under the Taxicab & Livery Passenger Enhancement Programs (TPEP/LPEP).\n",
    "\n",
    "The data is stored in PARQUET format. In order to access and use this data, I downloaded this dataset and read it into a dataframe here for analysis.\n",
    "\n",
    "We will also make use of 'taxi_zones' file that I have created from the official GeoData Converter website. This file is created to get the exact latitude/longitude of each region of nyc as per the location ID. We will use this file to map our PULocationID (pick up location ID) to pickup_longitude and pickup_latitude. We will also map our DOLocationID (drop off location ID) to dropoff_longitude and dropoff_latitude.\n",
    "\n",
    "There were several steps involved for cleaning of the data including removing null values, trips that had 0 passengers involved, etc. All these steps will be explained in the below 'Cleaning the Data' section."
   ]
  },
  {
   "cell_type": "markdown",
   "metadata": {},
   "source": [
    "## Cleaning the Data\n",
    "\n",
    "Add the code to download/query you data. If your data is already downloaded, then load it into your program here. Then add the code to clean it."
   ]
  },
  {
   "cell_type": "code",
   "execution_count": 47,
   "metadata": {},
   "outputs": [
    {
     "data": {
      "text/html": [
       "<div>\n",
       "<style scoped>\n",
       "    .dataframe tbody tr th:only-of-type {\n",
       "        vertical-align: middle;\n",
       "    }\n",
       "\n",
       "    .dataframe tbody tr th {\n",
       "        vertical-align: top;\n",
       "    }\n",
       "\n",
       "    .dataframe thead th {\n",
       "        text-align: right;\n",
       "    }\n",
       "</style>\n",
       "<table border=\"1\" class=\"dataframe\">\n",
       "  <thead>\n",
       "    <tr style=\"text-align: right;\">\n",
       "      <th></th>\n",
       "      <th>VendorID</th>\n",
       "      <th>tpep_pickup_datetime</th>\n",
       "      <th>tpep_dropoff_datetime</th>\n",
       "      <th>passenger_count</th>\n",
       "      <th>trip_distance</th>\n",
       "      <th>RatecodeID</th>\n",
       "      <th>store_and_fwd_flag</th>\n",
       "      <th>PULocationID</th>\n",
       "      <th>DOLocationID</th>\n",
       "      <th>payment_type</th>\n",
       "      <th>fare_amount</th>\n",
       "      <th>extra</th>\n",
       "      <th>mta_tax</th>\n",
       "      <th>tip_amount</th>\n",
       "      <th>tolls_amount</th>\n",
       "      <th>improvement_surcharge</th>\n",
       "      <th>total_amount</th>\n",
       "      <th>congestion_surcharge</th>\n",
       "      <th>airport_fee</th>\n",
       "    </tr>\n",
       "  </thead>\n",
       "  <tbody>\n",
       "    <tr>\n",
       "      <th>0</th>\n",
       "      <td>1</td>\n",
       "      <td>2022-09-01 00:28:12</td>\n",
       "      <td>2022-09-01 00:36:22</td>\n",
       "      <td>1.0</td>\n",
       "      <td>2.10</td>\n",
       "      <td>1.0</td>\n",
       "      <td>N</td>\n",
       "      <td>100</td>\n",
       "      <td>239</td>\n",
       "      <td>1</td>\n",
       "      <td>9.0</td>\n",
       "      <td>3.0</td>\n",
       "      <td>0.5</td>\n",
       "      <td>1.8</td>\n",
       "      <td>0.00</td>\n",
       "      <td>0.3</td>\n",
       "      <td>14.60</td>\n",
       "      <td>2.5</td>\n",
       "      <td>0.0</td>\n",
       "    </tr>\n",
       "    <tr>\n",
       "      <th>1</th>\n",
       "      <td>1</td>\n",
       "      <td>2022-09-01 00:51:58</td>\n",
       "      <td>2022-09-01 01:14:43</td>\n",
       "      <td>1.0</td>\n",
       "      <td>8.70</td>\n",
       "      <td>1.0</td>\n",
       "      <td>N</td>\n",
       "      <td>161</td>\n",
       "      <td>243</td>\n",
       "      <td>2</td>\n",
       "      <td>27.5</td>\n",
       "      <td>3.0</td>\n",
       "      <td>0.5</td>\n",
       "      <td>0.0</td>\n",
       "      <td>0.00</td>\n",
       "      <td>0.3</td>\n",
       "      <td>31.30</td>\n",
       "      <td>2.5</td>\n",
       "      <td>0.0</td>\n",
       "    </tr>\n",
       "    <tr>\n",
       "      <th>2</th>\n",
       "      <td>1</td>\n",
       "      <td>2022-09-01 00:08:29</td>\n",
       "      <td>2022-09-01 00:26:29</td>\n",
       "      <td>1.0</td>\n",
       "      <td>8.30</td>\n",
       "      <td>1.0</td>\n",
       "      <td>N</td>\n",
       "      <td>138</td>\n",
       "      <td>233</td>\n",
       "      <td>1</td>\n",
       "      <td>25.0</td>\n",
       "      <td>3.0</td>\n",
       "      <td>0.5</td>\n",
       "      <td>2.0</td>\n",
       "      <td>6.55</td>\n",
       "      <td>0.3</td>\n",
       "      <td>37.35</td>\n",
       "      <td>2.5</td>\n",
       "      <td>0.0</td>\n",
       "    </tr>\n",
       "    <tr>\n",
       "      <th>3</th>\n",
       "      <td>2</td>\n",
       "      <td>2022-09-01 00:02:24</td>\n",
       "      <td>2022-09-01 00:09:39</td>\n",
       "      <td>1.0</td>\n",
       "      <td>1.32</td>\n",
       "      <td>1.0</td>\n",
       "      <td>N</td>\n",
       "      <td>238</td>\n",
       "      <td>166</td>\n",
       "      <td>2</td>\n",
       "      <td>7.5</td>\n",
       "      <td>0.5</td>\n",
       "      <td>0.5</td>\n",
       "      <td>0.0</td>\n",
       "      <td>0.00</td>\n",
       "      <td>0.3</td>\n",
       "      <td>8.80</td>\n",
       "      <td>0.0</td>\n",
       "      <td>0.0</td>\n",
       "    </tr>\n",
       "    <tr>\n",
       "      <th>4</th>\n",
       "      <td>2</td>\n",
       "      <td>2022-09-01 00:47:25</td>\n",
       "      <td>2022-09-01 00:56:09</td>\n",
       "      <td>1.0</td>\n",
       "      <td>2.94</td>\n",
       "      <td>1.0</td>\n",
       "      <td>N</td>\n",
       "      <td>161</td>\n",
       "      <td>226</td>\n",
       "      <td>2</td>\n",
       "      <td>10.5</td>\n",
       "      <td>0.5</td>\n",
       "      <td>0.5</td>\n",
       "      <td>0.0</td>\n",
       "      <td>0.00</td>\n",
       "      <td>0.3</td>\n",
       "      <td>14.30</td>\n",
       "      <td>2.5</td>\n",
       "      <td>0.0</td>\n",
       "    </tr>\n",
       "  </tbody>\n",
       "</table>\n",
       "</div>"
      ],
      "text/plain": [
       "   VendorID tpep_pickup_datetime tpep_dropoff_datetime  passenger_count  \\\n",
       "0         1  2022-09-01 00:28:12   2022-09-01 00:36:22              1.0   \n",
       "1         1  2022-09-01 00:51:58   2022-09-01 01:14:43              1.0   \n",
       "2         1  2022-09-01 00:08:29   2022-09-01 00:26:29              1.0   \n",
       "3         2  2022-09-01 00:02:24   2022-09-01 00:09:39              1.0   \n",
       "4         2  2022-09-01 00:47:25   2022-09-01 00:56:09              1.0   \n",
       "\n",
       "   trip_distance  RatecodeID store_and_fwd_flag  PULocationID  DOLocationID  \\\n",
       "0           2.10         1.0                  N           100           239   \n",
       "1           8.70         1.0                  N           161           243   \n",
       "2           8.30         1.0                  N           138           233   \n",
       "3           1.32         1.0                  N           238           166   \n",
       "4           2.94         1.0                  N           161           226   \n",
       "\n",
       "   payment_type  fare_amount  extra  mta_tax  tip_amount  tolls_amount  \\\n",
       "0             1          9.0    3.0      0.5         1.8          0.00   \n",
       "1             2         27.5    3.0      0.5         0.0          0.00   \n",
       "2             1         25.0    3.0      0.5         2.0          6.55   \n",
       "3             2          7.5    0.5      0.5         0.0          0.00   \n",
       "4             2         10.5    0.5      0.5         0.0          0.00   \n",
       "\n",
       "   improvement_surcharge  total_amount  congestion_surcharge  airport_fee  \n",
       "0                    0.3         14.60                   2.5          0.0  \n",
       "1                    0.3         31.30                   2.5          0.0  \n",
       "2                    0.3         37.35                   2.5          0.0  \n",
       "3                    0.3          8.80                   0.0          0.0  \n",
       "4                    0.3         14.30                   2.5          0.0  "
      ]
     },
     "execution_count": 47,
     "metadata": {},
     "output_type": "execute_result"
    }
   ],
   "source": [
    "df = pd.read_parquet('yellow_tripdata_2022-09.parquet', engine = 'pyarrow')\n",
    "df.head()"
   ]
  },
  {
   "cell_type": "code",
   "execution_count": 48,
   "metadata": {},
   "outputs": [
    {
     "data": {
      "text/html": [
       "<div>\n",
       "<style scoped>\n",
       "    .dataframe tbody tr th:only-of-type {\n",
       "        vertical-align: middle;\n",
       "    }\n",
       "\n",
       "    .dataframe tbody tr th {\n",
       "        vertical-align: top;\n",
       "    }\n",
       "\n",
       "    .dataframe thead th {\n",
       "        text-align: right;\n",
       "    }\n",
       "</style>\n",
       "<table border=\"1\" class=\"dataframe\">\n",
       "  <thead>\n",
       "    <tr style=\"text-align: right;\">\n",
       "      <th></th>\n",
       "      <th>VendorID</th>\n",
       "      <th>passenger_count</th>\n",
       "      <th>trip_distance</th>\n",
       "      <th>RatecodeID</th>\n",
       "      <th>PULocationID</th>\n",
       "      <th>DOLocationID</th>\n",
       "      <th>payment_type</th>\n",
       "      <th>fare_amount</th>\n",
       "      <th>extra</th>\n",
       "      <th>mta_tax</th>\n",
       "      <th>tip_amount</th>\n",
       "      <th>tolls_amount</th>\n",
       "      <th>improvement_surcharge</th>\n",
       "      <th>total_amount</th>\n",
       "      <th>congestion_surcharge</th>\n",
       "      <th>airport_fee</th>\n",
       "    </tr>\n",
       "  </thead>\n",
       "  <tbody>\n",
       "    <tr>\n",
       "      <th>count</th>\n",
       "      <td>3.183767e+06</td>\n",
       "      <td>3.067175e+06</td>\n",
       "      <td>3.183767e+06</td>\n",
       "      <td>3.067175e+06</td>\n",
       "      <td>3.183767e+06</td>\n",
       "      <td>3.183767e+06</td>\n",
       "      <td>3.183767e+06</td>\n",
       "      <td>3.183767e+06</td>\n",
       "      <td>3.183767e+06</td>\n",
       "      <td>3.183767e+06</td>\n",
       "      <td>3.183767e+06</td>\n",
       "      <td>3.183767e+06</td>\n",
       "      <td>3.183767e+06</td>\n",
       "      <td>3.183767e+06</td>\n",
       "      <td>3.067175e+06</td>\n",
       "      <td>3.067175e+06</td>\n",
       "    </tr>\n",
       "    <tr>\n",
       "      <th>mean</th>\n",
       "      <td>1.715380e+00</td>\n",
       "      <td>1.386320e+00</td>\n",
       "      <td>7.109279e+00</td>\n",
       "      <td>1.483464e+00</td>\n",
       "      <td>1.643820e+02</td>\n",
       "      <td>1.621447e+02</td>\n",
       "      <td>1.186873e+00</td>\n",
       "      <td>1.564404e+01</td>\n",
       "      <td>1.003977e+00</td>\n",
       "      <td>4.876840e-01</td>\n",
       "      <td>2.886925e+00</td>\n",
       "      <td>6.042836e-01</td>\n",
       "      <td>2.957686e-01</td>\n",
       "      <td>2.265776e+01</td>\n",
       "      <td>2.268221e+00</td>\n",
       "      <td>1.083513e-01</td>\n",
       "    </tr>\n",
       "    <tr>\n",
       "      <th>std</th>\n",
       "      <td>4.512374e-01</td>\n",
       "      <td>9.375647e-01</td>\n",
       "      <td>7.365036e+02</td>\n",
       "      <td>6.179802e+00</td>\n",
       "      <td>6.557936e+01</td>\n",
       "      <td>7.037223e+01</td>\n",
       "      <td>5.270220e-01</td>\n",
       "      <td>1.062375e+02</td>\n",
       "      <td>1.249544e+00</td>\n",
       "      <td>9.915776e-02</td>\n",
       "      <td>3.432636e+00</td>\n",
       "      <td>2.132655e+00</td>\n",
       "      <td>4.964102e-02</td>\n",
       "      <td>1.068255e+02</td>\n",
       "      <td>7.709993e-01</td>\n",
       "      <td>3.558345e-01</td>\n",
       "    </tr>\n",
       "    <tr>\n",
       "      <th>min</th>\n",
       "      <td>1.000000e+00</td>\n",
       "      <td>0.000000e+00</td>\n",
       "      <td>0.000000e+00</td>\n",
       "      <td>1.000000e+00</td>\n",
       "      <td>1.000000e+00</td>\n",
       "      <td>1.000000e+00</td>\n",
       "      <td>0.000000e+00</td>\n",
       "      <td>-8.000000e+02</td>\n",
       "      <td>-5.500000e+00</td>\n",
       "      <td>-5.500000e-01</td>\n",
       "      <td>-9.218000e+01</td>\n",
       "      <td>-3.450000e+01</td>\n",
       "      <td>-3.000000e-01</td>\n",
       "      <td>-7.903000e+02</td>\n",
       "      <td>-2.500000e+00</td>\n",
       "      <td>-1.250000e+00</td>\n",
       "    </tr>\n",
       "    <tr>\n",
       "      <th>25%</th>\n",
       "      <td>1.000000e+00</td>\n",
       "      <td>1.000000e+00</td>\n",
       "      <td>1.130000e+00</td>\n",
       "      <td>1.000000e+00</td>\n",
       "      <td>1.320000e+02</td>\n",
       "      <td>1.130000e+02</td>\n",
       "      <td>1.000000e+00</td>\n",
       "      <td>7.500000e+00</td>\n",
       "      <td>0.000000e+00</td>\n",
       "      <td>5.000000e-01</td>\n",
       "      <td>1.000000e+00</td>\n",
       "      <td>0.000000e+00</td>\n",
       "      <td>3.000000e-01</td>\n",
       "      <td>1.236000e+01</td>\n",
       "      <td>2.500000e+00</td>\n",
       "      <td>0.000000e+00</td>\n",
       "    </tr>\n",
       "    <tr>\n",
       "      <th>50%</th>\n",
       "      <td>2.000000e+00</td>\n",
       "      <td>1.000000e+00</td>\n",
       "      <td>1.940000e+00</td>\n",
       "      <td>1.000000e+00</td>\n",
       "      <td>1.610000e+02</td>\n",
       "      <td>1.620000e+02</td>\n",
       "      <td>1.000000e+00</td>\n",
       "      <td>1.100000e+01</td>\n",
       "      <td>5.000000e-01</td>\n",
       "      <td>5.000000e-01</td>\n",
       "      <td>2.220000e+00</td>\n",
       "      <td>0.000000e+00</td>\n",
       "      <td>3.000000e-01</td>\n",
       "      <td>1.656000e+01</td>\n",
       "      <td>2.500000e+00</td>\n",
       "      <td>0.000000e+00</td>\n",
       "    </tr>\n",
       "    <tr>\n",
       "      <th>75%</th>\n",
       "      <td>2.000000e+00</td>\n",
       "      <td>1.000000e+00</td>\n",
       "      <td>3.780000e+00</td>\n",
       "      <td>1.000000e+00</td>\n",
       "      <td>2.340000e+02</td>\n",
       "      <td>2.340000e+02</td>\n",
       "      <td>1.000000e+00</td>\n",
       "      <td>1.750000e+01</td>\n",
       "      <td>2.500000e+00</td>\n",
       "      <td>5.000000e-01</td>\n",
       "      <td>3.560000e+00</td>\n",
       "      <td>0.000000e+00</td>\n",
       "      <td>3.000000e-01</td>\n",
       "      <td>2.436000e+01</td>\n",
       "      <td>2.500000e+00</td>\n",
       "      <td>0.000000e+00</td>\n",
       "    </tr>\n",
       "    <tr>\n",
       "      <th>max</th>\n",
       "      <td>5.000000e+00</td>\n",
       "      <td>9.000000e+00</td>\n",
       "      <td>3.031334e+05</td>\n",
       "      <td>9.900000e+01</td>\n",
       "      <td>2.650000e+02</td>\n",
       "      <td>2.650000e+02</td>\n",
       "      <td>4.000000e+00</td>\n",
       "      <td>1.874450e+05</td>\n",
       "      <td>2.800000e+01</td>\n",
       "      <td>3.300000e+00</td>\n",
       "      <td>7.112200e+02</td>\n",
       "      <td>1.560000e+02</td>\n",
       "      <td>3.000000e-01</td>\n",
       "      <td>1.874483e+05</td>\n",
       "      <td>2.750000e+00</td>\n",
       "      <td>1.250000e+00</td>\n",
       "    </tr>\n",
       "  </tbody>\n",
       "</table>\n",
       "</div>"
      ],
      "text/plain": [
       "           VendorID  passenger_count  trip_distance    RatecodeID  \\\n",
       "count  3.183767e+06     3.067175e+06   3.183767e+06  3.067175e+06   \n",
       "mean   1.715380e+00     1.386320e+00   7.109279e+00  1.483464e+00   \n",
       "std    4.512374e-01     9.375647e-01   7.365036e+02  6.179802e+00   \n",
       "min    1.000000e+00     0.000000e+00   0.000000e+00  1.000000e+00   \n",
       "25%    1.000000e+00     1.000000e+00   1.130000e+00  1.000000e+00   \n",
       "50%    2.000000e+00     1.000000e+00   1.940000e+00  1.000000e+00   \n",
       "75%    2.000000e+00     1.000000e+00   3.780000e+00  1.000000e+00   \n",
       "max    5.000000e+00     9.000000e+00   3.031334e+05  9.900000e+01   \n",
       "\n",
       "       PULocationID  DOLocationID  payment_type   fare_amount         extra  \\\n",
       "count  3.183767e+06  3.183767e+06  3.183767e+06  3.183767e+06  3.183767e+06   \n",
       "mean   1.643820e+02  1.621447e+02  1.186873e+00  1.564404e+01  1.003977e+00   \n",
       "std    6.557936e+01  7.037223e+01  5.270220e-01  1.062375e+02  1.249544e+00   \n",
       "min    1.000000e+00  1.000000e+00  0.000000e+00 -8.000000e+02 -5.500000e+00   \n",
       "25%    1.320000e+02  1.130000e+02  1.000000e+00  7.500000e+00  0.000000e+00   \n",
       "50%    1.610000e+02  1.620000e+02  1.000000e+00  1.100000e+01  5.000000e-01   \n",
       "75%    2.340000e+02  2.340000e+02  1.000000e+00  1.750000e+01  2.500000e+00   \n",
       "max    2.650000e+02  2.650000e+02  4.000000e+00  1.874450e+05  2.800000e+01   \n",
       "\n",
       "            mta_tax    tip_amount  tolls_amount  improvement_surcharge  \\\n",
       "count  3.183767e+06  3.183767e+06  3.183767e+06           3.183767e+06   \n",
       "mean   4.876840e-01  2.886925e+00  6.042836e-01           2.957686e-01   \n",
       "std    9.915776e-02  3.432636e+00  2.132655e+00           4.964102e-02   \n",
       "min   -5.500000e-01 -9.218000e+01 -3.450000e+01          -3.000000e-01   \n",
       "25%    5.000000e-01  1.000000e+00  0.000000e+00           3.000000e-01   \n",
       "50%    5.000000e-01  2.220000e+00  0.000000e+00           3.000000e-01   \n",
       "75%    5.000000e-01  3.560000e+00  0.000000e+00           3.000000e-01   \n",
       "max    3.300000e+00  7.112200e+02  1.560000e+02           3.000000e-01   \n",
       "\n",
       "       total_amount  congestion_surcharge   airport_fee  \n",
       "count  3.183767e+06          3.067175e+06  3.067175e+06  \n",
       "mean   2.265776e+01          2.268221e+00  1.083513e-01  \n",
       "std    1.068255e+02          7.709993e-01  3.558345e-01  \n",
       "min   -7.903000e+02         -2.500000e+00 -1.250000e+00  \n",
       "25%    1.236000e+01          2.500000e+00  0.000000e+00  \n",
       "50%    1.656000e+01          2.500000e+00  0.000000e+00  \n",
       "75%    2.436000e+01          2.500000e+00  0.000000e+00  \n",
       "max    1.874483e+05          2.750000e+00  1.250000e+00  "
      ]
     },
     "execution_count": 48,
     "metadata": {},
     "output_type": "execute_result"
    }
   ],
   "source": [
    "df.describe()"
   ]
  },
  {
   "cell_type": "code",
   "execution_count": 49,
   "metadata": {},
   "outputs": [
    {
     "data": {
      "text/plain": [
       "(3183767, 19)"
      ]
     },
     "execution_count": 49,
     "metadata": {},
     "output_type": "execute_result"
    }
   ],
   "source": [
    "df.shape"
   ]
  },
  {
   "cell_type": "code",
   "execution_count": 50,
   "metadata": {},
   "outputs": [
    {
     "data": {
      "text/plain": [
       "VendorID                          int64\n",
       "tpep_pickup_datetime     datetime64[ns]\n",
       "tpep_dropoff_datetime    datetime64[ns]\n",
       "passenger_count                 float64\n",
       "trip_distance                   float64\n",
       "RatecodeID                      float64\n",
       "store_and_fwd_flag               object\n",
       "PULocationID                      int64\n",
       "DOLocationID                      int64\n",
       "payment_type                      int64\n",
       "fare_amount                     float64\n",
       "extra                           float64\n",
       "mta_tax                         float64\n",
       "tip_amount                      float64\n",
       "tolls_amount                    float64\n",
       "improvement_surcharge           float64\n",
       "total_amount                    float64\n",
       "congestion_surcharge            float64\n",
       "airport_fee                     float64\n",
       "dtype: object"
      ]
     },
     "execution_count": 50,
     "metadata": {},
     "output_type": "execute_result"
    }
   ],
   "source": [
    "df.dtypes"
   ]
  },
  {
   "cell_type": "markdown",
   "metadata": {},
   "source": [
    "#### Data Preprocessing\n",
    "\n",
    "Step 1: Remove all null values."
   ]
  },
  {
   "cell_type": "code",
   "execution_count": 51,
   "metadata": {},
   "outputs": [
    {
     "data": {
      "text/plain": [
       "VendorID                      0\n",
       "tpep_pickup_datetime          0\n",
       "tpep_dropoff_datetime         0\n",
       "passenger_count          116592\n",
       "trip_distance                 0\n",
       "RatecodeID               116592\n",
       "store_and_fwd_flag       116592\n",
       "PULocationID                  0\n",
       "DOLocationID                  0\n",
       "payment_type                  0\n",
       "fare_amount                   0\n",
       "extra                         0\n",
       "mta_tax                       0\n",
       "tip_amount                    0\n",
       "tolls_amount                  0\n",
       "improvement_surcharge         0\n",
       "total_amount                  0\n",
       "congestion_surcharge     116592\n",
       "airport_fee              116592\n",
       "dtype: int64"
      ]
     },
     "execution_count": 51,
     "metadata": {},
     "output_type": "execute_result"
    }
   ],
   "source": [
    "df.isnull().sum()"
   ]
  },
  {
   "cell_type": "markdown",
   "metadata": {},
   "source": [
    "As we can see above, our dataset has minor missing values which are 116592 records maximum. So we can easily drop that data because our dataset is much larger with 3183767 rows."
   ]
  },
  {
   "cell_type": "code",
   "execution_count": 52,
   "metadata": {},
   "outputs": [],
   "source": [
    "df = df.dropna()"
   ]
  },
  {
   "cell_type": "markdown",
   "metadata": {},
   "source": [
    "Step 2: Drop columns that are not required : store_and_fwd_flag, payment_type, extra, tip_amount, improvement_surcharge, total_amount, congestion_surcharge."
   ]
  },
  {
   "cell_type": "code",
   "execution_count": 53,
   "metadata": {},
   "outputs": [],
   "source": [
    "df = df.drop(['store_and_fwd_flag', 'payment_type', 'extra', 'tip_amount', 'improvement_surcharge', 'total_amount', 'congestion_surcharge'],axis=1)"
   ]
  },
  {
   "cell_type": "markdown",
   "metadata": {},
   "source": [
    "Step 3: Now, we will map our PULocationID to pickup_longitude and pickup_latitude\n",
    "and we will map DOLocationID to dropoff_longitude and dropoff_latitude"
   ]
  },
  {
   "cell_type": "code",
   "execution_count": 54,
   "metadata": {},
   "outputs": [
    {
     "data": {
      "text/html": [
       "<div>\n",
       "<style scoped>\n",
       "    .dataframe tbody tr th:only-of-type {\n",
       "        vertical-align: middle;\n",
       "    }\n",
       "\n",
       "    .dataframe tbody tr th {\n",
       "        vertical-align: top;\n",
       "    }\n",
       "\n",
       "    .dataframe thead th {\n",
       "        text-align: right;\n",
       "    }\n",
       "</style>\n",
       "<table border=\"1\" class=\"dataframe\">\n",
       "  <thead>\n",
       "    <tr style=\"text-align: right;\">\n",
       "      <th></th>\n",
       "      <th>X</th>\n",
       "      <th>Y</th>\n",
       "      <th>OBJECTID</th>\n",
       "      <th>Shape_Leng</th>\n",
       "      <th>Shape_Area</th>\n",
       "      <th>zone</th>\n",
       "      <th>LocationID</th>\n",
       "      <th>borough</th>\n",
       "    </tr>\n",
       "  </thead>\n",
       "  <tbody>\n",
       "    <tr>\n",
       "      <th>0</th>\n",
       "      <td>-74.176786</td>\n",
       "      <td>40.689516</td>\n",
       "      <td>1</td>\n",
       "      <td>0.116357</td>\n",
       "      <td>0.000782</td>\n",
       "      <td>Newark Airport</td>\n",
       "      <td>1</td>\n",
       "      <td>EWR</td>\n",
       "    </tr>\n",
       "    <tr>\n",
       "      <th>1</th>\n",
       "      <td>-73.826126</td>\n",
       "      <td>40.625724</td>\n",
       "      <td>2</td>\n",
       "      <td>0.433470</td>\n",
       "      <td>0.004866</td>\n",
       "      <td>Jamaica Bay</td>\n",
       "      <td>2</td>\n",
       "      <td>Queens</td>\n",
       "    </tr>\n",
       "    <tr>\n",
       "      <th>2</th>\n",
       "      <td>-73.849479</td>\n",
       "      <td>40.865888</td>\n",
       "      <td>3</td>\n",
       "      <td>0.084341</td>\n",
       "      <td>0.000314</td>\n",
       "      <td>Allerton/Pelham Gardens</td>\n",
       "      <td>3</td>\n",
       "      <td>Bronx</td>\n",
       "    </tr>\n",
       "    <tr>\n",
       "      <th>3</th>\n",
       "      <td>-73.977023</td>\n",
       "      <td>40.724152</td>\n",
       "      <td>4</td>\n",
       "      <td>0.043567</td>\n",
       "      <td>0.000112</td>\n",
       "      <td>Alphabet City</td>\n",
       "      <td>4</td>\n",
       "      <td>Manhattan</td>\n",
       "    </tr>\n",
       "    <tr>\n",
       "      <th>4</th>\n",
       "      <td>-74.189930</td>\n",
       "      <td>40.550340</td>\n",
       "      <td>5</td>\n",
       "      <td>0.092146</td>\n",
       "      <td>0.000498</td>\n",
       "      <td>Arden Heights</td>\n",
       "      <td>5</td>\n",
       "      <td>Staten Island</td>\n",
       "    </tr>\n",
       "    <tr>\n",
       "      <th>...</th>\n",
       "      <td>...</td>\n",
       "      <td>...</td>\n",
       "      <td>...</td>\n",
       "      <td>...</td>\n",
       "      <td>...</td>\n",
       "      <td>...</td>\n",
       "      <td>...</td>\n",
       "      <td>...</td>\n",
       "    </tr>\n",
       "    <tr>\n",
       "      <th>258</th>\n",
       "      <td>-73.856351</td>\n",
       "      <td>40.899103</td>\n",
       "      <td>259</td>\n",
       "      <td>0.126750</td>\n",
       "      <td>0.000395</td>\n",
       "      <td>Woodlawn/Wakefield</td>\n",
       "      <td>259</td>\n",
       "      <td>Bronx</td>\n",
       "    </tr>\n",
       "    <tr>\n",
       "      <th>259</th>\n",
       "      <td>-73.903713</td>\n",
       "      <td>40.746798</td>\n",
       "      <td>260</td>\n",
       "      <td>0.133514</td>\n",
       "      <td>0.000422</td>\n",
       "      <td>Woodside</td>\n",
       "      <td>260</td>\n",
       "      <td>Queens</td>\n",
       "    </tr>\n",
       "    <tr>\n",
       "      <th>260</th>\n",
       "      <td>-74.012919</td>\n",
       "      <td>40.708976</td>\n",
       "      <td>261</td>\n",
       "      <td>0.027120</td>\n",
       "      <td>0.000034</td>\n",
       "      <td>World Trade Center</td>\n",
       "      <td>261</td>\n",
       "      <td>Manhattan</td>\n",
       "    </tr>\n",
       "    <tr>\n",
       "      <th>261</th>\n",
       "      <td>-73.945830</td>\n",
       "      <td>40.776534</td>\n",
       "      <td>262</td>\n",
       "      <td>0.049064</td>\n",
       "      <td>0.000122</td>\n",
       "      <td>Yorkville East</td>\n",
       "      <td>262</td>\n",
       "      <td>Manhattan</td>\n",
       "    </tr>\n",
       "    <tr>\n",
       "      <th>262</th>\n",
       "      <td>-73.951208</td>\n",
       "      <td>40.778496</td>\n",
       "      <td>263</td>\n",
       "      <td>0.037017</td>\n",
       "      <td>0.000066</td>\n",
       "      <td>Yorkville West</td>\n",
       "      <td>263</td>\n",
       "      <td>Manhattan</td>\n",
       "    </tr>\n",
       "  </tbody>\n",
       "</table>\n",
       "<p>263 rows × 8 columns</p>\n",
       "</div>"
      ],
      "text/plain": [
       "             X          Y  OBJECTID  Shape_Leng  Shape_Area  \\\n",
       "0   -74.176786  40.689516         1    0.116357    0.000782   \n",
       "1   -73.826126  40.625724         2    0.433470    0.004866   \n",
       "2   -73.849479  40.865888         3    0.084341    0.000314   \n",
       "3   -73.977023  40.724152         4    0.043567    0.000112   \n",
       "4   -74.189930  40.550340         5    0.092146    0.000498   \n",
       "..         ...        ...       ...         ...         ...   \n",
       "258 -73.856351  40.899103       259    0.126750    0.000395   \n",
       "259 -73.903713  40.746798       260    0.133514    0.000422   \n",
       "260 -74.012919  40.708976       261    0.027120    0.000034   \n",
       "261 -73.945830  40.776534       262    0.049064    0.000122   \n",
       "262 -73.951208  40.778496       263    0.037017    0.000066   \n",
       "\n",
       "                        zone  LocationID        borough  \n",
       "0             Newark Airport           1            EWR  \n",
       "1                Jamaica Bay           2         Queens  \n",
       "2    Allerton/Pelham Gardens           3          Bronx  \n",
       "3              Alphabet City           4      Manhattan  \n",
       "4              Arden Heights           5  Staten Island  \n",
       "..                       ...         ...            ...  \n",
       "258       Woodlawn/Wakefield         259          Bronx  \n",
       "259                 Woodside         260         Queens  \n",
       "260       World Trade Center         261      Manhattan  \n",
       "261           Yorkville East         262      Manhattan  \n",
       "262           Yorkville West         263      Manhattan  \n",
       "\n",
       "[263 rows x 8 columns]"
      ]
     },
     "execution_count": 54,
     "metadata": {},
     "output_type": "execute_result"
    }
   ],
   "source": [
    "latlong = pd.read_csv('taxi_zones.csv')\n",
    "latlong"
   ]
  },
  {
   "cell_type": "code",
   "execution_count": 55,
   "metadata": {},
   "outputs": [],
   "source": [
    "df2 = df.merge(latlong, left_on='PULocationID', right_on='LocationID')\n",
    "df2.rename(columns={'X': 'pickup_longitude', 'Y': 'pickup_latitude'}, inplace=True)\n",
    "df4 = df2.merge(latlong, left_on='DOLocationID', right_on='LocationID')\n",
    "df4.rename(columns={'X': 'dropoff_longitude', 'Y': 'dropoff_latitude'}, inplace=True)\n",
    "df =df4"
   ]
  },
  {
   "cell_type": "code",
   "execution_count": 56,
   "metadata": {},
   "outputs": [
    {
     "data": {
      "text/html": [
       "<div>\n",
       "<style scoped>\n",
       "    .dataframe tbody tr th:only-of-type {\n",
       "        vertical-align: middle;\n",
       "    }\n",
       "\n",
       "    .dataframe tbody tr th {\n",
       "        vertical-align: top;\n",
       "    }\n",
       "\n",
       "    .dataframe thead th {\n",
       "        text-align: right;\n",
       "    }\n",
       "</style>\n",
       "<table border=\"1\" class=\"dataframe\">\n",
       "  <thead>\n",
       "    <tr style=\"text-align: right;\">\n",
       "      <th></th>\n",
       "      <th>VendorID</th>\n",
       "      <th>tpep_pickup_datetime</th>\n",
       "      <th>tpep_dropoff_datetime</th>\n",
       "      <th>passenger_count</th>\n",
       "      <th>trip_distance</th>\n",
       "      <th>RatecodeID</th>\n",
       "      <th>PULocationID</th>\n",
       "      <th>DOLocationID</th>\n",
       "      <th>fare_amount</th>\n",
       "      <th>mta_tax</th>\n",
       "      <th>...</th>\n",
       "      <th>LocationID_x</th>\n",
       "      <th>borough_x</th>\n",
       "      <th>dropoff_longitude</th>\n",
       "      <th>dropoff_latitude</th>\n",
       "      <th>OBJECTID_y</th>\n",
       "      <th>Shape_Leng_y</th>\n",
       "      <th>Shape_Area_y</th>\n",
       "      <th>zone_y</th>\n",
       "      <th>LocationID_y</th>\n",
       "      <th>borough_y</th>\n",
       "    </tr>\n",
       "  </thead>\n",
       "  <tbody>\n",
       "    <tr>\n",
       "      <th>0</th>\n",
       "      <td>1</td>\n",
       "      <td>2022-09-01 00:28:12</td>\n",
       "      <td>2022-09-01 00:36:22</td>\n",
       "      <td>1.0</td>\n",
       "      <td>2.10</td>\n",
       "      <td>1.0</td>\n",
       "      <td>100</td>\n",
       "      <td>239</td>\n",
       "      <td>9.0</td>\n",
       "      <td>0.5</td>\n",
       "      <td>...</td>\n",
       "      <td>100</td>\n",
       "      <td>Manhattan</td>\n",
       "      <td>-73.978273</td>\n",
       "      <td>40.784107</td>\n",
       "      <td>239</td>\n",
       "      <td>0.063626</td>\n",
       "      <td>0.000205</td>\n",
       "      <td>Upper West Side South</td>\n",
       "      <td>239</td>\n",
       "      <td>Manhattan</td>\n",
       "    </tr>\n",
       "    <tr>\n",
       "      <th>1</th>\n",
       "      <td>1</td>\n",
       "      <td>2022-09-01 01:50:27</td>\n",
       "      <td>2022-09-01 01:59:31</td>\n",
       "      <td>1.0</td>\n",
       "      <td>2.30</td>\n",
       "      <td>1.0</td>\n",
       "      <td>100</td>\n",
       "      <td>239</td>\n",
       "      <td>9.5</td>\n",
       "      <td>0.5</td>\n",
       "      <td>...</td>\n",
       "      <td>100</td>\n",
       "      <td>Manhattan</td>\n",
       "      <td>-73.978273</td>\n",
       "      <td>40.784107</td>\n",
       "      <td>239</td>\n",
       "      <td>0.063626</td>\n",
       "      <td>0.000205</td>\n",
       "      <td>Upper West Side South</td>\n",
       "      <td>239</td>\n",
       "      <td>Manhattan</td>\n",
       "    </tr>\n",
       "    <tr>\n",
       "      <th>2</th>\n",
       "      <td>1</td>\n",
       "      <td>2022-09-01 07:09:15</td>\n",
       "      <td>2022-09-01 07:19:38</td>\n",
       "      <td>4.0</td>\n",
       "      <td>2.20</td>\n",
       "      <td>1.0</td>\n",
       "      <td>100</td>\n",
       "      <td>239</td>\n",
       "      <td>10.0</td>\n",
       "      <td>0.5</td>\n",
       "      <td>...</td>\n",
       "      <td>100</td>\n",
       "      <td>Manhattan</td>\n",
       "      <td>-73.978273</td>\n",
       "      <td>40.784107</td>\n",
       "      <td>239</td>\n",
       "      <td>0.063626</td>\n",
       "      <td>0.000205</td>\n",
       "      <td>Upper West Side South</td>\n",
       "      <td>239</td>\n",
       "      <td>Manhattan</td>\n",
       "    </tr>\n",
       "    <tr>\n",
       "      <th>3</th>\n",
       "      <td>2</td>\n",
       "      <td>2022-09-01 07:10:52</td>\n",
       "      <td>2022-09-01 07:21:36</td>\n",
       "      <td>1.0</td>\n",
       "      <td>2.33</td>\n",
       "      <td>1.0</td>\n",
       "      <td>100</td>\n",
       "      <td>239</td>\n",
       "      <td>10.0</td>\n",
       "      <td>0.5</td>\n",
       "      <td>...</td>\n",
       "      <td>100</td>\n",
       "      <td>Manhattan</td>\n",
       "      <td>-73.978273</td>\n",
       "      <td>40.784107</td>\n",
       "      <td>239</td>\n",
       "      <td>0.063626</td>\n",
       "      <td>0.000205</td>\n",
       "      <td>Upper West Side South</td>\n",
       "      <td>239</td>\n",
       "      <td>Manhattan</td>\n",
       "    </tr>\n",
       "    <tr>\n",
       "      <th>4</th>\n",
       "      <td>1</td>\n",
       "      <td>2022-09-01 08:01:46</td>\n",
       "      <td>2022-09-01 08:10:37</td>\n",
       "      <td>1.0</td>\n",
       "      <td>1.90</td>\n",
       "      <td>1.0</td>\n",
       "      <td>100</td>\n",
       "      <td>239</td>\n",
       "      <td>9.0</td>\n",
       "      <td>0.5</td>\n",
       "      <td>...</td>\n",
       "      <td>100</td>\n",
       "      <td>Manhattan</td>\n",
       "      <td>-73.978273</td>\n",
       "      <td>40.784107</td>\n",
       "      <td>239</td>\n",
       "      <td>0.063626</td>\n",
       "      <td>0.000205</td>\n",
       "      <td>Upper West Side South</td>\n",
       "      <td>239</td>\n",
       "      <td>Manhattan</td>\n",
       "    </tr>\n",
       "  </tbody>\n",
       "</table>\n",
       "<p>5 rows × 28 columns</p>\n",
       "</div>"
      ],
      "text/plain": [
       "   VendorID tpep_pickup_datetime tpep_dropoff_datetime  passenger_count  \\\n",
       "0         1  2022-09-01 00:28:12   2022-09-01 00:36:22              1.0   \n",
       "1         1  2022-09-01 01:50:27   2022-09-01 01:59:31              1.0   \n",
       "2         1  2022-09-01 07:09:15   2022-09-01 07:19:38              4.0   \n",
       "3         2  2022-09-01 07:10:52   2022-09-01 07:21:36              1.0   \n",
       "4         1  2022-09-01 08:01:46   2022-09-01 08:10:37              1.0   \n",
       "\n",
       "   trip_distance  RatecodeID  PULocationID  DOLocationID  fare_amount  \\\n",
       "0           2.10         1.0           100           239          9.0   \n",
       "1           2.30         1.0           100           239          9.5   \n",
       "2           2.20         1.0           100           239         10.0   \n",
       "3           2.33         1.0           100           239         10.0   \n",
       "4           1.90         1.0           100           239          9.0   \n",
       "\n",
       "   mta_tax  ...  LocationID_x  borough_x  dropoff_longitude  dropoff_latitude  \\\n",
       "0      0.5  ...           100  Manhattan         -73.978273         40.784107   \n",
       "1      0.5  ...           100  Manhattan         -73.978273         40.784107   \n",
       "2      0.5  ...           100  Manhattan         -73.978273         40.784107   \n",
       "3      0.5  ...           100  Manhattan         -73.978273         40.784107   \n",
       "4      0.5  ...           100  Manhattan         -73.978273         40.784107   \n",
       "\n",
       "   OBJECTID_y  Shape_Leng_y  Shape_Area_y                 zone_y  \\\n",
       "0         239      0.063626      0.000205  Upper West Side South   \n",
       "1         239      0.063626      0.000205  Upper West Side South   \n",
       "2         239      0.063626      0.000205  Upper West Side South   \n",
       "3         239      0.063626      0.000205  Upper West Side South   \n",
       "4         239      0.063626      0.000205  Upper West Side South   \n",
       "\n",
       "   LocationID_y  borough_y  \n",
       "0           239  Manhattan  \n",
       "1           239  Manhattan  \n",
       "2           239  Manhattan  \n",
       "3           239  Manhattan  \n",
       "4           239  Manhattan  \n",
       "\n",
       "[5 rows x 28 columns]"
      ]
     },
     "execution_count": 56,
     "metadata": {},
     "output_type": "execute_result"
    }
   ],
   "source": [
    "df.head()"
   ]
  },
  {
   "cell_type": "code",
   "execution_count": 57,
   "metadata": {},
   "outputs": [
    {
     "data": {
      "text/html": [
       "<div>\n",
       "<style scoped>\n",
       "    .dataframe tbody tr th:only-of-type {\n",
       "        vertical-align: middle;\n",
       "    }\n",
       "\n",
       "    .dataframe tbody tr th {\n",
       "        vertical-align: top;\n",
       "    }\n",
       "\n",
       "    .dataframe thead th {\n",
       "        text-align: right;\n",
       "    }\n",
       "</style>\n",
       "<table border=\"1\" class=\"dataframe\">\n",
       "  <thead>\n",
       "    <tr style=\"text-align: right;\">\n",
       "      <th></th>\n",
       "      <th>PULocationID</th>\n",
       "      <th>DOLocationID</th>\n",
       "      <th>pickup_longitude</th>\n",
       "      <th>pickup_latitude</th>\n",
       "      <th>dropoff_longitude</th>\n",
       "      <th>dropoff_latitude</th>\n",
       "    </tr>\n",
       "  </thead>\n",
       "  <tbody>\n",
       "    <tr>\n",
       "      <th>0</th>\n",
       "      <td>100</td>\n",
       "      <td>239</td>\n",
       "      <td>-73.988786</td>\n",
       "      <td>40.753514</td>\n",
       "      <td>-73.978273</td>\n",
       "      <td>40.784107</td>\n",
       "    </tr>\n",
       "    <tr>\n",
       "      <th>1</th>\n",
       "      <td>100</td>\n",
       "      <td>239</td>\n",
       "      <td>-73.988786</td>\n",
       "      <td>40.753514</td>\n",
       "      <td>-73.978273</td>\n",
       "      <td>40.784107</td>\n",
       "    </tr>\n",
       "    <tr>\n",
       "      <th>2</th>\n",
       "      <td>100</td>\n",
       "      <td>239</td>\n",
       "      <td>-73.988786</td>\n",
       "      <td>40.753514</td>\n",
       "      <td>-73.978273</td>\n",
       "      <td>40.784107</td>\n",
       "    </tr>\n",
       "    <tr>\n",
       "      <th>3</th>\n",
       "      <td>100</td>\n",
       "      <td>239</td>\n",
       "      <td>-73.988786</td>\n",
       "      <td>40.753514</td>\n",
       "      <td>-73.978273</td>\n",
       "      <td>40.784107</td>\n",
       "    </tr>\n",
       "    <tr>\n",
       "      <th>4</th>\n",
       "      <td>100</td>\n",
       "      <td>239</td>\n",
       "      <td>-73.988786</td>\n",
       "      <td>40.753514</td>\n",
       "      <td>-73.978273</td>\n",
       "      <td>40.784107</td>\n",
       "    </tr>\n",
       "    <tr>\n",
       "      <th>...</th>\n",
       "      <td>...</td>\n",
       "      <td>...</td>\n",
       "      <td>...</td>\n",
       "      <td>...</td>\n",
       "      <td>...</td>\n",
       "      <td>...</td>\n",
       "    </tr>\n",
       "    <tr>\n",
       "      <th>3005023</th>\n",
       "      <td>125</td>\n",
       "      <td>84</td>\n",
       "      <td>-74.007176</td>\n",
       "      <td>40.725376</td>\n",
       "      <td>-74.173937</td>\n",
       "      <td>40.532017</td>\n",
       "    </tr>\n",
       "    <tr>\n",
       "      <th>3005024</th>\n",
       "      <td>5</td>\n",
       "      <td>84</td>\n",
       "      <td>-74.189930</td>\n",
       "      <td>40.550340</td>\n",
       "      <td>-74.173937</td>\n",
       "      <td>40.532017</td>\n",
       "    </tr>\n",
       "    <tr>\n",
       "      <th>3005025</th>\n",
       "      <td>68</td>\n",
       "      <td>99</td>\n",
       "      <td>-73.999940</td>\n",
       "      <td>40.748397</td>\n",
       "      <td>-74.187703</td>\n",
       "      <td>40.579618</td>\n",
       "    </tr>\n",
       "    <tr>\n",
       "      <th>3005026</th>\n",
       "      <td>140</td>\n",
       "      <td>99</td>\n",
       "      <td>-73.954568</td>\n",
       "      <td>40.765507</td>\n",
       "      <td>-74.187703</td>\n",
       "      <td>40.579618</td>\n",
       "    </tr>\n",
       "    <tr>\n",
       "      <th>3005027</th>\n",
       "      <td>42</td>\n",
       "      <td>99</td>\n",
       "      <td>-73.939516</td>\n",
       "      <td>40.821046</td>\n",
       "      <td>-74.187703</td>\n",
       "      <td>40.579618</td>\n",
       "    </tr>\n",
       "  </tbody>\n",
       "</table>\n",
       "<p>3005028 rows × 6 columns</p>\n",
       "</div>"
      ],
      "text/plain": [
       "         PULocationID  DOLocationID  pickup_longitude  pickup_latitude  \\\n",
       "0                 100           239        -73.988786        40.753514   \n",
       "1                 100           239        -73.988786        40.753514   \n",
       "2                 100           239        -73.988786        40.753514   \n",
       "3                 100           239        -73.988786        40.753514   \n",
       "4                 100           239        -73.988786        40.753514   \n",
       "...               ...           ...               ...              ...   \n",
       "3005023           125            84        -74.007176        40.725376   \n",
       "3005024             5            84        -74.189930        40.550340   \n",
       "3005025            68            99        -73.999940        40.748397   \n",
       "3005026           140            99        -73.954568        40.765507   \n",
       "3005027            42            99        -73.939516        40.821046   \n",
       "\n",
       "         dropoff_longitude  dropoff_latitude  \n",
       "0               -73.978273         40.784107  \n",
       "1               -73.978273         40.784107  \n",
       "2               -73.978273         40.784107  \n",
       "3               -73.978273         40.784107  \n",
       "4               -73.978273         40.784107  \n",
       "...                    ...               ...  \n",
       "3005023         -74.173937         40.532017  \n",
       "3005024         -74.173937         40.532017  \n",
       "3005025         -74.187703         40.579618  \n",
       "3005026         -74.187703         40.579618  \n",
       "3005027         -74.187703         40.579618  \n",
       "\n",
       "[3005028 rows x 6 columns]"
      ]
     },
     "execution_count": 57,
     "metadata": {},
     "output_type": "execute_result"
    }
   ],
   "source": [
    "display = df[[\"PULocationID\", \"DOLocationID\", \"pickup_longitude\", \"pickup_latitude\", \"dropoff_longitude\", \"dropoff_latitude\"]]\n",
    "display"
   ]
  },
  {
   "cell_type": "code",
   "execution_count": 58,
   "metadata": {},
   "outputs": [
    {
     "data": {
      "text/plain": [
       "VendorID                          int64\n",
       "tpep_pickup_datetime     datetime64[ns]\n",
       "tpep_dropoff_datetime    datetime64[ns]\n",
       "passenger_count                 float64\n",
       "trip_distance                   float64\n",
       "RatecodeID                      float64\n",
       "PULocationID                      int64\n",
       "DOLocationID                      int64\n",
       "fare_amount                     float64\n",
       "mta_tax                         float64\n",
       "tolls_amount                    float64\n",
       "airport_fee                     float64\n",
       "pickup_longitude                float64\n",
       "pickup_latitude                 float64\n",
       "OBJECTID_x                        int64\n",
       "Shape_Leng_x                    float64\n",
       "Shape_Area_x                    float64\n",
       "zone_x                           object\n",
       "LocationID_x                      int64\n",
       "borough_x                        object\n",
       "dropoff_longitude               float64\n",
       "dropoff_latitude                float64\n",
       "OBJECTID_y                        int64\n",
       "Shape_Leng_y                    float64\n",
       "Shape_Area_y                    float64\n",
       "zone_y                           object\n",
       "LocationID_y                      int64\n",
       "borough_y                        object\n",
       "dtype: object"
      ]
     },
     "execution_count": 58,
     "metadata": {},
     "output_type": "execute_result"
    }
   ],
   "source": [
    "df.dtypes"
   ]
  },
  {
   "cell_type": "markdown",
   "metadata": {},
   "source": [
    "Step 4: Now, we are going to drop the unrequired features i.e 'PULocationID', 'DOLocationID', 'OBJECTID_x', 'Shape_Leng_x', 'Shape_Area_x', 'LocationID_x', 'zone_x', 'borough_x', 'OBJECTID_y', 'Shape_Leng_y', 'Shape_Area_y', 'zone_y','LocationID_y', 'borough_y'."
   ]
  },
  {
   "cell_type": "code",
   "execution_count": 59,
   "metadata": {},
   "outputs": [],
   "source": [
    "df = df.drop(['PULocationID', 'DOLocationID', 'OBJECTID_x', 'Shape_Leng_x', 'Shape_Area_x', 'LocationID_x'],axis=1)"
   ]
  },
  {
   "cell_type": "code",
   "execution_count": 60,
   "metadata": {},
   "outputs": [],
   "source": [
    "df = df.drop(['zone_x', 'borough_x', 'OBJECTID_y', 'Shape_Leng_y', 'Shape_Area_y', 'zone_y', 'LocationID_y', 'borough_y'], axis=1)"
   ]
  },
  {
   "cell_type": "code",
   "execution_count": 61,
   "metadata": {},
   "outputs": [
    {
     "data": {
      "text/plain": [
       "VendorID                          int64\n",
       "tpep_pickup_datetime     datetime64[ns]\n",
       "tpep_dropoff_datetime    datetime64[ns]\n",
       "passenger_count                 float64\n",
       "trip_distance                   float64\n",
       "RatecodeID                      float64\n",
       "fare_amount                     float64\n",
       "mta_tax                         float64\n",
       "tolls_amount                    float64\n",
       "airport_fee                     float64\n",
       "pickup_longitude                float64\n",
       "pickup_latitude                 float64\n",
       "dropoff_longitude               float64\n",
       "dropoff_latitude                float64\n",
       "dtype: object"
      ]
     },
     "execution_count": 61,
     "metadata": {},
     "output_type": "execute_result"
    }
   ],
   "source": [
    "df.dtypes"
   ]
  },
  {
   "cell_type": "markdown",
   "metadata": {},
   "source": [
    "Step 5: We will now remove data where the latitude and longitude of Pickup / Dropoff locations are invalid.\n",
    "\n",
    "Latitude is always range between -90 to 90\n",
    "\n",
    "Longitude is always range between -180 to 180\n",
    "\n",
    "And whatever above this range is wrong data\n",
    "\n",
    "First check any data above this range"
   ]
  },
  {
   "cell_type": "code",
   "execution_count": 62,
   "metadata": {},
   "outputs": [
    {
     "name": "stdout",
     "output_type": "stream",
     "text": [
      "-73.7090705910379 -74.2295465457844\n",
      "40.8998596211143 40.527298175003\n",
      "-73.7090705910379 -74.2295465457844\n",
      "40.8998596211143 40.527298175003\n"
     ]
    }
   ],
   "source": [
    "def min_max():\n",
    "    print(df['pickup_longitude'].max(),df['pickup_longitude'].min())\n",
    "    print(df['pickup_latitude'].max(),df['pickup_latitude'].min())\n",
    "\n",
    "    print(df['dropoff_longitude'].max(),df['dropoff_longitude'].min())\n",
    "    print(df['dropoff_latitude'].max(),df['dropoff_latitude'].min())\n",
    "min_max()"
   ]
  },
  {
   "cell_type": "markdown",
   "metadata": {},
   "source": [
    "Since we see that none of the min/max values of latitudes/longitudes is out of range, there is no need to eliminate data here."
   ]
  },
  {
   "attachments": {},
   "cell_type": "markdown",
   "metadata": {},
   "source": [
    "Step 5: Remove rows where pickup and drop location are same!"
   ]
  },
  {
   "cell_type": "code",
   "execution_count": 63,
   "metadata": {},
   "outputs": [
    {
     "name": "stdout",
     "output_type": "stream",
     "text": [
      "(141530, 14)\n"
     ]
    }
   ],
   "source": [
    "print(df[(df['pickup_longitude']==df['dropoff_longitude']) & (df['pickup_latitude']==df['dropoff_latitude'])].shape)"
   ]
  },
  {
   "cell_type": "code",
   "execution_count": 64,
   "metadata": {},
   "outputs": [],
   "source": [
    "df=df[~((df['pickup_longitude']==df['dropoff_longitude']) & (df['pickup_latitude']==df['dropoff_latitude']))]"
   ]
  },
  {
   "cell_type": "code",
   "execution_count": 65,
   "metadata": {},
   "outputs": [
    {
     "data": {
      "text/plain": [
       "(2863498, 14)"
      ]
     },
     "execution_count": 65,
     "metadata": {},
     "output_type": "execute_result"
    }
   ],
   "source": [
    "df.shape"
   ]
  },
  {
   "cell_type": "markdown",
   "metadata": {},
   "source": [
    "Step 6: Setting boundary for new york latitude longitude and removing rows where pickup/drop is out of this boundary."
   ]
  },
  {
   "cell_type": "code",
   "execution_count": 66,
   "metadata": {},
   "outputs": [],
   "source": [
    "boundary={\"min_lat\":40.573143,\n",
    "         \"min_lang\":-74.252193,\n",
    "         \"max_lat\":41.709555,\n",
    "         \"max_lang\":-72.986532}"
   ]
  },
  {
   "cell_type": "code",
   "execution_count": 67,
   "metadata": {},
   "outputs": [
    {
     "name": "stdout",
     "output_type": "stream",
     "text": [
      "80\n",
      "0\n",
      "288\n",
      "0\n"
     ]
    }
   ],
   "source": [
    "print(df[(df['pickup_latitude']<=boundary['min_lat']) | (df['pickup_latitude']>=boundary['max_lat'])].shape[0])\n",
    "print(df[(df['pickup_longitude']<=boundary['min_lang']) | (df['pickup_longitude']>=boundary['max_lang'])].shape[0])\n",
    "print(df[(df['dropoff_latitude']<=boundary['min_lat']) | (df['dropoff_latitude']>=boundary['max_lat'])].shape[0])\n",
    "print(df[(df['dropoff_longitude']<=boundary['min_lang']) | (df['dropoff_longitude']>=boundary['max_lang'])].shape[0])"
   ]
  },
  {
   "cell_type": "code",
   "execution_count": 68,
   "metadata": {},
   "outputs": [
    {
     "data": {
      "text/plain": [
       "(2863133, 14)"
      ]
     },
     "execution_count": 68,
     "metadata": {},
     "output_type": "execute_result"
    }
   ],
   "source": [
    "df=df[~((df['pickup_latitude']<=boundary['min_lat']) | (df['pickup_latitude']>=boundary['max_lat']))]\n",
    "df=df[~((df['pickup_longitude']<=boundary['min_lang']) | (df['pickup_longitude']>=boundary['max_lang']))]\n",
    "\n",
    "df=df[~((df['dropoff_latitude']<=boundary['min_lat']) | (df['dropoff_latitude']>=boundary['max_lat']))]\n",
    "df=df[~((df['dropoff_longitude']<=boundary['min_lang']) | (df['dropoff_longitude']>=boundary['max_lang']))]\n",
    "\n",
    "df.shape"
   ]
  },
  {
   "cell_type": "markdown",
   "metadata": {},
   "source": [
    "Visualizing the pick up data:"
   ]
  },
  {
   "cell_type": "code",
   "execution_count": 69,
   "metadata": {},
   "outputs": [
    {
     "data": {
      "image/png": "[encoded data removed]",
      "text/plain": [
       "<Figure size 640x480 with 1 Axes>"
      ]
     },
     "metadata": {},
     "output_type": "display_data"
    }
   ],
   "source": [
    "df.plot(y='pickup_latitude',x='pickup_longitude',kind=\"scatter\",alpha=0.7,s=0.02)\n",
    "city_long_border = (-74.03, -73.75)\n",
    "city_lat_border = (40.63, 40.85)\n",
    "plt.title(\"Pickups Data\")\n",
    "\n",
    "plt.ylim(city_lat_border)\n",
    "plt.xlim(city_long_border)\n",
    "plt.show()"
   ]
  },
  {
   "cell_type": "markdown",
   "metadata": {},
   "source": [
    "Visualizing the drop off data:"
   ]
  },
  {
   "cell_type": "code",
   "execution_count": 70,
   "metadata": {},
   "outputs": [
    {
     "data": {
      "image/png": "[encoded data removed]",
      "text/plain": [
       "<Figure size 640x480 with 1 Axes>"
      ]
     },
     "metadata": {},
     "output_type": "display_data"
    }
   ],
   "source": [
    "df.plot(y='dropoff_latitude',x='dropoff_longitude',kind=\"scatter\",alpha=0.5,s=0.02)\n",
    "city_long_border = (-74.03, -73.75)\n",
    "city_lat_border = (40.63, 40.85)\n",
    "plt.title(\"Dropoff Data\")\n",
    "\n",
    "plt.ylim(city_lat_border)\n",
    "plt.xlim(city_long_border)\n",
    "plt.show()"
   ]
  },
  {
   "attachments": {},
   "cell_type": "markdown",
   "metadata": {},
   "source": [
    "Step 7: Fare amount cannot be negative so we remove this data."
   ]
  },
  {
   "cell_type": "code",
   "execution_count": 71,
   "metadata": {},
   "outputs": [
    {
     "data": {
      "text/plain": [
       "14302"
      ]
     },
     "execution_count": 71,
     "metadata": {},
     "output_type": "execute_result"
    }
   ],
   "source": [
    "df[df['fare_amount']<=0]['fare_amount'].count()    "
   ]
  },
  {
   "cell_type": "code",
   "execution_count": 72,
   "metadata": {},
   "outputs": [],
   "source": [
    "df=df[~(df['fare_amount']<=0)]"
   ]
  },
  {
   "cell_type": "markdown",
   "metadata": {},
   "source": [
    "Step 9: Cleaning the data with respect to passenger count"
   ]
  },
  {
   "cell_type": "code",
   "execution_count": 73,
   "metadata": {},
   "outputs": [
    {
     "name": "stdout",
     "output_type": "stream",
     "text": [
      "8\n",
      "0\n"
     ]
    },
    {
     "name": "stderr",
     "output_type": "stream",
     "text": [
      "C:\\Users\\Niyati\\AppData\\Local\\Temp\\ipykernel_1952\\3575461328.py:1: SettingWithCopyWarning: \n",
      "A value is trying to be set on a copy of a slice from a DataFrame.\n",
      "Try using .loc[row_indexer,col_indexer] = value instead\n",
      "\n",
      "See the caveats in the documentation: https://pandas.pydata.org/pandas-docs/stable/user_guide/indexing.html#returning-a-view-versus-a-copy\n",
      "  df['passenger_count']=df['passenger_count'].astype(int)\n"
     ]
    }
   ],
   "source": [
    "df['passenger_count']=df['passenger_count'].astype(int)\n",
    "print(df['passenger_count'].max())\n",
    "print(df['passenger_count'].min())"
   ]
  },
  {
   "cell_type": "code",
   "execution_count": 74,
   "metadata": {},
   "outputs": [
    {
     "data": {
      "text/plain": [
       "<AxesSubplot: xlabel='count', ylabel='passenger_count'>"
      ]
     },
     "execution_count": 74,
     "metadata": {},
     "output_type": "execute_result"
    },
    {
     "data": {
      "image/png": "[encoded data removed]",
      "text/plain": [
       "<Figure size 640x480 with 1 Axes>"
      ]
     },
     "metadata": {},
     "output_type": "display_data"
    }
   ],
   "source": [
    "plt.ticklabel_format(style='plain', axis='x')\n",
    "sns.countplot(y='passenger_count',data=df)"
   ]
  },
  {
   "cell_type": "markdown",
   "metadata": {},
   "source": [
    "We observe that we have some rides where passenger count = 0. These trips are mostly due to cab drivers adding dummy rides just to increase their cab ride count. It is best to drop these kind of trips from our dataset."
   ]
  },
  {
   "cell_type": "code",
   "execution_count": 75,
   "metadata": {},
   "outputs": [
    {
     "data": {
      "text/html": [
       "<div>\n",
       "<style scoped>\n",
       "    .dataframe tbody tr th:only-of-type {\n",
       "        vertical-align: middle;\n",
       "    }\n",
       "\n",
       "    .dataframe tbody tr th {\n",
       "        vertical-align: top;\n",
       "    }\n",
       "\n",
       "    .dataframe thead th {\n",
       "        text-align: right;\n",
       "    }\n",
       "</style>\n",
       "<table border=\"1\" class=\"dataframe\">\n",
       "  <thead>\n",
       "    <tr style=\"text-align: right;\">\n",
       "      <th></th>\n",
       "      <th>VendorID</th>\n",
       "      <th>tpep_pickup_datetime</th>\n",
       "      <th>tpep_dropoff_datetime</th>\n",
       "      <th>passenger_count</th>\n",
       "      <th>trip_distance</th>\n",
       "      <th>RatecodeID</th>\n",
       "      <th>fare_amount</th>\n",
       "      <th>mta_tax</th>\n",
       "      <th>tolls_amount</th>\n",
       "      <th>airport_fee</th>\n",
       "      <th>pickup_longitude</th>\n",
       "      <th>pickup_latitude</th>\n",
       "      <th>dropoff_longitude</th>\n",
       "      <th>dropoff_latitude</th>\n",
       "    </tr>\n",
       "  </thead>\n",
       "  <tbody>\n",
       "    <tr>\n",
       "      <th>38</th>\n",
       "      <td>1</td>\n",
       "      <td>2022-09-02 00:40:35</td>\n",
       "      <td>2022-09-02 00:51:19</td>\n",
       "      <td>0</td>\n",
       "      <td>2.4</td>\n",
       "      <td>1.0</td>\n",
       "      <td>10.0</td>\n",
       "      <td>0.5</td>\n",
       "      <td>0.00</td>\n",
       "      <td>0.00</td>\n",
       "      <td>-73.988786</td>\n",
       "      <td>40.753514</td>\n",
       "      <td>-73.978273</td>\n",
       "      <td>40.784107</td>\n",
       "    </tr>\n",
       "    <tr>\n",
       "      <th>85</th>\n",
       "      <td>1</td>\n",
       "      <td>2022-09-03 14:53:15</td>\n",
       "      <td>2022-09-03 15:08:04</td>\n",
       "      <td>0</td>\n",
       "      <td>2.5</td>\n",
       "      <td>1.0</td>\n",
       "      <td>12.0</td>\n",
       "      <td>0.5</td>\n",
       "      <td>0.00</td>\n",
       "      <td>0.00</td>\n",
       "      <td>-73.988786</td>\n",
       "      <td>40.753514</td>\n",
       "      <td>-73.978273</td>\n",
       "      <td>40.784107</td>\n",
       "    </tr>\n",
       "    <tr>\n",
       "      <th>188</th>\n",
       "      <td>1</td>\n",
       "      <td>2022-09-07 14:54:32</td>\n",
       "      <td>2022-09-07 15:13:56</td>\n",
       "      <td>0</td>\n",
       "      <td>2.6</td>\n",
       "      <td>1.0</td>\n",
       "      <td>14.0</td>\n",
       "      <td>0.5</td>\n",
       "      <td>0.00</td>\n",
       "      <td>0.00</td>\n",
       "      <td>-73.988786</td>\n",
       "      <td>40.753514</td>\n",
       "      <td>-73.978273</td>\n",
       "      <td>40.784107</td>\n",
       "    </tr>\n",
       "    <tr>\n",
       "      <th>279</th>\n",
       "      <td>1</td>\n",
       "      <td>2022-09-10 16:28:03</td>\n",
       "      <td>2022-09-10 16:40:32</td>\n",
       "      <td>0</td>\n",
       "      <td>2.6</td>\n",
       "      <td>1.0</td>\n",
       "      <td>11.0</td>\n",
       "      <td>0.5</td>\n",
       "      <td>0.00</td>\n",
       "      <td>0.00</td>\n",
       "      <td>-73.988786</td>\n",
       "      <td>40.753514</td>\n",
       "      <td>-73.978273</td>\n",
       "      <td>40.784107</td>\n",
       "    </tr>\n",
       "    <tr>\n",
       "      <th>352</th>\n",
       "      <td>1</td>\n",
       "      <td>2022-09-12 22:08:12</td>\n",
       "      <td>2022-09-12 22:14:53</td>\n",
       "      <td>0</td>\n",
       "      <td>2.0</td>\n",
       "      <td>1.0</td>\n",
       "      <td>8.0</td>\n",
       "      <td>0.5</td>\n",
       "      <td>0.00</td>\n",
       "      <td>0.00</td>\n",
       "      <td>-73.988786</td>\n",
       "      <td>40.753514</td>\n",
       "      <td>-73.978273</td>\n",
       "      <td>40.784107</td>\n",
       "    </tr>\n",
       "    <tr>\n",
       "      <th>...</th>\n",
       "      <td>...</td>\n",
       "      <td>...</td>\n",
       "      <td>...</td>\n",
       "      <td>...</td>\n",
       "      <td>...</td>\n",
       "      <td>...</td>\n",
       "      <td>...</td>\n",
       "      <td>...</td>\n",
       "      <td>...</td>\n",
       "      <td>...</td>\n",
       "      <td>...</td>\n",
       "      <td>...</td>\n",
       "      <td>...</td>\n",
       "      <td>...</td>\n",
       "    </tr>\n",
       "    <tr>\n",
       "      <th>3004240</th>\n",
       "      <td>1</td>\n",
       "      <td>2022-09-05 14:27:20</td>\n",
       "      <td>2022-09-05 14:43:09</td>\n",
       "      <td>0</td>\n",
       "      <td>9.7</td>\n",
       "      <td>1.0</td>\n",
       "      <td>27.5</td>\n",
       "      <td>0.5</td>\n",
       "      <td>6.55</td>\n",
       "      <td>1.25</td>\n",
       "      <td>-73.872804</td>\n",
       "      <td>40.774867</td>\n",
       "      <td>-73.820705</td>\n",
       "      <td>40.841475</td>\n",
       "    </tr>\n",
       "    <tr>\n",
       "      <th>3004269</th>\n",
       "      <td>1</td>\n",
       "      <td>2022-09-03 18:52:46</td>\n",
       "      <td>2022-09-03 19:27:21</td>\n",
       "      <td>0</td>\n",
       "      <td>17.2</td>\n",
       "      <td>1.0</td>\n",
       "      <td>48.0</td>\n",
       "      <td>0.5</td>\n",
       "      <td>6.55</td>\n",
       "      <td>1.25</td>\n",
       "      <td>-73.778264</td>\n",
       "      <td>40.642605</td>\n",
       "      <td>-73.820705</td>\n",
       "      <td>40.841475</td>\n",
       "    </tr>\n",
       "    <tr>\n",
       "      <th>3004513</th>\n",
       "      <td>1</td>\n",
       "      <td>2022-09-25 13:34:19</td>\n",
       "      <td>2022-09-25 13:51:07</td>\n",
       "      <td>0</td>\n",
       "      <td>7.5</td>\n",
       "      <td>1.0</td>\n",
       "      <td>22.0</td>\n",
       "      <td>0.5</td>\n",
       "      <td>0.00</td>\n",
       "      <td>1.25</td>\n",
       "      <td>-73.778264</td>\n",
       "      <td>40.642605</td>\n",
       "      <td>-73.882138</td>\n",
       "      <td>40.646872</td>\n",
       "    </tr>\n",
       "    <tr>\n",
       "      <th>3004748</th>\n",
       "      <td>1</td>\n",
       "      <td>2022-09-01 13:41:52</td>\n",
       "      <td>2022-09-01 14:21:56</td>\n",
       "      <td>0</td>\n",
       "      <td>14.5</td>\n",
       "      <td>1.0</td>\n",
       "      <td>45.0</td>\n",
       "      <td>0.5</td>\n",
       "      <td>3.00</td>\n",
       "      <td>0.00</td>\n",
       "      <td>-73.993899</td>\n",
       "      <td>40.766692</td>\n",
       "      <td>-73.879067</td>\n",
       "      <td>40.894746</td>\n",
       "    </tr>\n",
       "    <tr>\n",
       "      <th>3004847</th>\n",
       "      <td>1</td>\n",
       "      <td>2022-09-25 23:11:23</td>\n",
       "      <td>2022-09-25 23:54:01</td>\n",
       "      <td>0</td>\n",
       "      <td>22.5</td>\n",
       "      <td>1.0</td>\n",
       "      <td>60.5</td>\n",
       "      <td>0.5</td>\n",
       "      <td>13.10</td>\n",
       "      <td>1.25</td>\n",
       "      <td>-73.872804</td>\n",
       "      <td>40.774867</td>\n",
       "      <td>-74.092486</td>\n",
       "      <td>40.620128</td>\n",
       "    </tr>\n",
       "  </tbody>\n",
       "</table>\n",
       "<p>53847 rows × 14 columns</p>\n",
       "</div>"
      ],
      "text/plain": [
       "         VendorID tpep_pickup_datetime tpep_dropoff_datetime  passenger_count  \\\n",
       "38              1  2022-09-02 00:40:35   2022-09-02 00:51:19                0   \n",
       "85              1  2022-09-03 14:53:15   2022-09-03 15:08:04                0   \n",
       "188             1  2022-09-07 14:54:32   2022-09-07 15:13:56                0   \n",
       "279             1  2022-09-10 16:28:03   2022-09-10 16:40:32                0   \n",
       "352             1  2022-09-12 22:08:12   2022-09-12 22:14:53                0   \n",
       "...           ...                  ...                   ...              ...   \n",
       "3004240         1  2022-09-05 14:27:20   2022-09-05 14:43:09                0   \n",
       "3004269         1  2022-09-03 18:52:46   2022-09-03 19:27:21                0   \n",
       "3004513         1  2022-09-25 13:34:19   2022-09-25 13:51:07                0   \n",
       "3004748         1  2022-09-01 13:41:52   2022-09-01 14:21:56                0   \n",
       "3004847         1  2022-09-25 23:11:23   2022-09-25 23:54:01                0   \n",
       "\n",
       "         trip_distance  RatecodeID  fare_amount  mta_tax  tolls_amount  \\\n",
       "38                 2.4         1.0         10.0      0.5          0.00   \n",
       "85                 2.5         1.0         12.0      0.5          0.00   \n",
       "188                2.6         1.0         14.0      0.5          0.00   \n",
       "279                2.6         1.0         11.0      0.5          0.00   \n",
       "352                2.0         1.0          8.0      0.5          0.00   \n",
       "...                ...         ...          ...      ...           ...   \n",
       "3004240            9.7         1.0         27.5      0.5          6.55   \n",
       "3004269           17.2         1.0         48.0      0.5          6.55   \n",
       "3004513            7.5         1.0         22.0      0.5          0.00   \n",
       "3004748           14.5         1.0         45.0      0.5          3.00   \n",
       "3004847           22.5         1.0         60.5      0.5         13.10   \n",
       "\n",
       "         airport_fee  pickup_longitude  pickup_latitude  dropoff_longitude  \\\n",
       "38              0.00        -73.988786        40.753514         -73.978273   \n",
       "85              0.00        -73.988786        40.753514         -73.978273   \n",
       "188             0.00        -73.988786        40.753514         -73.978273   \n",
       "279             0.00        -73.988786        40.753514         -73.978273   \n",
       "352             0.00        -73.988786        40.753514         -73.978273   \n",
       "...              ...               ...              ...                ...   \n",
       "3004240         1.25        -73.872804        40.774867         -73.820705   \n",
       "3004269         1.25        -73.778264        40.642605         -73.820705   \n",
       "3004513         1.25        -73.778264        40.642605         -73.882138   \n",
       "3004748         0.00        -73.993899        40.766692         -73.879067   \n",
       "3004847         1.25        -73.872804        40.774867         -74.092486   \n",
       "\n",
       "         dropoff_latitude  \n",
       "38              40.784107  \n",
       "85              40.784107  \n",
       "188             40.784107  \n",
       "279             40.784107  \n",
       "352             40.784107  \n",
       "...                   ...  \n",
       "3004240         40.841475  \n",
       "3004269         40.841475  \n",
       "3004513         40.646872  \n",
       "3004748         40.894746  \n",
       "3004847         40.620128  \n",
       "\n",
       "[53847 rows x 14 columns]"
      ]
     },
     "execution_count": 75,
     "metadata": {},
     "output_type": "execute_result"
    }
   ],
   "source": [
    "df.loc[df['passenger_count'] == 0]"
   ]
  },
  {
   "cell_type": "code",
   "execution_count": 76,
   "metadata": {},
   "outputs": [
    {
     "name": "stderr",
     "output_type": "stream",
     "text": [
      "C:\\Users\\Niyati\\AppData\\Local\\Temp\\ipykernel_1952\\1524584400.py:1: SettingWithCopyWarning: \n",
      "A value is trying to be set on a copy of a slice from a DataFrame\n",
      "\n",
      "See the caveats in the documentation: https://pandas.pydata.org/pandas-docs/stable/user_guide/indexing.html#returning-a-view-versus-a-copy\n",
      "  df.drop(df[df['passenger_count'] == 0].index, inplace = True)\n"
     ]
    }
   ],
   "source": [
    "df.drop(df[df['passenger_count'] == 0].index, inplace = True)"
   ]
  },
  {
   "cell_type": "code",
   "execution_count": 77,
   "metadata": {},
   "outputs": [
    {
     "data": {
      "text/plain": [
       "<AxesSubplot: xlabel='count', ylabel='passenger_count'>"
      ]
     },
     "execution_count": 77,
     "metadata": {},
     "output_type": "execute_result"
    },
    {
     "data": {
      "image/png": "[encoded data removed]",
      "text/plain": [
       "<Figure size 640x480 with 1 Axes>"
      ]
     },
     "metadata": {},
     "output_type": "display_data"
    }
   ],
   "source": [
    "sns.countplot(y='passenger_count',data=df)"
   ]
  },
  {
   "cell_type": "code",
   "execution_count": 78,
   "metadata": {},
   "outputs": [
    {
     "data": {
      "text/plain": [
       "(2794981, 14)"
      ]
     },
     "execution_count": 78,
     "metadata": {},
     "output_type": "execute_result"
    }
   ],
   "source": [
    "df=df[~((df['passenger_count']>6))]\n",
    "df.shape"
   ]
  },
  {
   "cell_type": "code",
   "execution_count": 79,
   "metadata": {},
   "outputs": [
    {
     "data": {
      "text/plain": [
       "<AxesSubplot: xlabel='count', ylabel='passenger_count'>"
      ]
     },
     "execution_count": 79,
     "metadata": {},
     "output_type": "execute_result"
    },
    {
     "data": {
      "image/png": "[encoded data removed]",
      "text/plain": [
       "<Figure size 640x480 with 1 Axes>"
      ]
     },
     "metadata": {},
     "output_type": "display_data"
    }
   ],
   "source": [
    "sns.countplot(y='passenger_count',data=df)"
   ]
  },
  {
   "cell_type": "code",
   "execution_count": 80,
   "metadata": {},
   "outputs": [
    {
     "data": {
      "text/html": [
       "<div>\n",
       "<style scoped>\n",
       "    .dataframe tbody tr th:only-of-type {\n",
       "        vertical-align: middle;\n",
       "    }\n",
       "\n",
       "    .dataframe tbody tr th {\n",
       "        vertical-align: top;\n",
       "    }\n",
       "\n",
       "    .dataframe thead th {\n",
       "        text-align: right;\n",
       "    }\n",
       "</style>\n",
       "<table border=\"1\" class=\"dataframe\">\n",
       "  <thead>\n",
       "    <tr style=\"text-align: right;\">\n",
       "      <th></th>\n",
       "      <th>VendorID</th>\n",
       "      <th>tpep_pickup_datetime</th>\n",
       "      <th>tpep_dropoff_datetime</th>\n",
       "      <th>passenger_count</th>\n",
       "      <th>trip_distance</th>\n",
       "      <th>RatecodeID</th>\n",
       "      <th>fare_amount</th>\n",
       "      <th>mta_tax</th>\n",
       "      <th>tolls_amount</th>\n",
       "      <th>airport_fee</th>\n",
       "      <th>pickup_longitude</th>\n",
       "      <th>pickup_latitude</th>\n",
       "      <th>dropoff_longitude</th>\n",
       "      <th>dropoff_latitude</th>\n",
       "    </tr>\n",
       "  </thead>\n",
       "  <tbody>\n",
       "    <tr>\n",
       "      <th>0</th>\n",
       "      <td>1</td>\n",
       "      <td>2022-09-01 00:28:12</td>\n",
       "      <td>2022-09-01 00:36:22</td>\n",
       "      <td>1</td>\n",
       "      <td>2.10</td>\n",
       "      <td>1.0</td>\n",
       "      <td>9.0</td>\n",
       "      <td>0.5</td>\n",
       "      <td>0.0</td>\n",
       "      <td>0.0</td>\n",
       "      <td>-73.988786</td>\n",
       "      <td>40.753514</td>\n",
       "      <td>-73.978273</td>\n",
       "      <td>40.784107</td>\n",
       "    </tr>\n",
       "    <tr>\n",
       "      <th>1</th>\n",
       "      <td>1</td>\n",
       "      <td>2022-09-01 01:50:27</td>\n",
       "      <td>2022-09-01 01:59:31</td>\n",
       "      <td>1</td>\n",
       "      <td>2.30</td>\n",
       "      <td>1.0</td>\n",
       "      <td>9.5</td>\n",
       "      <td>0.5</td>\n",
       "      <td>0.0</td>\n",
       "      <td>0.0</td>\n",
       "      <td>-73.988786</td>\n",
       "      <td>40.753514</td>\n",
       "      <td>-73.978273</td>\n",
       "      <td>40.784107</td>\n",
       "    </tr>\n",
       "    <tr>\n",
       "      <th>2</th>\n",
       "      <td>1</td>\n",
       "      <td>2022-09-01 07:09:15</td>\n",
       "      <td>2022-09-01 07:19:38</td>\n",
       "      <td>4</td>\n",
       "      <td>2.20</td>\n",
       "      <td>1.0</td>\n",
       "      <td>10.0</td>\n",
       "      <td>0.5</td>\n",
       "      <td>0.0</td>\n",
       "      <td>0.0</td>\n",
       "      <td>-73.988786</td>\n",
       "      <td>40.753514</td>\n",
       "      <td>-73.978273</td>\n",
       "      <td>40.784107</td>\n",
       "    </tr>\n",
       "    <tr>\n",
       "      <th>3</th>\n",
       "      <td>2</td>\n",
       "      <td>2022-09-01 07:10:52</td>\n",
       "      <td>2022-09-01 07:21:36</td>\n",
       "      <td>1</td>\n",
       "      <td>2.33</td>\n",
       "      <td>1.0</td>\n",
       "      <td>10.0</td>\n",
       "      <td>0.5</td>\n",
       "      <td>0.0</td>\n",
       "      <td>0.0</td>\n",
       "      <td>-73.988786</td>\n",
       "      <td>40.753514</td>\n",
       "      <td>-73.978273</td>\n",
       "      <td>40.784107</td>\n",
       "    </tr>\n",
       "    <tr>\n",
       "      <th>4</th>\n",
       "      <td>1</td>\n",
       "      <td>2022-09-01 08:01:46</td>\n",
       "      <td>2022-09-01 08:10:37</td>\n",
       "      <td>1</td>\n",
       "      <td>1.90</td>\n",
       "      <td>1.0</td>\n",
       "      <td>9.0</td>\n",
       "      <td>0.5</td>\n",
       "      <td>0.0</td>\n",
       "      <td>0.0</td>\n",
       "      <td>-73.988786</td>\n",
       "      <td>40.753514</td>\n",
       "      <td>-73.978273</td>\n",
       "      <td>40.784107</td>\n",
       "    </tr>\n",
       "  </tbody>\n",
       "</table>\n",
       "</div>"
      ],
      "text/plain": [
       "   VendorID tpep_pickup_datetime tpep_dropoff_datetime  passenger_count  \\\n",
       "0         1  2022-09-01 00:28:12   2022-09-01 00:36:22                1   \n",
       "1         1  2022-09-01 01:50:27   2022-09-01 01:59:31                1   \n",
       "2         1  2022-09-01 07:09:15   2022-09-01 07:19:38                4   \n",
       "3         2  2022-09-01 07:10:52   2022-09-01 07:21:36                1   \n",
       "4         1  2022-09-01 08:01:46   2022-09-01 08:10:37                1   \n",
       "\n",
       "   trip_distance  RatecodeID  fare_amount  mta_tax  tolls_amount  airport_fee  \\\n",
       "0           2.10         1.0          9.0      0.5           0.0          0.0   \n",
       "1           2.30         1.0          9.5      0.5           0.0          0.0   \n",
       "2           2.20         1.0         10.0      0.5           0.0          0.0   \n",
       "3           2.33         1.0         10.0      0.5           0.0          0.0   \n",
       "4           1.90         1.0          9.0      0.5           0.0          0.0   \n",
       "\n",
       "   pickup_longitude  pickup_latitude  dropoff_longitude  dropoff_latitude  \n",
       "0        -73.988786        40.753514         -73.978273         40.784107  \n",
       "1        -73.988786        40.753514         -73.978273         40.784107  \n",
       "2        -73.988786        40.753514         -73.978273         40.784107  \n",
       "3        -73.988786        40.753514         -73.978273         40.784107  \n",
       "4        -73.988786        40.753514         -73.978273         40.784107  "
      ]
     },
     "execution_count": 80,
     "metadata": {},
     "output_type": "execute_result"
    }
   ],
   "source": [
    "df.head()"
   ]
  },
  {
   "cell_type": "markdown",
   "metadata": {},
   "source": [
    "## Feature Engineering"
   ]
  },
  {
   "attachments": {},
   "cell_type": "markdown",
   "metadata": {},
   "source": [
    "##### 1. Extract day from tpep_pickup_datetime"
   ]
  },
  {
   "cell_type": "code",
   "execution_count": 81,
   "metadata": {},
   "outputs": [
    {
     "name": "stderr",
     "output_type": "stream",
     "text": [
      "C:\\Users\\Niyati\\AppData\\Local\\Temp\\ipykernel_1952\\1543458787.py:1: SettingWithCopyWarning: \n",
      "A value is trying to be set on a copy of a slice from a DataFrame.\n",
      "Try using .loc[row_indexer,col_indexer] = value instead\n",
      "\n",
      "See the caveats in the documentation: https://pandas.pydata.org/pandas-docs/stable/user_guide/indexing.html#returning-a-view-versus-a-copy\n",
      "  df['pickup_day']=pd.to_datetime(df.tpep_pickup_datetime,format='%Y-%m-%d %H:%M:%S UTC').dt.day\n"
     ]
    }
   ],
   "source": [
    "df['pickup_day']=pd.to_datetime(df.tpep_pickup_datetime,format='%Y-%m-%d %H:%M:%S UTC').dt.day"
   ]
  },
  {
   "cell_type": "code",
   "execution_count": 82,
   "metadata": {},
   "outputs": [
    {
     "data": {
      "text/html": [
       "<div>\n",
       "<style scoped>\n",
       "    .dataframe tbody tr th:only-of-type {\n",
       "        vertical-align: middle;\n",
       "    }\n",
       "\n",
       "    .dataframe tbody tr th {\n",
       "        vertical-align: top;\n",
       "    }\n",
       "\n",
       "    .dataframe thead th {\n",
       "        text-align: right;\n",
       "    }\n",
       "</style>\n",
       "<table border=\"1\" class=\"dataframe\">\n",
       "  <thead>\n",
       "    <tr style=\"text-align: right;\">\n",
       "      <th></th>\n",
       "      <th>VendorID</th>\n",
       "      <th>tpep_pickup_datetime</th>\n",
       "      <th>tpep_dropoff_datetime</th>\n",
       "      <th>passenger_count</th>\n",
       "      <th>trip_distance</th>\n",
       "      <th>RatecodeID</th>\n",
       "      <th>fare_amount</th>\n",
       "      <th>mta_tax</th>\n",
       "      <th>tolls_amount</th>\n",
       "      <th>airport_fee</th>\n",
       "      <th>pickup_longitude</th>\n",
       "      <th>pickup_latitude</th>\n",
       "      <th>dropoff_longitude</th>\n",
       "      <th>dropoff_latitude</th>\n",
       "      <th>pickup_day</th>\n",
       "    </tr>\n",
       "  </thead>\n",
       "  <tbody>\n",
       "    <tr>\n",
       "      <th>0</th>\n",
       "      <td>1</td>\n",
       "      <td>2022-09-01 00:28:12</td>\n",
       "      <td>2022-09-01 00:36:22</td>\n",
       "      <td>1</td>\n",
       "      <td>2.10</td>\n",
       "      <td>1.0</td>\n",
       "      <td>9.0</td>\n",
       "      <td>0.5</td>\n",
       "      <td>0.0</td>\n",
       "      <td>0.0</td>\n",
       "      <td>-73.988786</td>\n",
       "      <td>40.753514</td>\n",
       "      <td>-73.978273</td>\n",
       "      <td>40.784107</td>\n",
       "      <td>1</td>\n",
       "    </tr>\n",
       "    <tr>\n",
       "      <th>1</th>\n",
       "      <td>1</td>\n",
       "      <td>2022-09-01 01:50:27</td>\n",
       "      <td>2022-09-01 01:59:31</td>\n",
       "      <td>1</td>\n",
       "      <td>2.30</td>\n",
       "      <td>1.0</td>\n",
       "      <td>9.5</td>\n",
       "      <td>0.5</td>\n",
       "      <td>0.0</td>\n",
       "      <td>0.0</td>\n",
       "      <td>-73.988786</td>\n",
       "      <td>40.753514</td>\n",
       "      <td>-73.978273</td>\n",
       "      <td>40.784107</td>\n",
       "      <td>1</td>\n",
       "    </tr>\n",
       "    <tr>\n",
       "      <th>2</th>\n",
       "      <td>1</td>\n",
       "      <td>2022-09-01 07:09:15</td>\n",
       "      <td>2022-09-01 07:19:38</td>\n",
       "      <td>4</td>\n",
       "      <td>2.20</td>\n",
       "      <td>1.0</td>\n",
       "      <td>10.0</td>\n",
       "      <td>0.5</td>\n",
       "      <td>0.0</td>\n",
       "      <td>0.0</td>\n",
       "      <td>-73.988786</td>\n",
       "      <td>40.753514</td>\n",
       "      <td>-73.978273</td>\n",
       "      <td>40.784107</td>\n",
       "      <td>1</td>\n",
       "    </tr>\n",
       "    <tr>\n",
       "      <th>3</th>\n",
       "      <td>2</td>\n",
       "      <td>2022-09-01 07:10:52</td>\n",
       "      <td>2022-09-01 07:21:36</td>\n",
       "      <td>1</td>\n",
       "      <td>2.33</td>\n",
       "      <td>1.0</td>\n",
       "      <td>10.0</td>\n",
       "      <td>0.5</td>\n",
       "      <td>0.0</td>\n",
       "      <td>0.0</td>\n",
       "      <td>-73.988786</td>\n",
       "      <td>40.753514</td>\n",
       "      <td>-73.978273</td>\n",
       "      <td>40.784107</td>\n",
       "      <td>1</td>\n",
       "    </tr>\n",
       "    <tr>\n",
       "      <th>4</th>\n",
       "      <td>1</td>\n",
       "      <td>2022-09-01 08:01:46</td>\n",
       "      <td>2022-09-01 08:10:37</td>\n",
       "      <td>1</td>\n",
       "      <td>1.90</td>\n",
       "      <td>1.0</td>\n",
       "      <td>9.0</td>\n",
       "      <td>0.5</td>\n",
       "      <td>0.0</td>\n",
       "      <td>0.0</td>\n",
       "      <td>-73.988786</td>\n",
       "      <td>40.753514</td>\n",
       "      <td>-73.978273</td>\n",
       "      <td>40.784107</td>\n",
       "      <td>1</td>\n",
       "    </tr>\n",
       "  </tbody>\n",
       "</table>\n",
       "</div>"
      ],
      "text/plain": [
       "   VendorID tpep_pickup_datetime tpep_dropoff_datetime  passenger_count  \\\n",
       "0         1  2022-09-01 00:28:12   2022-09-01 00:36:22                1   \n",
       "1         1  2022-09-01 01:50:27   2022-09-01 01:59:31                1   \n",
       "2         1  2022-09-01 07:09:15   2022-09-01 07:19:38                4   \n",
       "3         2  2022-09-01 07:10:52   2022-09-01 07:21:36                1   \n",
       "4         1  2022-09-01 08:01:46   2022-09-01 08:10:37                1   \n",
       "\n",
       "   trip_distance  RatecodeID  fare_amount  mta_tax  tolls_amount  airport_fee  \\\n",
       "0           2.10         1.0          9.0      0.5           0.0          0.0   \n",
       "1           2.30         1.0          9.5      0.5           0.0          0.0   \n",
       "2           2.20         1.0         10.0      0.5           0.0          0.0   \n",
       "3           2.33         1.0         10.0      0.5           0.0          0.0   \n",
       "4           1.90         1.0          9.0      0.5           0.0          0.0   \n",
       "\n",
       "   pickup_longitude  pickup_latitude  dropoff_longitude  dropoff_latitude  \\\n",
       "0        -73.988786        40.753514         -73.978273         40.784107   \n",
       "1        -73.988786        40.753514         -73.978273         40.784107   \n",
       "2        -73.988786        40.753514         -73.978273         40.784107   \n",
       "3        -73.988786        40.753514         -73.978273         40.784107   \n",
       "4        -73.988786        40.753514         -73.978273         40.784107   \n",
       "\n",
       "   pickup_day  \n",
       "0           1  \n",
       "1           1  \n",
       "2           1  \n",
       "3           1  \n",
       "4           1  "
      ]
     },
     "execution_count": 82,
     "metadata": {},
     "output_type": "execute_result"
    }
   ],
   "source": [
    "df.head()"
   ]
  },
  {
   "attachments": {},
   "cell_type": "markdown",
   "metadata": {},
   "source": [
    "##### 2. Extract weekday from tpep_pickup_datetime\n",
    "\n",
    "0 is Monday\n",
    "\n",
    "6 is Sunday"
   ]
  },
  {
   "cell_type": "code",
   "execution_count": 83,
   "metadata": {},
   "outputs": [
    {
     "name": "stderr",
     "output_type": "stream",
     "text": [
      "C:\\Users\\Niyati\\AppData\\Local\\Temp\\ipykernel_1952\\4271109461.py:1: SettingWithCopyWarning: \n",
      "A value is trying to be set on a copy of a slice from a DataFrame.\n",
      "Try using .loc[row_indexer,col_indexer] = value instead\n",
      "\n",
      "See the caveats in the documentation: https://pandas.pydata.org/pandas-docs/stable/user_guide/indexing.html#returning-a-view-versus-a-copy\n",
      "  df['pickup_weekday'] = pd.DatetimeIndex(df.tpep_pickup_datetime).dayofweek\n"
     ]
    }
   ],
   "source": [
    "df['pickup_weekday'] = pd.DatetimeIndex(df.tpep_pickup_datetime).dayofweek"
   ]
  },
  {
   "attachments": {},
   "cell_type": "markdown",
   "metadata": {},
   "source": [
    "##### 3. Extract pickup hour from tpep_pickup_datetime column"
   ]
  },
  {
   "cell_type": "code",
   "execution_count": 84,
   "metadata": {},
   "outputs": [
    {
     "name": "stderr",
     "output_type": "stream",
     "text": [
      "C:\\Users\\Niyati\\AppData\\Local\\Temp\\ipykernel_1952\\2585876509.py:1: SettingWithCopyWarning: \n",
      "A value is trying to be set on a copy of a slice from a DataFrame.\n",
      "Try using .loc[row_indexer,col_indexer] = value instead\n",
      "\n",
      "See the caveats in the documentation: https://pandas.pydata.org/pandas-docs/stable/user_guide/indexing.html#returning-a-view-versus-a-copy\n",
      "  df['pickup_hour']=pd.to_datetime(df.tpep_pickup_datetime,format='%Y-%m-%d %H:%M:%S UTC').dt.hour\n"
     ]
    },
    {
     "data": {
      "text/html": [
       "<div>\n",
       "<style scoped>\n",
       "    .dataframe tbody tr th:only-of-type {\n",
       "        vertical-align: middle;\n",
       "    }\n",
       "\n",
       "    .dataframe tbody tr th {\n",
       "        vertical-align: top;\n",
       "    }\n",
       "\n",
       "    .dataframe thead th {\n",
       "        text-align: right;\n",
       "    }\n",
       "</style>\n",
       "<table border=\"1\" class=\"dataframe\">\n",
       "  <thead>\n",
       "    <tr style=\"text-align: right;\">\n",
       "      <th></th>\n",
       "      <th>VendorID</th>\n",
       "      <th>tpep_pickup_datetime</th>\n",
       "      <th>tpep_dropoff_datetime</th>\n",
       "      <th>passenger_count</th>\n",
       "      <th>trip_distance</th>\n",
       "      <th>RatecodeID</th>\n",
       "      <th>fare_amount</th>\n",
       "      <th>mta_tax</th>\n",
       "      <th>tolls_amount</th>\n",
       "      <th>airport_fee</th>\n",
       "      <th>pickup_longitude</th>\n",
       "      <th>pickup_latitude</th>\n",
       "      <th>dropoff_longitude</th>\n",
       "      <th>dropoff_latitude</th>\n",
       "      <th>pickup_day</th>\n",
       "      <th>pickup_weekday</th>\n",
       "      <th>pickup_hour</th>\n",
       "    </tr>\n",
       "  </thead>\n",
       "  <tbody>\n",
       "    <tr>\n",
       "      <th>0</th>\n",
       "      <td>1</td>\n",
       "      <td>2022-09-01 00:28:12</td>\n",
       "      <td>2022-09-01 00:36:22</td>\n",
       "      <td>1</td>\n",
       "      <td>2.10</td>\n",
       "      <td>1.0</td>\n",
       "      <td>9.0</td>\n",
       "      <td>0.5</td>\n",
       "      <td>0.0</td>\n",
       "      <td>0.0</td>\n",
       "      <td>-73.988786</td>\n",
       "      <td>40.753514</td>\n",
       "      <td>-73.978273</td>\n",
       "      <td>40.784107</td>\n",
       "      <td>1</td>\n",
       "      <td>3</td>\n",
       "      <td>0</td>\n",
       "    </tr>\n",
       "    <tr>\n",
       "      <th>1</th>\n",
       "      <td>1</td>\n",
       "      <td>2022-09-01 01:50:27</td>\n",
       "      <td>2022-09-01 01:59:31</td>\n",
       "      <td>1</td>\n",
       "      <td>2.30</td>\n",
       "      <td>1.0</td>\n",
       "      <td>9.5</td>\n",
       "      <td>0.5</td>\n",
       "      <td>0.0</td>\n",
       "      <td>0.0</td>\n",
       "      <td>-73.988786</td>\n",
       "      <td>40.753514</td>\n",
       "      <td>-73.978273</td>\n",
       "      <td>40.784107</td>\n",
       "      <td>1</td>\n",
       "      <td>3</td>\n",
       "      <td>1</td>\n",
       "    </tr>\n",
       "    <tr>\n",
       "      <th>2</th>\n",
       "      <td>1</td>\n",
       "      <td>2022-09-01 07:09:15</td>\n",
       "      <td>2022-09-01 07:19:38</td>\n",
       "      <td>4</td>\n",
       "      <td>2.20</td>\n",
       "      <td>1.0</td>\n",
       "      <td>10.0</td>\n",
       "      <td>0.5</td>\n",
       "      <td>0.0</td>\n",
       "      <td>0.0</td>\n",
       "      <td>-73.988786</td>\n",
       "      <td>40.753514</td>\n",
       "      <td>-73.978273</td>\n",
       "      <td>40.784107</td>\n",
       "      <td>1</td>\n",
       "      <td>3</td>\n",
       "      <td>7</td>\n",
       "    </tr>\n",
       "    <tr>\n",
       "      <th>3</th>\n",
       "      <td>2</td>\n",
       "      <td>2022-09-01 07:10:52</td>\n",
       "      <td>2022-09-01 07:21:36</td>\n",
       "      <td>1</td>\n",
       "      <td>2.33</td>\n",
       "      <td>1.0</td>\n",
       "      <td>10.0</td>\n",
       "      <td>0.5</td>\n",
       "      <td>0.0</td>\n",
       "      <td>0.0</td>\n",
       "      <td>-73.988786</td>\n",
       "      <td>40.753514</td>\n",
       "      <td>-73.978273</td>\n",
       "      <td>40.784107</td>\n",
       "      <td>1</td>\n",
       "      <td>3</td>\n",
       "      <td>7</td>\n",
       "    </tr>\n",
       "    <tr>\n",
       "      <th>4</th>\n",
       "      <td>1</td>\n",
       "      <td>2022-09-01 08:01:46</td>\n",
       "      <td>2022-09-01 08:10:37</td>\n",
       "      <td>1</td>\n",
       "      <td>1.90</td>\n",
       "      <td>1.0</td>\n",
       "      <td>9.0</td>\n",
       "      <td>0.5</td>\n",
       "      <td>0.0</td>\n",
       "      <td>0.0</td>\n",
       "      <td>-73.988786</td>\n",
       "      <td>40.753514</td>\n",
       "      <td>-73.978273</td>\n",
       "      <td>40.784107</td>\n",
       "      <td>1</td>\n",
       "      <td>3</td>\n",
       "      <td>8</td>\n",
       "    </tr>\n",
       "  </tbody>\n",
       "</table>\n",
       "</div>"
      ],
      "text/plain": [
       "   VendorID tpep_pickup_datetime tpep_dropoff_datetime  passenger_count  \\\n",
       "0         1  2022-09-01 00:28:12   2022-09-01 00:36:22                1   \n",
       "1         1  2022-09-01 01:50:27   2022-09-01 01:59:31                1   \n",
       "2         1  2022-09-01 07:09:15   2022-09-01 07:19:38                4   \n",
       "3         2  2022-09-01 07:10:52   2022-09-01 07:21:36                1   \n",
       "4         1  2022-09-01 08:01:46   2022-09-01 08:10:37                1   \n",
       "\n",
       "   trip_distance  RatecodeID  fare_amount  mta_tax  tolls_amount  airport_fee  \\\n",
       "0           2.10         1.0          9.0      0.5           0.0          0.0   \n",
       "1           2.30         1.0          9.5      0.5           0.0          0.0   \n",
       "2           2.20         1.0         10.0      0.5           0.0          0.0   \n",
       "3           2.33         1.0         10.0      0.5           0.0          0.0   \n",
       "4           1.90         1.0          9.0      0.5           0.0          0.0   \n",
       "\n",
       "   pickup_longitude  pickup_latitude  dropoff_longitude  dropoff_latitude  \\\n",
       "0        -73.988786        40.753514         -73.978273         40.784107   \n",
       "1        -73.988786        40.753514         -73.978273         40.784107   \n",
       "2        -73.988786        40.753514         -73.978273         40.784107   \n",
       "3        -73.988786        40.753514         -73.978273         40.784107   \n",
       "4        -73.988786        40.753514         -73.978273         40.784107   \n",
       "\n",
       "   pickup_day  pickup_weekday  pickup_hour  \n",
       "0           1               3            0  \n",
       "1           1               3            1  \n",
       "2           1               3            7  \n",
       "3           1               3            7  \n",
       "4           1               3            8  "
      ]
     },
     "execution_count": 84,
     "metadata": {},
     "output_type": "execute_result"
    }
   ],
   "source": [
    "df['pickup_hour']=pd.to_datetime(df.tpep_pickup_datetime,format='%Y-%m-%d %H:%M:%S UTC').dt.hour\n",
    "df.head()"
   ]
  },
  {
   "cell_type": "markdown",
   "metadata": {},
   "source": [
    "##### 4. Mid-night Trip\n",
    "Let's add the feature called mid night trip since usually fares during night hours are high compare to day time\n",
    "\n",
    "The trip between night 11'o clock to morning 5'o clock are labelled mid night trip"
   ]
  },
  {
   "cell_type": "code",
   "execution_count": 85,
   "metadata": {},
   "outputs": [
    {
     "name": "stderr",
     "output_type": "stream",
     "text": [
      "C:\\Users\\Niyati\\AppData\\Local\\Temp\\ipykernel_1952\\4119953358.py:1: SettingWithCopyWarning: \n",
      "A value is trying to be set on a copy of a slice from a DataFrame.\n",
      "Try using .loc[row_indexer,col_indexer] = value instead\n",
      "\n",
      "See the caveats in the documentation: https://pandas.pydata.org/pandas-docs/stable/user_guide/indexing.html#returning-a-view-versus-a-copy\n",
      "  df['mid_night_trip']=((df['pickup_hour']>23) | (df['pickup_hour']<6)).astype(int)\n"
     ]
    },
    {
     "data": {
      "text/html": [
       "<div>\n",
       "<style scoped>\n",
       "    .dataframe tbody tr th:only-of-type {\n",
       "        vertical-align: middle;\n",
       "    }\n",
       "\n",
       "    .dataframe tbody tr th {\n",
       "        vertical-align: top;\n",
       "    }\n",
       "\n",
       "    .dataframe thead th {\n",
       "        text-align: right;\n",
       "    }\n",
       "</style>\n",
       "<table border=\"1\" class=\"dataframe\">\n",
       "  <thead>\n",
       "    <tr style=\"text-align: right;\">\n",
       "      <th></th>\n",
       "      <th>VendorID</th>\n",
       "      <th>tpep_pickup_datetime</th>\n",
       "      <th>tpep_dropoff_datetime</th>\n",
       "      <th>passenger_count</th>\n",
       "      <th>trip_distance</th>\n",
       "      <th>RatecodeID</th>\n",
       "      <th>fare_amount</th>\n",
       "      <th>mta_tax</th>\n",
       "      <th>tolls_amount</th>\n",
       "      <th>airport_fee</th>\n",
       "      <th>pickup_longitude</th>\n",
       "      <th>pickup_latitude</th>\n",
       "      <th>dropoff_longitude</th>\n",
       "      <th>dropoff_latitude</th>\n",
       "      <th>pickup_day</th>\n",
       "      <th>pickup_weekday</th>\n",
       "      <th>pickup_hour</th>\n",
       "      <th>mid_night_trip</th>\n",
       "    </tr>\n",
       "  </thead>\n",
       "  <tbody>\n",
       "    <tr>\n",
       "      <th>0</th>\n",
       "      <td>1</td>\n",
       "      <td>2022-09-01 00:28:12</td>\n",
       "      <td>2022-09-01 00:36:22</td>\n",
       "      <td>1</td>\n",
       "      <td>2.10</td>\n",
       "      <td>1.0</td>\n",
       "      <td>9.0</td>\n",
       "      <td>0.5</td>\n",
       "      <td>0.0</td>\n",
       "      <td>0.0</td>\n",
       "      <td>-73.988786</td>\n",
       "      <td>40.753514</td>\n",
       "      <td>-73.978273</td>\n",
       "      <td>40.784107</td>\n",
       "      <td>1</td>\n",
       "      <td>3</td>\n",
       "      <td>0</td>\n",
       "      <td>1</td>\n",
       "    </tr>\n",
       "    <tr>\n",
       "      <th>1</th>\n",
       "      <td>1</td>\n",
       "      <td>2022-09-01 01:50:27</td>\n",
       "      <td>2022-09-01 01:59:31</td>\n",
       "      <td>1</td>\n",
       "      <td>2.30</td>\n",
       "      <td>1.0</td>\n",
       "      <td>9.5</td>\n",
       "      <td>0.5</td>\n",
       "      <td>0.0</td>\n",
       "      <td>0.0</td>\n",
       "      <td>-73.988786</td>\n",
       "      <td>40.753514</td>\n",
       "      <td>-73.978273</td>\n",
       "      <td>40.784107</td>\n",
       "      <td>1</td>\n",
       "      <td>3</td>\n",
       "      <td>1</td>\n",
       "      <td>1</td>\n",
       "    </tr>\n",
       "    <tr>\n",
       "      <th>2</th>\n",
       "      <td>1</td>\n",
       "      <td>2022-09-01 07:09:15</td>\n",
       "      <td>2022-09-01 07:19:38</td>\n",
       "      <td>4</td>\n",
       "      <td>2.20</td>\n",
       "      <td>1.0</td>\n",
       "      <td>10.0</td>\n",
       "      <td>0.5</td>\n",
       "      <td>0.0</td>\n",
       "      <td>0.0</td>\n",
       "      <td>-73.988786</td>\n",
       "      <td>40.753514</td>\n",
       "      <td>-73.978273</td>\n",
       "      <td>40.784107</td>\n",
       "      <td>1</td>\n",
       "      <td>3</td>\n",
       "      <td>7</td>\n",
       "      <td>0</td>\n",
       "    </tr>\n",
       "    <tr>\n",
       "      <th>3</th>\n",
       "      <td>2</td>\n",
       "      <td>2022-09-01 07:10:52</td>\n",
       "      <td>2022-09-01 07:21:36</td>\n",
       "      <td>1</td>\n",
       "      <td>2.33</td>\n",
       "      <td>1.0</td>\n",
       "      <td>10.0</td>\n",
       "      <td>0.5</td>\n",
       "      <td>0.0</td>\n",
       "      <td>0.0</td>\n",
       "      <td>-73.988786</td>\n",
       "      <td>40.753514</td>\n",
       "      <td>-73.978273</td>\n",
       "      <td>40.784107</td>\n",
       "      <td>1</td>\n",
       "      <td>3</td>\n",
       "      <td>7</td>\n",
       "      <td>0</td>\n",
       "    </tr>\n",
       "    <tr>\n",
       "      <th>4</th>\n",
       "      <td>1</td>\n",
       "      <td>2022-09-01 08:01:46</td>\n",
       "      <td>2022-09-01 08:10:37</td>\n",
       "      <td>1</td>\n",
       "      <td>1.90</td>\n",
       "      <td>1.0</td>\n",
       "      <td>9.0</td>\n",
       "      <td>0.5</td>\n",
       "      <td>0.0</td>\n",
       "      <td>0.0</td>\n",
       "      <td>-73.988786</td>\n",
       "      <td>40.753514</td>\n",
       "      <td>-73.978273</td>\n",
       "      <td>40.784107</td>\n",
       "      <td>1</td>\n",
       "      <td>3</td>\n",
       "      <td>8</td>\n",
       "      <td>0</td>\n",
       "    </tr>\n",
       "  </tbody>\n",
       "</table>\n",
       "</div>"
      ],
      "text/plain": [
       "   VendorID tpep_pickup_datetime tpep_dropoff_datetime  passenger_count  \\\n",
       "0         1  2022-09-01 00:28:12   2022-09-01 00:36:22                1   \n",
       "1         1  2022-09-01 01:50:27   2022-09-01 01:59:31                1   \n",
       "2         1  2022-09-01 07:09:15   2022-09-01 07:19:38                4   \n",
       "3         2  2022-09-01 07:10:52   2022-09-01 07:21:36                1   \n",
       "4         1  2022-09-01 08:01:46   2022-09-01 08:10:37                1   \n",
       "\n",
       "   trip_distance  RatecodeID  fare_amount  mta_tax  tolls_amount  airport_fee  \\\n",
       "0           2.10         1.0          9.0      0.5           0.0          0.0   \n",
       "1           2.30         1.0          9.5      0.5           0.0          0.0   \n",
       "2           2.20         1.0         10.0      0.5           0.0          0.0   \n",
       "3           2.33         1.0         10.0      0.5           0.0          0.0   \n",
       "4           1.90         1.0          9.0      0.5           0.0          0.0   \n",
       "\n",
       "   pickup_longitude  pickup_latitude  dropoff_longitude  dropoff_latitude  \\\n",
       "0        -73.988786        40.753514         -73.978273         40.784107   \n",
       "1        -73.988786        40.753514         -73.978273         40.784107   \n",
       "2        -73.988786        40.753514         -73.978273         40.784107   \n",
       "3        -73.988786        40.753514         -73.978273         40.784107   \n",
       "4        -73.988786        40.753514         -73.978273         40.784107   \n",
       "\n",
       "   pickup_day  pickup_weekday  pickup_hour  mid_night_trip  \n",
       "0           1               3            0               1  \n",
       "1           1               3            1               1  \n",
       "2           1               3            7               0  \n",
       "3           1               3            7               0  \n",
       "4           1               3            8               0  "
      ]
     },
     "execution_count": 85,
     "metadata": {},
     "output_type": "execute_result"
    }
   ],
   "source": [
    "df['mid_night_trip']=((df['pickup_hour']>23) | (df['pickup_hour']<6)).astype(int)\n",
    "df.head()"
   ]
  },
  {
   "cell_type": "markdown",
   "metadata": {},
   "source": [
    "##### 5. Rush Hour Trip\n",
    "New York City has rush hour means heavy traffic from 4 PM to 8 PM\n",
    "\n",
    "So fare rates may differ from other time"
   ]
  },
  {
   "cell_type": "code",
   "execution_count": 86,
   "metadata": {},
   "outputs": [
    {
     "name": "stderr",
     "output_type": "stream",
     "text": [
      "C:\\Users\\Niyati\\AppData\\Local\\Temp\\ipykernel_1952\\37992619.py:1: SettingWithCopyWarning: \n",
      "A value is trying to be set on a copy of a slice from a DataFrame.\n",
      "Try using .loc[row_indexer,col_indexer] = value instead\n",
      "\n",
      "See the caveats in the documentation: https://pandas.pydata.org/pandas-docs/stable/user_guide/indexing.html#returning-a-view-versus-a-copy\n",
      "  df['rush_hour_trip']=((df['pickup_hour']>=16) & (df['pickup_hour']<=20)).astype(int)\n"
     ]
    },
    {
     "data": {
      "text/html": [
       "<div>\n",
       "<style scoped>\n",
       "    .dataframe tbody tr th:only-of-type {\n",
       "        vertical-align: middle;\n",
       "    }\n",
       "\n",
       "    .dataframe tbody tr th {\n",
       "        vertical-align: top;\n",
       "    }\n",
       "\n",
       "    .dataframe thead th {\n",
       "        text-align: right;\n",
       "    }\n",
       "</style>\n",
       "<table border=\"1\" class=\"dataframe\">\n",
       "  <thead>\n",
       "    <tr style=\"text-align: right;\">\n",
       "      <th></th>\n",
       "      <th>VendorID</th>\n",
       "      <th>tpep_pickup_datetime</th>\n",
       "      <th>tpep_dropoff_datetime</th>\n",
       "      <th>passenger_count</th>\n",
       "      <th>trip_distance</th>\n",
       "      <th>RatecodeID</th>\n",
       "      <th>fare_amount</th>\n",
       "      <th>mta_tax</th>\n",
       "      <th>tolls_amount</th>\n",
       "      <th>airport_fee</th>\n",
       "      <th>pickup_longitude</th>\n",
       "      <th>pickup_latitude</th>\n",
       "      <th>dropoff_longitude</th>\n",
       "      <th>dropoff_latitude</th>\n",
       "      <th>pickup_day</th>\n",
       "      <th>pickup_weekday</th>\n",
       "      <th>pickup_hour</th>\n",
       "      <th>mid_night_trip</th>\n",
       "      <th>rush_hour_trip</th>\n",
       "    </tr>\n",
       "  </thead>\n",
       "  <tbody>\n",
       "    <tr>\n",
       "      <th>0</th>\n",
       "      <td>1</td>\n",
       "      <td>2022-09-01 00:28:12</td>\n",
       "      <td>2022-09-01 00:36:22</td>\n",
       "      <td>1</td>\n",
       "      <td>2.10</td>\n",
       "      <td>1.0</td>\n",
       "      <td>9.0</td>\n",
       "      <td>0.5</td>\n",
       "      <td>0.0</td>\n",
       "      <td>0.0</td>\n",
       "      <td>-73.988786</td>\n",
       "      <td>40.753514</td>\n",
       "      <td>-73.978273</td>\n",
       "      <td>40.784107</td>\n",
       "      <td>1</td>\n",
       "      <td>3</td>\n",
       "      <td>0</td>\n",
       "      <td>1</td>\n",
       "      <td>0</td>\n",
       "    </tr>\n",
       "    <tr>\n",
       "      <th>1</th>\n",
       "      <td>1</td>\n",
       "      <td>2022-09-01 01:50:27</td>\n",
       "      <td>2022-09-01 01:59:31</td>\n",
       "      <td>1</td>\n",
       "      <td>2.30</td>\n",
       "      <td>1.0</td>\n",
       "      <td>9.5</td>\n",
       "      <td>0.5</td>\n",
       "      <td>0.0</td>\n",
       "      <td>0.0</td>\n",
       "      <td>-73.988786</td>\n",
       "      <td>40.753514</td>\n",
       "      <td>-73.978273</td>\n",
       "      <td>40.784107</td>\n",
       "      <td>1</td>\n",
       "      <td>3</td>\n",
       "      <td>1</td>\n",
       "      <td>1</td>\n",
       "      <td>0</td>\n",
       "    </tr>\n",
       "    <tr>\n",
       "      <th>2</th>\n",
       "      <td>1</td>\n",
       "      <td>2022-09-01 07:09:15</td>\n",
       "      <td>2022-09-01 07:19:38</td>\n",
       "      <td>4</td>\n",
       "      <td>2.20</td>\n",
       "      <td>1.0</td>\n",
       "      <td>10.0</td>\n",
       "      <td>0.5</td>\n",
       "      <td>0.0</td>\n",
       "      <td>0.0</td>\n",
       "      <td>-73.988786</td>\n",
       "      <td>40.753514</td>\n",
       "      <td>-73.978273</td>\n",
       "      <td>40.784107</td>\n",
       "      <td>1</td>\n",
       "      <td>3</td>\n",
       "      <td>7</td>\n",
       "      <td>0</td>\n",
       "      <td>0</td>\n",
       "    </tr>\n",
       "    <tr>\n",
       "      <th>3</th>\n",
       "      <td>2</td>\n",
       "      <td>2022-09-01 07:10:52</td>\n",
       "      <td>2022-09-01 07:21:36</td>\n",
       "      <td>1</td>\n",
       "      <td>2.33</td>\n",
       "      <td>1.0</td>\n",
       "      <td>10.0</td>\n",
       "      <td>0.5</td>\n",
       "      <td>0.0</td>\n",
       "      <td>0.0</td>\n",
       "      <td>-73.988786</td>\n",
       "      <td>40.753514</td>\n",
       "      <td>-73.978273</td>\n",
       "      <td>40.784107</td>\n",
       "      <td>1</td>\n",
       "      <td>3</td>\n",
       "      <td>7</td>\n",
       "      <td>0</td>\n",
       "      <td>0</td>\n",
       "    </tr>\n",
       "    <tr>\n",
       "      <th>4</th>\n",
       "      <td>1</td>\n",
       "      <td>2022-09-01 08:01:46</td>\n",
       "      <td>2022-09-01 08:10:37</td>\n",
       "      <td>1</td>\n",
       "      <td>1.90</td>\n",
       "      <td>1.0</td>\n",
       "      <td>9.0</td>\n",
       "      <td>0.5</td>\n",
       "      <td>0.0</td>\n",
       "      <td>0.0</td>\n",
       "      <td>-73.988786</td>\n",
       "      <td>40.753514</td>\n",
       "      <td>-73.978273</td>\n",
       "      <td>40.784107</td>\n",
       "      <td>1</td>\n",
       "      <td>3</td>\n",
       "      <td>8</td>\n",
       "      <td>0</td>\n",
       "      <td>0</td>\n",
       "    </tr>\n",
       "  </tbody>\n",
       "</table>\n",
       "</div>"
      ],
      "text/plain": [
       "   VendorID tpep_pickup_datetime tpep_dropoff_datetime  passenger_count  \\\n",
       "0         1  2022-09-01 00:28:12   2022-09-01 00:36:22                1   \n",
       "1         1  2022-09-01 01:50:27   2022-09-01 01:59:31                1   \n",
       "2         1  2022-09-01 07:09:15   2022-09-01 07:19:38                4   \n",
       "3         2  2022-09-01 07:10:52   2022-09-01 07:21:36                1   \n",
       "4         1  2022-09-01 08:01:46   2022-09-01 08:10:37                1   \n",
       "\n",
       "   trip_distance  RatecodeID  fare_amount  mta_tax  tolls_amount  airport_fee  \\\n",
       "0           2.10         1.0          9.0      0.5           0.0          0.0   \n",
       "1           2.30         1.0          9.5      0.5           0.0          0.0   \n",
       "2           2.20         1.0         10.0      0.5           0.0          0.0   \n",
       "3           2.33         1.0         10.0      0.5           0.0          0.0   \n",
       "4           1.90         1.0          9.0      0.5           0.0          0.0   \n",
       "\n",
       "   pickup_longitude  pickup_latitude  dropoff_longitude  dropoff_latitude  \\\n",
       "0        -73.988786        40.753514         -73.978273         40.784107   \n",
       "1        -73.988786        40.753514         -73.978273         40.784107   \n",
       "2        -73.988786        40.753514         -73.978273         40.784107   \n",
       "3        -73.988786        40.753514         -73.978273         40.784107   \n",
       "4        -73.988786        40.753514         -73.978273         40.784107   \n",
       "\n",
       "   pickup_day  pickup_weekday  pickup_hour  mid_night_trip  rush_hour_trip  \n",
       "0           1               3            0               1               0  \n",
       "1           1               3            1               1               0  \n",
       "2           1               3            7               0               0  \n",
       "3           1               3            7               0               0  \n",
       "4           1               3            8               0               0  "
      ]
     },
     "execution_count": 86,
     "metadata": {},
     "output_type": "execute_result"
    }
   ],
   "source": [
    "df['rush_hour_trip']=((df['pickup_hour']>=16) & (df['pickup_hour']<=20)).astype(int)\n",
    "df.head()"
   ]
  },
  {
   "attachments": {},
   "cell_type": "markdown",
   "metadata": {},
   "source": [
    "#### 6. Calculate distance between pickup and drop coordinates\n",
    "\n",
    "Trip distance and fare amount are directly corelated. If the distance increases, the fare amount increases as well.\n",
    "\n",
    "We will use python's geopy library to add column trip_distance which will have distance between two coordinates"
   ]
  },
  {
   "cell_type": "code",
   "execution_count": 87,
   "metadata": {},
   "outputs": [],
   "source": [
    "def distance_calculate(lat,long,drop_lat,drop_long):    \n",
    "    newport_ri = (lat,long)\n",
    "    cleveland_oh = (drop_lat,drop_long)\n",
    "    dist=geodesic(newport_ri, cleveland_oh).km\n",
    "    return dist"
   ]
  },
  {
   "cell_type": "markdown",
   "metadata": {},
   "source": [
    "Since our dataset is very huge and calculating trip distance for each trip takes a lot of time, we will consider a fraction of our dataset for further processing as follows:"
   ]
  },
  {
   "cell_type": "code",
   "execution_count": 88,
   "metadata": {},
   "outputs": [
    {
     "data": {
      "text/plain": [
       "(279498, 19)"
      ]
     },
     "execution_count": 88,
     "metadata": {},
     "output_type": "execute_result"
    }
   ],
   "source": [
    "df = df.sample(frac=0.1)\n",
    "df.shape"
   ]
  },
  {
   "cell_type": "code",
   "execution_count": 89,
   "metadata": {},
   "outputs": [
    {
     "data": {
      "text/html": [
       "<div>\n",
       "<style scoped>\n",
       "    .dataframe tbody tr th:only-of-type {\n",
       "        vertical-align: middle;\n",
       "    }\n",
       "\n",
       "    .dataframe tbody tr th {\n",
       "        vertical-align: top;\n",
       "    }\n",
       "\n",
       "    .dataframe thead th {\n",
       "        text-align: right;\n",
       "    }\n",
       "</style>\n",
       "<table border=\"1\" class=\"dataframe\">\n",
       "  <thead>\n",
       "    <tr style=\"text-align: right;\">\n",
       "      <th></th>\n",
       "      <th>VendorID</th>\n",
       "      <th>tpep_pickup_datetime</th>\n",
       "      <th>tpep_dropoff_datetime</th>\n",
       "      <th>passenger_count</th>\n",
       "      <th>trip_distance</th>\n",
       "      <th>RatecodeID</th>\n",
       "      <th>fare_amount</th>\n",
       "      <th>mta_tax</th>\n",
       "      <th>tolls_amount</th>\n",
       "      <th>airport_fee</th>\n",
       "      <th>pickup_longitude</th>\n",
       "      <th>pickup_latitude</th>\n",
       "      <th>dropoff_longitude</th>\n",
       "      <th>dropoff_latitude</th>\n",
       "      <th>pickup_day</th>\n",
       "      <th>pickup_weekday</th>\n",
       "      <th>pickup_hour</th>\n",
       "      <th>mid_night_trip</th>\n",
       "      <th>rush_hour_trip</th>\n",
       "    </tr>\n",
       "  </thead>\n",
       "  <tbody>\n",
       "    <tr>\n",
       "      <th>235013</th>\n",
       "      <td>2</td>\n",
       "      <td>2022-09-12 00:30:52</td>\n",
       "      <td>2022-09-12 00:48:38</td>\n",
       "      <td>2</td>\n",
       "      <td>9.025111</td>\n",
       "      <td>1.0</td>\n",
       "      <td>27.0</td>\n",
       "      <td>0.5</td>\n",
       "      <td>6.55</td>\n",
       "      <td>1.25</td>\n",
       "      <td>-73.872804</td>\n",
       "      <td>40.774867</td>\n",
       "      <td>-73.977432</td>\n",
       "      <td>40.758226</td>\n",
       "      <td>12</td>\n",
       "      <td>0</td>\n",
       "      <td>0</td>\n",
       "      <td>1</td>\n",
       "      <td>0</td>\n",
       "    </tr>\n",
       "    <tr>\n",
       "      <th>2296494</th>\n",
       "      <td>2</td>\n",
       "      <td>2022-09-13 16:01:29</td>\n",
       "      <td>2022-09-13 17:08:01</td>\n",
       "      <td>2</td>\n",
       "      <td>21.656089</td>\n",
       "      <td>2.0</td>\n",
       "      <td>52.0</td>\n",
       "      <td>0.5</td>\n",
       "      <td>0.00</td>\n",
       "      <td>0.00</td>\n",
       "      <td>-73.978367</td>\n",
       "      <td>40.764425</td>\n",
       "      <td>-73.778264</td>\n",
       "      <td>40.642605</td>\n",
       "      <td>13</td>\n",
       "      <td>1</td>\n",
       "      <td>16</td>\n",
       "      <td>0</td>\n",
       "      <td>1</td>\n",
       "    </tr>\n",
       "    <tr>\n",
       "      <th>40747</th>\n",
       "      <td>2</td>\n",
       "      <td>2022-09-15 21:28:08</td>\n",
       "      <td>2022-09-15 21:50:25</td>\n",
       "      <td>2</td>\n",
       "      <td>6.399089</td>\n",
       "      <td>1.0</td>\n",
       "      <td>17.5</td>\n",
       "      <td>0.5</td>\n",
       "      <td>0.00</td>\n",
       "      <td>0.00</td>\n",
       "      <td>-73.998678</td>\n",
       "      <td>40.728612</td>\n",
       "      <td>-73.978273</td>\n",
       "      <td>40.784107</td>\n",
       "      <td>15</td>\n",
       "      <td>3</td>\n",
       "      <td>21</td>\n",
       "      <td>0</td>\n",
       "      <td>0</td>\n",
       "    </tr>\n",
       "    <tr>\n",
       "      <th>2236208</th>\n",
       "      <td>2</td>\n",
       "      <td>2022-09-11 01:37:51</td>\n",
       "      <td>2022-09-11 01:44:06</td>\n",
       "      <td>1</td>\n",
       "      <td>0.548293</td>\n",
       "      <td>1.0</td>\n",
       "      <td>6.0</td>\n",
       "      <td>0.5</td>\n",
       "      <td>0.00</td>\n",
       "      <td>0.00</td>\n",
       "      <td>-73.984176</td>\n",
       "      <td>40.759845</td>\n",
       "      <td>-73.989857</td>\n",
       "      <td>40.762237</td>\n",
       "      <td>11</td>\n",
       "      <td>6</td>\n",
       "      <td>1</td>\n",
       "      <td>1</td>\n",
       "      <td>0</td>\n",
       "    </tr>\n",
       "    <tr>\n",
       "      <th>1833177</th>\n",
       "      <td>2</td>\n",
       "      <td>2022-09-01 21:54:02</td>\n",
       "      <td>2022-09-01 21:59:46</td>\n",
       "      <td>2</td>\n",
       "      <td>3.016133</td>\n",
       "      <td>1.0</td>\n",
       "      <td>6.5</td>\n",
       "      <td>0.5</td>\n",
       "      <td>0.00</td>\n",
       "      <td>0.00</td>\n",
       "      <td>-73.977432</td>\n",
       "      <td>40.758226</td>\n",
       "      <td>-73.956972</td>\n",
       "      <td>40.780491</td>\n",
       "      <td>1</td>\n",
       "      <td>3</td>\n",
       "      <td>21</td>\n",
       "      <td>0</td>\n",
       "      <td>0</td>\n",
       "    </tr>\n",
       "  </tbody>\n",
       "</table>\n",
       "</div>"
      ],
      "text/plain": [
       "         VendorID tpep_pickup_datetime tpep_dropoff_datetime  passenger_count  \\\n",
       "235013          2  2022-09-12 00:30:52   2022-09-12 00:48:38                2   \n",
       "2296494         2  2022-09-13 16:01:29   2022-09-13 17:08:01                2   \n",
       "40747           2  2022-09-15 21:28:08   2022-09-15 21:50:25                2   \n",
       "2236208         2  2022-09-11 01:37:51   2022-09-11 01:44:06                1   \n",
       "1833177         2  2022-09-01 21:54:02   2022-09-01 21:59:46                2   \n",
       "\n",
       "         trip_distance  RatecodeID  fare_amount  mta_tax  tolls_amount  \\\n",
       "235013        9.025111         1.0         27.0      0.5          6.55   \n",
       "2296494      21.656089         2.0         52.0      0.5          0.00   \n",
       "40747         6.399089         1.0         17.5      0.5          0.00   \n",
       "2236208       0.548293         1.0          6.0      0.5          0.00   \n",
       "1833177       3.016133         1.0          6.5      0.5          0.00   \n",
       "\n",
       "         airport_fee  pickup_longitude  pickup_latitude  dropoff_longitude  \\\n",
       "235013          1.25        -73.872804        40.774867         -73.977432   \n",
       "2296494         0.00        -73.978367        40.764425         -73.778264   \n",
       "40747           0.00        -73.998678        40.728612         -73.978273   \n",
       "2236208         0.00        -73.984176        40.759845         -73.989857   \n",
       "1833177         0.00        -73.977432        40.758226         -73.956972   \n",
       "\n",
       "         dropoff_latitude  pickup_day  pickup_weekday  pickup_hour  \\\n",
       "235013          40.758226          12               0            0   \n",
       "2296494         40.642605          13               1           16   \n",
       "40747           40.784107          15               3           21   \n",
       "2236208         40.762237          11               6            1   \n",
       "1833177         40.780491           1               3           21   \n",
       "\n",
       "         mid_night_trip  rush_hour_trip  \n",
       "235013                1               0  \n",
       "2296494               0               1  \n",
       "40747                 0               0  \n",
       "2236208               1               0  \n",
       "1833177               0               0  "
      ]
     },
     "execution_count": 89,
     "metadata": {},
     "output_type": "execute_result"
    }
   ],
   "source": [
    "df['trip_distance']=list(map(distance_calculate,df['pickup_latitude'],df['pickup_longitude'],df['dropoff_latitude'],df['dropoff_longitude']))\n",
    "df.head()"
   ]
  },
  {
   "cell_type": "markdown",
   "metadata": {},
   "source": [
    "#### 7. Mapping"
   ]
  },
  {
   "cell_type": "markdown",
   "metadata": {},
   "source": [
    "Convert specific pickup and drop Coordinates into location\n",
    "\n",
    "We have set the boundary for the JFK Airport, Manhattan, Brooklyn, LaGuardia, Bronx"
   ]
  },
  {
   "cell_type": "code",
   "execution_count": 90,
   "metadata": {},
   "outputs": [],
   "source": [
    "#JFK Airport \n",
    "JFK={\"min_long\":-73.81,\n",
    "    \"min_lat\":40.63,\n",
    "    \"max_long\":-73.77,\n",
    "    \"max_lat\":40.67}\n",
    "\n",
    "#Manhattan \n",
    "Manhattan={\n",
    "    \"min_long\":-74.02,\n",
    "    \"min_lat\":40.70,\n",
    "    \"max_long\":-73.93,\n",
    "    \"max_lat\":40.85}\n",
    "\n",
    "#Brooklyn\n",
    "Brooklyn={\n",
    "    \"min_long\":-74.01,\n",
    "    \"min_lat\":40.62,\n",
    "    \"max_long\":-73.96,\n",
    "    \"max_lat\":40.70 }\n",
    "\n",
    "#LaGuardia\n",
    "LaGuardia={\n",
    "    \"min_long\":-73.89,\n",
    "    \"min_lat\":40.76,\n",
    "    \"max_long\":-73.85,\n",
    "    \"max_lat\":40.79}\n",
    "\n",
    "#Bronx\n",
    "Bronx={\n",
    "    \"min_long\":-73.935,\n",
    "    \"min_lat\":40.79,\n",
    "    \"max_long\":-73.88,\n",
    "    \"max_lat\":40.89}"
   ]
  },
  {
   "cell_type": "markdown",
   "metadata": {},
   "source": [
    "place_mapping function which will take lat,lang and bounday area varibale it will map to particular area\n",
    "\n",
    "It will return 1 if particular lat,lang's are within specific boundary.\n",
    "\n",
    "e.g pickup coordinates which are within boundary for JFK Airport said to be JFK pickup trip and vice versa for drop"
   ]
  },
  {
   "cell_type": "code",
   "execution_count": 91,
   "metadata": {},
   "outputs": [],
   "source": [
    "def place_mapping(lat,lang,place_area):\n",
    "    if (lat>= place_area['min_lat']) & (lat<= place_area['max_lat']) & (lang>= place_area['min_long']) & (lang<= place_area['max_long']):\n",
    "        return 1\n",
    "    return 0"
   ]
  },
  {
   "cell_type": "code",
   "execution_count": 92,
   "metadata": {},
   "outputs": [],
   "source": [
    "df['pickup_manhattan']=df.apply(lambda row:place_mapping(row['pickup_latitude'],row['pickup_longitude'],Manhattan),axis=1)\n",
    "df['pickup_jfk']=df.apply(lambda row:place_mapping(row['pickup_latitude'],row['pickup_longitude'],JFK),axis=1)\n",
    "df['pickup_brooklyn']=df.apply(lambda row:place_mapping(row['pickup_latitude'],row['pickup_longitude'],Brooklyn),axis=1)\n",
    "df['pickup_bronx']=df.apply(lambda row:place_mapping(row['pickup_latitude'],row['pickup_longitude'],Bronx),axis=1)\n",
    "df['pickup_laGuardia']=df.apply(lambda row:place_mapping(row['pickup_latitude'],row['pickup_longitude'],LaGuardia),axis=1)"
   ]
  },
  {
   "cell_type": "code",
   "execution_count": 93,
   "metadata": {},
   "outputs": [],
   "source": [
    "df['drop_manhattan']=df.apply(lambda row:place_mapping(row['dropoff_latitude'],row['dropoff_longitude'],Manhattan),axis=1)\n",
    "df['drop_jfk']=df.apply(lambda row:place_mapping(row['dropoff_latitude'],row['dropoff_longitude'],JFK),axis=1)\n",
    "df['drop_brooklyn']=df.apply(lambda row:place_mapping(row['dropoff_latitude'],row['dropoff_longitude'],Brooklyn),axis=1)\n",
    "df['drop_bronx']=df.apply(lambda row:place_mapping(row['dropoff_latitude'],row['dropoff_longitude'],Bronx),axis=1)\n",
    "df['drop_laGuardia']=df.apply(lambda row:place_mapping(row['dropoff_latitude'],row['dropoff_longitude'],LaGuardia),axis=1)"
   ]
  },
  {
   "cell_type": "markdown",
   "metadata": {},
   "source": [
    "Now, we can remove tpep_dropoff_datetime and tpep_pickup_datetime as we have got new useful features extracted out of it."
   ]
  },
  {
   "cell_type": "code",
   "execution_count": 94,
   "metadata": {},
   "outputs": [
    {
     "data": {
      "text/html": [
       "<div>\n",
       "<style scoped>\n",
       "    .dataframe tbody tr th:only-of-type {\n",
       "        vertical-align: middle;\n",
       "    }\n",
       "\n",
       "    .dataframe tbody tr th {\n",
       "        vertical-align: top;\n",
       "    }\n",
       "\n",
       "    .dataframe thead th {\n",
       "        text-align: right;\n",
       "    }\n",
       "</style>\n",
       "<table border=\"1\" class=\"dataframe\">\n",
       "  <thead>\n",
       "    <tr style=\"text-align: right;\">\n",
       "      <th></th>\n",
       "      <th>VendorID</th>\n",
       "      <th>passenger_count</th>\n",
       "      <th>trip_distance</th>\n",
       "      <th>RatecodeID</th>\n",
       "      <th>fare_amount</th>\n",
       "      <th>mta_tax</th>\n",
       "      <th>tolls_amount</th>\n",
       "      <th>airport_fee</th>\n",
       "      <th>pickup_longitude</th>\n",
       "      <th>pickup_latitude</th>\n",
       "      <th>...</th>\n",
       "      <th>pickup_manhattan</th>\n",
       "      <th>pickup_jfk</th>\n",
       "      <th>pickup_brooklyn</th>\n",
       "      <th>pickup_bronx</th>\n",
       "      <th>pickup_laGuardia</th>\n",
       "      <th>drop_manhattan</th>\n",
       "      <th>drop_jfk</th>\n",
       "      <th>drop_brooklyn</th>\n",
       "      <th>drop_bronx</th>\n",
       "      <th>drop_laGuardia</th>\n",
       "    </tr>\n",
       "  </thead>\n",
       "  <tbody>\n",
       "    <tr>\n",
       "      <th>235013</th>\n",
       "      <td>2</td>\n",
       "      <td>2</td>\n",
       "      <td>9.025111</td>\n",
       "      <td>1.0</td>\n",
       "      <td>27.0</td>\n",
       "      <td>0.5</td>\n",
       "      <td>6.55</td>\n",
       "      <td>1.25</td>\n",
       "      <td>-73.872804</td>\n",
       "      <td>40.774867</td>\n",
       "      <td>...</td>\n",
       "      <td>0</td>\n",
       "      <td>0</td>\n",
       "      <td>0</td>\n",
       "      <td>0</td>\n",
       "      <td>1</td>\n",
       "      <td>1</td>\n",
       "      <td>0</td>\n",
       "      <td>0</td>\n",
       "      <td>0</td>\n",
       "      <td>0</td>\n",
       "    </tr>\n",
       "    <tr>\n",
       "      <th>2296494</th>\n",
       "      <td>2</td>\n",
       "      <td>2</td>\n",
       "      <td>21.656089</td>\n",
       "      <td>2.0</td>\n",
       "      <td>52.0</td>\n",
       "      <td>0.5</td>\n",
       "      <td>0.00</td>\n",
       "      <td>0.00</td>\n",
       "      <td>-73.978367</td>\n",
       "      <td>40.764425</td>\n",
       "      <td>...</td>\n",
       "      <td>1</td>\n",
       "      <td>0</td>\n",
       "      <td>0</td>\n",
       "      <td>0</td>\n",
       "      <td>0</td>\n",
       "      <td>0</td>\n",
       "      <td>1</td>\n",
       "      <td>0</td>\n",
       "      <td>0</td>\n",
       "      <td>0</td>\n",
       "    </tr>\n",
       "    <tr>\n",
       "      <th>40747</th>\n",
       "      <td>2</td>\n",
       "      <td>2</td>\n",
       "      <td>6.399089</td>\n",
       "      <td>1.0</td>\n",
       "      <td>17.5</td>\n",
       "      <td>0.5</td>\n",
       "      <td>0.00</td>\n",
       "      <td>0.00</td>\n",
       "      <td>-73.998678</td>\n",
       "      <td>40.728612</td>\n",
       "      <td>...</td>\n",
       "      <td>1</td>\n",
       "      <td>0</td>\n",
       "      <td>0</td>\n",
       "      <td>0</td>\n",
       "      <td>0</td>\n",
       "      <td>1</td>\n",
       "      <td>0</td>\n",
       "      <td>0</td>\n",
       "      <td>0</td>\n",
       "      <td>0</td>\n",
       "    </tr>\n",
       "    <tr>\n",
       "      <th>2236208</th>\n",
       "      <td>2</td>\n",
       "      <td>1</td>\n",
       "      <td>0.548293</td>\n",
       "      <td>1.0</td>\n",
       "      <td>6.0</td>\n",
       "      <td>0.5</td>\n",
       "      <td>0.00</td>\n",
       "      <td>0.00</td>\n",
       "      <td>-73.984176</td>\n",
       "      <td>40.759845</td>\n",
       "      <td>...</td>\n",
       "      <td>1</td>\n",
       "      <td>0</td>\n",
       "      <td>0</td>\n",
       "      <td>0</td>\n",
       "      <td>0</td>\n",
       "      <td>1</td>\n",
       "      <td>0</td>\n",
       "      <td>0</td>\n",
       "      <td>0</td>\n",
       "      <td>0</td>\n",
       "    </tr>\n",
       "    <tr>\n",
       "      <th>1833177</th>\n",
       "      <td>2</td>\n",
       "      <td>2</td>\n",
       "      <td>3.016133</td>\n",
       "      <td>1.0</td>\n",
       "      <td>6.5</td>\n",
       "      <td>0.5</td>\n",
       "      <td>0.00</td>\n",
       "      <td>0.00</td>\n",
       "      <td>-73.977432</td>\n",
       "      <td>40.758226</td>\n",
       "      <td>...</td>\n",
       "      <td>1</td>\n",
       "      <td>0</td>\n",
       "      <td>0</td>\n",
       "      <td>0</td>\n",
       "      <td>0</td>\n",
       "      <td>1</td>\n",
       "      <td>0</td>\n",
       "      <td>0</td>\n",
       "      <td>0</td>\n",
       "      <td>0</td>\n",
       "    </tr>\n",
       "  </tbody>\n",
       "</table>\n",
       "<p>5 rows × 27 columns</p>\n",
       "</div>"
      ],
      "text/plain": [
       "         VendorID  passenger_count  trip_distance  RatecodeID  fare_amount  \\\n",
       "235013          2                2       9.025111         1.0         27.0   \n",
       "2296494         2                2      21.656089         2.0         52.0   \n",
       "40747           2                2       6.399089         1.0         17.5   \n",
       "2236208         2                1       0.548293         1.0          6.0   \n",
       "1833177         2                2       3.016133         1.0          6.5   \n",
       "\n",
       "         mta_tax  tolls_amount  airport_fee  pickup_longitude  \\\n",
       "235013       0.5          6.55         1.25        -73.872804   \n",
       "2296494      0.5          0.00         0.00        -73.978367   \n",
       "40747        0.5          0.00         0.00        -73.998678   \n",
       "2236208      0.5          0.00         0.00        -73.984176   \n",
       "1833177      0.5          0.00         0.00        -73.977432   \n",
       "\n",
       "         pickup_latitude  ...  pickup_manhattan  pickup_jfk  pickup_brooklyn  \\\n",
       "235013         40.774867  ...                 0           0                0   \n",
       "2296494        40.764425  ...                 1           0                0   \n",
       "40747          40.728612  ...                 1           0                0   \n",
       "2236208        40.759845  ...                 1           0                0   \n",
       "1833177        40.758226  ...                 1           0                0   \n",
       "\n",
       "         pickup_bronx  pickup_laGuardia  drop_manhattan  drop_jfk  \\\n",
       "235013              0                 1               1         0   \n",
       "2296494             0                 0               0         1   \n",
       "40747               0                 0               1         0   \n",
       "2236208             0                 0               1         0   \n",
       "1833177             0                 0               1         0   \n",
       "\n",
       "         drop_brooklyn  drop_bronx  drop_laGuardia  \n",
       "235013               0           0               0  \n",
       "2296494              0           0               0  \n",
       "40747                0           0               0  \n",
       "2236208              0           0               0  \n",
       "1833177              0           0               0  \n",
       "\n",
       "[5 rows x 27 columns]"
      ]
     },
     "execution_count": 94,
     "metadata": {},
     "output_type": "execute_result"
    }
   ],
   "source": [
    "df=df.drop('tpep_dropoff_datetime',axis=1)\n",
    "df=df.drop('tpep_pickup_datetime',axis=1)\n",
    "df.head()"
   ]
  },
  {
   "attachments": {},
   "cell_type": "markdown",
   "metadata": {},
   "source": [
    "Till here we have pre-processed our data and feature engineering is done\n",
    "\n",
    "Save the pre-processed and feature engineered data in CSV file"
   ]
  },
  {
   "cell_type": "code",
   "execution_count": 95,
   "metadata": {},
   "outputs": [],
   "source": [
    "df.to_csv(\"feature_model.csv\",index=False)"
   ]
  },
  {
   "cell_type": "code",
   "execution_count": 96,
   "metadata": {},
   "outputs": [
    {
     "data": {
      "text/plain": [
       "(279498, 27)"
      ]
     },
     "execution_count": 96,
     "metadata": {},
     "output_type": "execute_result"
    }
   ],
   "source": [
    "df=pd.read_csv(\"feature_model.csv\")\n",
    "df.shape"
   ]
  },
  {
   "cell_type": "code",
   "execution_count": 97,
   "metadata": {},
   "outputs": [
    {
     "data": {
      "text/plain": [
       "VendorID               int64\n",
       "passenger_count        int64\n",
       "trip_distance        float64\n",
       "RatecodeID           float64\n",
       "fare_amount          float64\n",
       "mta_tax              float64\n",
       "tolls_amount         float64\n",
       "airport_fee          float64\n",
       "pickup_longitude     float64\n",
       "pickup_latitude      float64\n",
       "dropoff_longitude    float64\n",
       "dropoff_latitude     float64\n",
       "pickup_day             int64\n",
       "pickup_weekday         int64\n",
       "pickup_hour            int64\n",
       "mid_night_trip         int64\n",
       "rush_hour_trip         int64\n",
       "pickup_manhattan       int64\n",
       "pickup_jfk             int64\n",
       "pickup_brooklyn        int64\n",
       "pickup_bronx           int64\n",
       "pickup_laGuardia       int64\n",
       "drop_manhattan         int64\n",
       "drop_jfk               int64\n",
       "drop_brooklyn          int64\n",
       "drop_bronx             int64\n",
       "drop_laGuardia         int64\n",
       "dtype: object"
      ]
     },
     "execution_count": 97,
     "metadata": {},
     "output_type": "execute_result"
    }
   ],
   "source": [
    "df.dtypes"
   ]
  },
  {
   "attachments": {},
   "cell_type": "markdown",
   "metadata": {},
   "source": [
    "## Visuals\n",
    "\n",
    "The next step is to get insight to data.\n",
    "\n",
    "The aim here is to remove any noisy or outlier data and understand data distribution"
   ]
  },
  {
   "cell_type": "code",
   "execution_count": 98,
   "metadata": {},
   "outputs": [
    {
     "data": {
      "image/png": "[encoded data removed]",
      "text/plain": [
       "<Figure size 1200x800 with 2 Axes>"
      ]
     },
     "metadata": {},
     "output_type": "display_data"
    }
   ],
   "source": [
    "plt.figure(figsize=(12,8))\n",
    "plt.subplot(2,2,3)\n",
    "sns.countplot(x='pickup_hour', data=df,palette='Set2')\n",
    "plt.subplot(2,2,4)\n",
    "sns.countplot(y='pickup_weekday', data=df)\n",
    "\n",
    "plt.show()"
   ]
  },
  {
   "cell_type": "code",
   "execution_count": 99,
   "metadata": {},
   "outputs": [
    {
     "data": {
      "image/png": "[encoded data removed]",
      "text/plain": [
       "<Figure size 1200x800 with 3 Axes>"
      ]
     },
     "metadata": {},
     "output_type": "display_data"
    }
   ],
   "source": [
    "plt.figure(figsize=(12,8))\n",
    "\n",
    "plt.subplot(2,2,1)\n",
    "sns.countplot(y='mid_night_trip', data=df,palette='Set1')\n",
    "\n",
    "plt.subplot(2,2,2)\n",
    "sns.countplot(x='rush_hour_trip', data=df,palette='Set2')\n",
    "\n",
    "plt.subplot(2,2,3)\n",
    "sns.countplot(x='passenger_count', data=df,palette='Set3')\n",
    "\n",
    "plt.show()"
   ]
  },
  {
   "cell_type": "code",
   "execution_count": 100,
   "metadata": {},
   "outputs": [
    {
     "data": {
      "text/plain": [
       "<AxesSubplot: xlabel='pickup_laGuardia', ylabel='count'>"
      ]
     },
     "execution_count": 100,
     "metadata": {},
     "output_type": "execute_result"
    },
    {
     "data": {
      "image/png": "[encoded data removed]",
      "text/plain": [
       "<Figure size 1600x700 with 5 Axes>"
      ]
     },
     "metadata": {},
     "output_type": "display_data"
    }
   ],
   "source": [
    "plt.figure(figsize=(16,7))\n",
    "plt.subplot(2,3,1)\n",
    "sns.countplot(x='pickup_jfk',data=df)\n",
    "plt.subplot(2,3,2)\n",
    "sns.countplot(x='pickup_manhattan',data=df)\n",
    "plt.subplot(2,3,3)\n",
    "sns.countplot(x='pickup_bronx',data=df)\n",
    "plt.subplot(2,3,4)\n",
    "sns.countplot(x='pickup_brooklyn',data=df)\n",
    "plt.subplot(2,3,5)\n",
    "sns.countplot(x='pickup_laGuardia',data=df)\n",
    "#plt.show()"
   ]
  },
  {
   "cell_type": "code",
   "execution_count": 101,
   "metadata": {},
   "outputs": [
    {
     "data": {
      "image/png": "[encoded data removed]",
      "text/plain": [
       "<Figure size 1600x700 with 5 Axes>"
      ]
     },
     "metadata": {},
     "output_type": "display_data"
    }
   ],
   "source": [
    "plt.figure(figsize=(16,7))\n",
    "plt.subplot(2,3,1)\n",
    "sns.countplot(x='drop_jfk',data=df)\n",
    "plt.subplot(2,3,2)\n",
    "sns.countplot(x='drop_manhattan',data=df)\n",
    "plt.subplot(2,3,3)\n",
    "sns.countplot(x='drop_bronx',data=df)\n",
    "plt.subplot(2,3,4)\n",
    "sns.countplot(x='drop_brooklyn',data=df)\n",
    "plt.subplot(2,3,5)\n",
    "sns.countplot(x='drop_laGuardia',data=df)\n",
    "plt.show()"
   ]
  },
  {
   "cell_type": "code",
   "execution_count": 102,
   "metadata": {},
   "outputs": [
    {
     "name": "stderr",
     "output_type": "stream",
     "text": [
      "C:\\Users\\Niyati\\AppData\\Local\\Temp\\ipykernel_1952\\304520470.py:4: UserWarning: \n",
      "\n",
      "`distplot` is a deprecated function and will be removed in seaborn v0.14.0.\n",
      "\n",
      "Please adapt your code to use either `displot` (a figure-level function with\n",
      "similar flexibility) or `histplot` (an axes-level function for histograms).\n",
      "\n",
      "For a guide to updating your code to use the new functions, please see\n",
      "https://gist.github.com/mwaskom/de44147ed2974457ad6372750bbe5751\n",
      "\n",
      "  sns.distplot(df['fare_amount'],kde=True)\n",
      "C:\\Users\\Niyati\\AppData\\Local\\Temp\\ipykernel_1952\\304520470.py:7: UserWarning: \n",
      "\n",
      "`distplot` is a deprecated function and will be removed in seaborn v0.14.0.\n",
      "\n",
      "Please adapt your code to use either `displot` (a figure-level function with\n",
      "similar flexibility) or `histplot` (an axes-level function for histograms).\n",
      "\n",
      "For a guide to updating your code to use the new functions, please see\n",
      "https://gist.github.com/mwaskom/de44147ed2974457ad6372750bbe5751\n",
      "\n",
      "  sns.distplot(df['trip_distance'],kde=True)\n"
     ]
    },
    {
     "data": {
      "text/plain": [
       "<AxesSubplot: xlabel='fare_amount', ylabel='trip_distance'>"
      ]
     },
     "execution_count": 102,
     "metadata": {},
     "output_type": "execute_result"
    },
    {
     "data": {
      "image/png": "[encoded data removed]",
      "text/plain": [
       "<Figure size 800x800 with 2 Axes>"
      ]
     },
     "metadata": {},
     "output_type": "display_data"
    },
    {
     "data": {
      "image/png": "[encoded data removed]",
      "text/plain": [
       "<Figure size 640x480 with 1 Axes>"
      ]
     },
     "metadata": {},
     "output_type": "display_data"
    }
   ],
   "source": [
    "plt.figure(figsize=(8,8))\n",
    "\n",
    "plt.subplot(2,2,1)\n",
    "sns.distplot(df['fare_amount'],kde=True)\n",
    "\n",
    "plt.subplot(2,2,2)\n",
    "sns.distplot(df['trip_distance'],kde=True)\n",
    "\n",
    "df.plot(x='fare_amount',y='trip_distance',kind='scatter')"
   ]
  },
  {
   "cell_type": "markdown",
   "metadata": {},
   "source": [
    "Different Area Fare Distribution"
   ]
  },
  {
   "cell_type": "code",
   "execution_count": 103,
   "metadata": {},
   "outputs": [],
   "source": [
    "df_manhattan=df[(df['pickup_manhattan']==1) | (df['drop_manhattan']==1)]\n",
    "df_jfk=df[(df['pickup_jfk']==1) | (df['drop_jfk']==1)]\n",
    "df_bronx=df[(df['pickup_bronx']==1) | (df['drop_bronx']==1)]\n",
    "df_brooklyn=df[(df['pickup_brooklyn']==1) | (df['drop_brooklyn']==1)]\n",
    "df_LGD=df[(df['pickup_laGuardia']==1) | (df['drop_laGuardia']==1)]"
   ]
  },
  {
   "cell_type": "code",
   "execution_count": 104,
   "metadata": {},
   "outputs": [
    {
     "name": "stderr",
     "output_type": "stream",
     "text": [
      "C:\\Users\\Niyati\\AppData\\Local\\Temp\\ipykernel_1952\\4268132855.py:3: UserWarning: \n",
      "\n",
      "`distplot` is a deprecated function and will be removed in seaborn v0.14.0.\n",
      "\n",
      "Please adapt your code to use either `displot` (a figure-level function with\n",
      "similar flexibility) or `histplot` (an axes-level function for histograms).\n",
      "\n",
      "For a guide to updating your code to use the new functions, please see\n",
      "https://gist.github.com/mwaskom/de44147ed2974457ad6372750bbe5751\n",
      "\n",
      "  sns.distplot(df_manhattan['fare_amount'],kde=True)\n",
      "C:\\Users\\Niyati\\AppData\\Local\\Temp\\ipykernel_1952\\4268132855.py:4: UserWarning: \n",
      "\n",
      "`distplot` is a deprecated function and will be removed in seaborn v0.14.0.\n",
      "\n",
      "Please adapt your code to use either `displot` (a figure-level function with\n",
      "similar flexibility) or `histplot` (an axes-level function for histograms).\n",
      "\n",
      "For a guide to updating your code to use the new functions, please see\n",
      "https://gist.github.com/mwaskom/de44147ed2974457ad6372750bbe5751\n",
      "\n",
      "  sns.distplot(df_jfk['fare_amount'],kde=True)\n",
      "C:\\Users\\Niyati\\AppData\\Local\\Temp\\ipykernel_1952\\4268132855.py:5: UserWarning: \n",
      "\n",
      "`distplot` is a deprecated function and will be removed in seaborn v0.14.0.\n",
      "\n",
      "Please adapt your code to use either `displot` (a figure-level function with\n",
      "similar flexibility) or `histplot` (an axes-level function for histograms).\n",
      "\n",
      "For a guide to updating your code to use the new functions, please see\n",
      "https://gist.github.com/mwaskom/de44147ed2974457ad6372750bbe5751\n",
      "\n",
      "  sns.distplot(df_bronx['fare_amount'],kde=True)\n",
      "C:\\Users\\Niyati\\AppData\\Local\\Temp\\ipykernel_1952\\4268132855.py:6: UserWarning: \n",
      "\n",
      "`distplot` is a deprecated function and will be removed in seaborn v0.14.0.\n",
      "\n",
      "Please adapt your code to use either `displot` (a figure-level function with\n",
      "similar flexibility) or `histplot` (an axes-level function for histograms).\n",
      "\n",
      "For a guide to updating your code to use the new functions, please see\n",
      "https://gist.github.com/mwaskom/de44147ed2974457ad6372750bbe5751\n",
      "\n",
      "  sns.distplot(df_brooklyn['fare_amount'],kde=True)\n",
      "C:\\Users\\Niyati\\AppData\\Local\\Temp\\ipykernel_1952\\4268132855.py:7: UserWarning: \n",
      "\n",
      "`distplot` is a deprecated function and will be removed in seaborn v0.14.0.\n",
      "\n",
      "Please adapt your code to use either `displot` (a figure-level function with\n",
      "similar flexibility) or `histplot` (an axes-level function for histograms).\n",
      "\n",
      "For a guide to updating your code to use the new functions, please see\n",
      "https://gist.github.com/mwaskom/de44147ed2974457ad6372750bbe5751\n",
      "\n",
      "  sns.distplot(df_LGD['fare_amount'],kde=True)\n"
     ]
    },
    {
     "data": {
      "image/png": "[encoded data removed]",
      "text/plain": [
       "<Figure size 600x400 with 1 Axes>"
      ]
     },
     "metadata": {},
     "output_type": "display_data"
    }
   ],
   "source": [
    "fig = plt.figure(figsize=(6,4))\n",
    "\n",
    "sns.distplot(df_manhattan['fare_amount'],kde=True)\n",
    "sns.distplot(df_jfk['fare_amount'],kde=True)\n",
    "sns.distplot(df_bronx['fare_amount'],kde=True)\n",
    "sns.distplot(df_brooklyn['fare_amount'],kde=True)\n",
    "sns.distplot(df_LGD['fare_amount'],kde=True)\n",
    "fig.legend(labels=['Manhattan Fare','JFK Fare','Bronx Fare','Brooklyn Fare','LaGuardia Fare'])\n",
    "plt.show()"
   ]
  },
  {
   "cell_type": "markdown",
   "metadata": {},
   "source": [
    "Fare Distribution at Different Time Zone"
   ]
  },
  {
   "cell_type": "code",
   "execution_count": 105,
   "metadata": {},
   "outputs": [
    {
     "name": "stderr",
     "output_type": "stream",
     "text": [
      "C:\\Users\\Niyati\\AppData\\Local\\Temp\\ipykernel_1952\\2812551143.py:4: UserWarning: \n",
      "\n",
      "`distplot` is a deprecated function and will be removed in seaborn v0.14.0.\n",
      "\n",
      "Please adapt your code to use either `displot` (a figure-level function with\n",
      "similar flexibility) or `histplot` (an axes-level function for histograms).\n",
      "\n",
      "For a guide to updating your code to use the new functions, please see\n",
      "https://gist.github.com/mwaskom/de44147ed2974457ad6372750bbe5751\n",
      "\n",
      "  sns.distplot(np.log(df_mid['fare_amount']),ax=ax)\n",
      "C:\\Users\\Niyati\\AppData\\Local\\Temp\\ipykernel_1952\\2812551143.py:5: UserWarning: \n",
      "\n",
      "`distplot` is a deprecated function and will be removed in seaborn v0.14.0.\n",
      "\n",
      "Please adapt your code to use either `displot` (a figure-level function with\n",
      "similar flexibility) or `histplot` (an axes-level function for histograms).\n",
      "\n",
      "For a guide to updating your code to use the new functions, please see\n",
      "https://gist.github.com/mwaskom/de44147ed2974457ad6372750bbe5751\n",
      "\n",
      "  sns.distplot(np.log(df_non_mid['fare_amount']),ax=ax)\n"
     ]
    },
    {
     "data": {
      "text/plain": [
       "<AxesSubplot: xlabel='fare_amount', ylabel='Density'>"
      ]
     },
     "execution_count": 105,
     "metadata": {},
     "output_type": "execute_result"
    },
    {
     "data": {
      "image/png": "[encoded data removed]",
      "text/plain": [
       "<Figure size 640x480 with 1 Axes>"
      ]
     },
     "metadata": {},
     "output_type": "display_data"
    }
   ],
   "source": [
    "df_mid=df[df['mid_night_trip']==1]\n",
    "df_non_mid=df[df['mid_night_trip']==0]\n",
    "ax=plt.subplot(2,2,2)\n",
    "sns.distplot(np.log(df_mid['fare_amount']),ax=ax)\n",
    "sns.distplot(np.log(df_non_mid['fare_amount']),ax=ax)"
   ]
  },
  {
   "cell_type": "code",
   "execution_count": 106,
   "metadata": {},
   "outputs": [
    {
     "name": "stderr",
     "output_type": "stream",
     "text": [
      "C:\\Users\\Niyati\\AppData\\Local\\Temp\\ipykernel_1952\\906114690.py:4: UserWarning: \n",
      "\n",
      "`distplot` is a deprecated function and will be removed in seaborn v0.14.0.\n",
      "\n",
      "Please adapt your code to use either `displot` (a figure-level function with\n",
      "similar flexibility) or `histplot` (an axes-level function for histograms).\n",
      "\n",
      "For a guide to updating your code to use the new functions, please see\n",
      "https://gist.github.com/mwaskom/de44147ed2974457ad6372750bbe5751\n",
      "\n",
      "  sns.distplot(np.log(df_rush_hour['fare_amount']),ax=ax)\n",
      "C:\\Users\\Niyati\\AppData\\Local\\Temp\\ipykernel_1952\\906114690.py:5: UserWarning: \n",
      "\n",
      "`distplot` is a deprecated function and will be removed in seaborn v0.14.0.\n",
      "\n",
      "Please adapt your code to use either `displot` (a figure-level function with\n",
      "similar flexibility) or `histplot` (an axes-level function for histograms).\n",
      "\n",
      "For a guide to updating your code to use the new functions, please see\n",
      "https://gist.github.com/mwaskom/de44147ed2974457ad6372750bbe5751\n",
      "\n",
      "  sns.distplot(np.log(df_non_rush_hour['fare_amount']),ax=ax)\n"
     ]
    },
    {
     "data": {
      "text/plain": [
       "<AxesSubplot: xlabel='fare_amount', ylabel='Density'>"
      ]
     },
     "execution_count": 106,
     "metadata": {},
     "output_type": "execute_result"
    },
    {
     "data": {
      "image/png": "[encoded data removed]",
      "text/plain": [
       "<Figure size 640x480 with 1 Axes>"
      ]
     },
     "metadata": {},
     "output_type": "display_data"
    }
   ],
   "source": [
    "df_rush_hour=df[df['rush_hour_trip']==1]\n",
    "df_non_rush_hour=df[df['rush_hour_trip']==0]\n",
    "ax=plt.subplot(2,2,3)\n",
    "sns.distplot(np.log(df_rush_hour['fare_amount']),ax=ax)\n",
    "sns.distplot(np.log(df_non_rush_hour['fare_amount']),ax=ax)"
   ]
  },
  {
   "cell_type": "code",
   "execution_count": 107,
   "metadata": {},
   "outputs": [
    {
     "data": {
      "text/plain": [
       "VendorID               int64\n",
       "passenger_count        int64\n",
       "trip_distance        float64\n",
       "RatecodeID           float64\n",
       "fare_amount          float64\n",
       "mta_tax              float64\n",
       "tolls_amount         float64\n",
       "airport_fee          float64\n",
       "pickup_longitude     float64\n",
       "pickup_latitude      float64\n",
       "dropoff_longitude    float64\n",
       "dropoff_latitude     float64\n",
       "pickup_day             int64\n",
       "pickup_weekday         int64\n",
       "pickup_hour            int64\n",
       "mid_night_trip         int64\n",
       "rush_hour_trip         int64\n",
       "pickup_manhattan       int64\n",
       "pickup_jfk             int64\n",
       "pickup_brooklyn        int64\n",
       "pickup_bronx           int64\n",
       "pickup_laGuardia       int64\n",
       "drop_manhattan         int64\n",
       "drop_jfk               int64\n",
       "drop_brooklyn          int64\n",
       "drop_bronx             int64\n",
       "drop_laGuardia         int64\n",
       "dtype: object"
      ]
     },
     "execution_count": 107,
     "metadata": {},
     "output_type": "execute_result"
    }
   ],
   "source": [
    "df.dtypes"
   ]
  },
  {
   "cell_type": "markdown",
   "metadata": {},
   "source": [
    "## Learning Model"
   ]
  },
  {
   "cell_type": "code",
   "execution_count": 108,
   "metadata": {},
   "outputs": [
    {
     "name": "stderr",
     "output_type": "stream",
     "text": [
      "C:\\Users\\Niyati\\AppData\\Local\\Temp\\ipykernel_1952\\292947481.py:2: FutureWarning: In a future version of pandas all arguments of DataFrame.drop except for the argument 'labels' will be keyword-only.\n",
      "  X = df.drop('fare_amount',1)\n"
     ]
    }
   ],
   "source": [
    "# Assigning X and y variables\n",
    "X = df.drop('fare_amount',1)\n",
    "y = df['fare_amount']"
   ]
  },
  {
   "cell_type": "code",
   "execution_count": 109,
   "metadata": {},
   "outputs": [],
   "source": [
    "#Splitting the dataset into train and test\n",
    "X_train,X_test,y_train,y_test = train_test_split(X,y,test_size=0.25,random_state=0)"
   ]
  },
  {
   "cell_type": "markdown",
   "metadata": {},
   "source": [
    "#### Building Linear Regression Model"
   ]
  },
  {
   "cell_type": "code",
   "execution_count": 110,
   "metadata": {},
   "outputs": [],
   "source": [
    "lr = LinearRegression()\n",
    "lr.fit(X_train,y_train)\n",
    "lr_pred = lr.predict(X_test)"
   ]
  },
  {
   "cell_type": "code",
   "execution_count": 111,
   "metadata": {},
   "outputs": [
    {
     "data": {
      "text/plain": [
       "4.550488092477989"
      ]
     },
     "execution_count": 111,
     "metadata": {},
     "output_type": "execute_result"
    }
   ],
   "source": [
    "#RMSE score \n",
    "lr_rmse = np.sqrt(metrics.mean_squared_error(lr_pred,y_test))\n",
    "lr_rmse"
   ]
  },
  {
   "cell_type": "code",
   "execution_count": 112,
   "metadata": {},
   "outputs": [
    {
     "data": {
      "text/plain": [
       "0.8545365167438748"
      ]
     },
     "execution_count": 112,
     "metadata": {},
     "output_type": "execute_result"
    }
   ],
   "source": [
    "#R2 score\n",
    "lr_r2score = metrics.r2_score(lr_pred,y_test)\n",
    "lr_r2score"
   ]
  },
  {
   "cell_type": "code",
   "execution_count": 113,
   "metadata": {},
   "outputs": [
    {
     "data": {
      "text/plain": [
       "0.876245352488326"
      ]
     },
     "execution_count": 113,
     "metadata": {},
     "output_type": "execute_result"
    }
   ],
   "source": [
    "#Train Score\n",
    "lr_train=lr.score(X_train,y_train)\n",
    "lr_train"
   ]
  },
  {
   "cell_type": "code",
   "execution_count": 114,
   "metadata": {},
   "outputs": [
    {
     "data": {
      "text/plain": [
       "0.8730127137492674"
      ]
     },
     "execution_count": 114,
     "metadata": {},
     "output_type": "execute_result"
    }
   ],
   "source": [
    "#Test Score\n",
    "lr_test=lr.score(X_test,y_test)\n",
    "lr_test"
   ]
  },
  {
   "cell_type": "markdown",
   "metadata": {},
   "source": [
    "#### Building Decision Tree Regressor Model"
   ]
  },
  {
   "cell_type": "code",
   "execution_count": 115,
   "metadata": {},
   "outputs": [],
   "source": [
    "dt=DecisionTreeRegressor()\n",
    "dt.fit(X_train,y_train)\n",
    "dt_pred=dt.predict(X_test)"
   ]
  },
  {
   "cell_type": "code",
   "execution_count": 116,
   "metadata": {},
   "outputs": [
    {
     "data": {
      "text/plain": [
       "4.907869000915506"
      ]
     },
     "execution_count": 116,
     "metadata": {},
     "output_type": "execute_result"
    }
   ],
   "source": [
    "#RMSE score \n",
    "dt_rmse = np.sqrt(metrics.mean_squared_error(dt_pred,y_test))\n",
    "dt_rmse"
   ]
  },
  {
   "cell_type": "code",
   "execution_count": 117,
   "metadata": {},
   "outputs": [
    {
     "data": {
      "text/plain": [
       "0.8501267341337847"
      ]
     },
     "execution_count": 117,
     "metadata": {},
     "output_type": "execute_result"
    }
   ],
   "source": [
    "#R2 score\n",
    "dt_r2score = metrics.r2_score(dt_pred,y_test)\n",
    "dt_r2score"
   ]
  },
  {
   "cell_type": "code",
   "execution_count": 118,
   "metadata": {},
   "outputs": [
    {
     "data": {
      "text/plain": [
       "0.9980728367260089"
      ]
     },
     "execution_count": 118,
     "metadata": {},
     "output_type": "execute_result"
    }
   ],
   "source": [
    "#Train Score\n",
    "dt_train=dt.score(X_train,y_train)\n",
    "dt_train"
   ]
  },
  {
   "cell_type": "code",
   "execution_count": 119,
   "metadata": {},
   "outputs": [
    {
     "data": {
      "text/plain": [
       "0.8522830941457531"
      ]
     },
     "execution_count": 119,
     "metadata": {},
     "output_type": "execute_result"
    }
   ],
   "source": [
    "#Test Score\n",
    "dt_test=dt.score(X_test,y_test)\n",
    "dt_test"
   ]
  },
  {
   "cell_type": "markdown",
   "metadata": {},
   "source": [
    "#### Building Random Forest Regressor Model"
   ]
  },
  {
   "cell_type": "code",
   "execution_count": 120,
   "metadata": {},
   "outputs": [],
   "source": [
    "rf=RandomForestRegressor()\n",
    "rf.fit(X_train,y_train)\n",
    "rf_pred=rf.predict(X_test)"
   ]
  },
  {
   "cell_type": "code",
   "execution_count": 121,
   "metadata": {},
   "outputs": [
    {
     "data": {
      "text/plain": [
       "3.7994030093747475"
      ]
     },
     "execution_count": 121,
     "metadata": {},
     "output_type": "execute_result"
    }
   ],
   "source": [
    "#RMSE score \n",
    "rf_rmse = np.sqrt(metrics.mean_squared_error(rf_pred,y_test))\n",
    "rf_rmse"
   ]
  },
  {
   "cell_type": "code",
   "execution_count": 122,
   "metadata": {},
   "outputs": [
    {
     "data": {
      "text/plain": [
       "0.9040606739439255"
      ]
     },
     "execution_count": 122,
     "metadata": {},
     "output_type": "execute_result"
    }
   ],
   "source": [
    "#R2 score\n",
    "rf_r2score = metrics.r2_score(rf_pred,y_test)\n",
    "rf_r2score"
   ]
  },
  {
   "cell_type": "code",
   "execution_count": 123,
   "metadata": {},
   "outputs": [
    {
     "data": {
      "text/plain": [
       "0.9866875862887524"
      ]
     },
     "execution_count": 123,
     "metadata": {},
     "output_type": "execute_result"
    }
   ],
   "source": [
    "#Train Score\n",
    "rf_train=rf.score(X_train,y_train)\n",
    "rf_train"
   ]
  },
  {
   "cell_type": "code",
   "execution_count": 124,
   "metadata": {},
   "outputs": [
    {
     "data": {
      "text/plain": [
       "0.9114731517723216"
      ]
     },
     "execution_count": 124,
     "metadata": {},
     "output_type": "execute_result"
    }
   ],
   "source": [
    "#Test Score\n",
    "rf_test=rf.score(X_test,y_test)\n",
    "rf_test"
   ]
  },
  {
   "cell_type": "markdown",
   "metadata": {},
   "source": [
    "#### Building AdaBoost Regressor Model"
   ]
  },
  {
   "cell_type": "code",
   "execution_count": 125,
   "metadata": {},
   "outputs": [],
   "source": [
    "ab=AdaBoostRegressor()\n",
    "ab.fit(X_train,y_train)\n",
    "ab_pred=ab.predict(X_test)"
   ]
  },
  {
   "cell_type": "code",
   "execution_count": 126,
   "metadata": {},
   "outputs": [
    {
     "data": {
      "text/plain": [
       "6.050571175042768"
      ]
     },
     "execution_count": 126,
     "metadata": {},
     "output_type": "execute_result"
    }
   ],
   "source": [
    "#RMSE score \n",
    "ab_rmse = np.sqrt(metrics.mean_squared_error(ab_pred,y_test))\n",
    "ab_rmse"
   ]
  },
  {
   "cell_type": "code",
   "execution_count": 127,
   "metadata": {},
   "outputs": [
    {
     "data": {
      "text/plain": [
       "0.6939835239527792"
      ]
     },
     "execution_count": 127,
     "metadata": {},
     "output_type": "execute_result"
    }
   ],
   "source": [
    "#R2 score\n",
    "ab_r2score = metrics.r2_score(ab_pred,y_test)\n",
    "ab_r2score"
   ]
  },
  {
   "cell_type": "code",
   "execution_count": 128,
   "metadata": {},
   "outputs": [
    {
     "data": {
      "text/plain": [
       "0.7927157643004238"
      ]
     },
     "execution_count": 128,
     "metadata": {},
     "output_type": "execute_result"
    }
   ],
   "source": [
    "#Train Score\n",
    "ab_train=ab.score(X_train,y_train)\n",
    "ab_train"
   ]
  },
  {
   "cell_type": "code",
   "execution_count": 129,
   "metadata": {},
   "outputs": [
    {
     "data": {
      "text/plain": [
       "0.7754893093228635"
      ]
     },
     "execution_count": 129,
     "metadata": {},
     "output_type": "execute_result"
    }
   ],
   "source": [
    "#Test Score\n",
    "ab_test=ab.score(X_test,y_test)\n",
    "ab_test"
   ]
  },
  {
   "cell_type": "markdown",
   "metadata": {},
   "source": [
    "#### Building XGB Regressor Model"
   ]
  },
  {
   "cell_type": "code",
   "execution_count": 130,
   "metadata": {},
   "outputs": [],
   "source": [
    "xgb= XGBRegressor()\n",
    "xgb.fit(X_train,y_train)\n",
    "xgb_pred=xgb.predict(X_test)"
   ]
  },
  {
   "cell_type": "code",
   "execution_count": 131,
   "metadata": {},
   "outputs": [
    {
     "data": {
      "text/plain": [
       "3.719524792952345"
      ]
     },
     "execution_count": 131,
     "metadata": {},
     "output_type": "execute_result"
    }
   ],
   "source": [
    "#RMSE score \n",
    "xgb_rmse = np.sqrt(metrics.mean_squared_error(xgb_pred,y_test))\n",
    "xgb_rmse"
   ]
  },
  {
   "cell_type": "code",
   "execution_count": 132,
   "metadata": {},
   "outputs": [
    {
     "data": {
      "text/plain": [
       "0.9076091728394906"
      ]
     },
     "execution_count": 132,
     "metadata": {},
     "output_type": "execute_result"
    }
   ],
   "source": [
    "#R2 score\n",
    "xgb_r2score = metrics.r2_score(xgb_pred,y_test)\n",
    "xgb_r2score"
   ]
  },
  {
   "cell_type": "code",
   "execution_count": 133,
   "metadata": {},
   "outputs": [
    {
     "data": {
      "text/plain": [
       "0.9483244758024587"
      ]
     },
     "execution_count": 133,
     "metadata": {},
     "output_type": "execute_result"
    }
   ],
   "source": [
    "#Train Score\n",
    "xgb_train=xgb.score(X_train,y_train)\n",
    "xgb_train"
   ]
  },
  {
   "cell_type": "code",
   "execution_count": 134,
   "metadata": {},
   "outputs": [
    {
     "data": {
      "text/plain": [
       "0.9151563793319661"
      ]
     },
     "execution_count": 134,
     "metadata": {},
     "output_type": "execute_result"
    }
   ],
   "source": [
    "#Test Score\n",
    "xgb_test=xgb.score(X_test,y_test)\n",
    "xgb_test"
   ]
  },
  {
   "cell_type": "markdown",
   "metadata": {},
   "source": [
    "#### Comparison of Models"
   ]
  },
  {
   "cell_type": "code",
   "execution_count": 135,
   "metadata": {},
   "outputs": [],
   "source": [
    "#Creating dictionary for all the metrics and models\n",
    "metrics = {'Metrics': ['RMSE Score','R2 Score','Train Score','Test Score'],'Linear Regression':[lr_rmse,lr_r2score,lr_train,lr_test],\n",
    "          'Decision Tree Regressor':[dt_rmse,dt_r2score,dt_train,dt_test],'Random Forest Regressor':[rf_rmse,rf_r2score,rf_train,rf_test],\n",
    "        'AdaBoost Regressor':[ab_rmse,ab_r2score,ab_train,ab_test],'XGBoost Regressor':[xgb_rmse,xgb_r2score,xgb_train,xgb_test]}"
   ]
  },
  {
   "cell_type": "code",
   "execution_count": 136,
   "metadata": {},
   "outputs": [
    {
     "data": {
      "text/html": [
       "<div>\n",
       "<style scoped>\n",
       "    .dataframe tbody tr th:only-of-type {\n",
       "        vertical-align: middle;\n",
       "    }\n",
       "\n",
       "    .dataframe tbody tr th {\n",
       "        vertical-align: top;\n",
       "    }\n",
       "\n",
       "    .dataframe thead th {\n",
       "        text-align: right;\n",
       "    }\n",
       "</style>\n",
       "<table border=\"1\" class=\"dataframe\">\n",
       "  <thead>\n",
       "    <tr style=\"text-align: right;\">\n",
       "      <th></th>\n",
       "      <th>Metrics</th>\n",
       "      <th>Linear Regression</th>\n",
       "      <th>Decision Tree Regressor</th>\n",
       "      <th>Random Forest Regressor</th>\n",
       "      <th>AdaBoost Regressor</th>\n",
       "      <th>XGBoost Regressor</th>\n",
       "    </tr>\n",
       "  </thead>\n",
       "  <tbody>\n",
       "    <tr>\n",
       "      <th>0</th>\n",
       "      <td>RMSE Score</td>\n",
       "      <td>4.550488</td>\n",
       "      <td>4.907869</td>\n",
       "      <td>3.799403</td>\n",
       "      <td>6.050571</td>\n",
       "      <td>3.719525</td>\n",
       "    </tr>\n",
       "    <tr>\n",
       "      <th>1</th>\n",
       "      <td>R2 Score</td>\n",
       "      <td>0.854537</td>\n",
       "      <td>0.850127</td>\n",
       "      <td>0.904061</td>\n",
       "      <td>0.693984</td>\n",
       "      <td>0.907609</td>\n",
       "    </tr>\n",
       "    <tr>\n",
       "      <th>2</th>\n",
       "      <td>Train Score</td>\n",
       "      <td>0.876245</td>\n",
       "      <td>0.998073</td>\n",
       "      <td>0.986688</td>\n",
       "      <td>0.792716</td>\n",
       "      <td>0.948324</td>\n",
       "    </tr>\n",
       "    <tr>\n",
       "      <th>3</th>\n",
       "      <td>Test Score</td>\n",
       "      <td>0.873013</td>\n",
       "      <td>0.852283</td>\n",
       "      <td>0.911473</td>\n",
       "      <td>0.775489</td>\n",
       "      <td>0.915156</td>\n",
       "    </tr>\n",
       "  </tbody>\n",
       "</table>\n",
       "</div>"
      ],
      "text/plain": [
       "       Metrics  Linear Regression  Decision Tree Regressor  \\\n",
       "0   RMSE Score           4.550488                 4.907869   \n",
       "1     R2 Score           0.854537                 0.850127   \n",
       "2  Train Score           0.876245                 0.998073   \n",
       "3   Test Score           0.873013                 0.852283   \n",
       "\n",
       "   Random Forest Regressor  AdaBoost Regressor  XGBoost Regressor  \n",
       "0                 3.799403            6.050571           3.719525  \n",
       "1                 0.904061            0.693984           0.907609  \n",
       "2                 0.986688            0.792716           0.948324  \n",
       "3                 0.911473            0.775489           0.915156  "
      ]
     },
     "execution_count": 136,
     "metadata": {},
     "output_type": "execute_result"
    }
   ],
   "source": [
    "#Converting dictionary to dataframe\n",
    "metrics = pd.DataFrame(metrics)\n",
    "metrics\n",
    "\n",
    "# smaller RMSE score, the better . Here XGBoost is the smallest.\n",
    "# higher the R2 score, better is the mode. Here, XGBoost is the biggest.\n",
    "# higher test score, better. Here, test score of XGBoost Regressor is the highest."
   ]
  },
  {
   "cell_type": "markdown",
   "metadata": {},
   "source": [
    "From the above table, we can see that XGBoost Regressor performs the best out of all the five models."
   ]
  },
  {
   "cell_type": "markdown",
   "metadata": {},
   "source": [
    "#### Cross Validation on XGBoost Regressor"
   ]
  },
  {
   "cell_type": "code",
   "execution_count": 137,
   "metadata": {},
   "outputs": [
    {
     "data": {
      "text/html": [
       "<div>\n",
       "<style scoped>\n",
       "    .dataframe tbody tr th:only-of-type {\n",
       "        vertical-align: middle;\n",
       "    }\n",
       "\n",
       "    .dataframe tbody tr th {\n",
       "        vertical-align: top;\n",
       "    }\n",
       "\n",
       "    .dataframe thead th {\n",
       "        text-align: right;\n",
       "    }\n",
       "</style>\n",
       "<table border=\"1\" class=\"dataframe\">\n",
       "  <thead>\n",
       "    <tr style=\"text-align: right;\">\n",
       "      <th></th>\n",
       "      <th>train-rmse-mean</th>\n",
       "      <th>train-rmse-std</th>\n",
       "      <th>test-rmse-mean</th>\n",
       "      <th>test-rmse-std</th>\n",
       "    </tr>\n",
       "  </thead>\n",
       "  <tbody>\n",
       "    <tr>\n",
       "      <th>0</th>\n",
       "      <td>14.003738</td>\n",
       "      <td>0.018487</td>\n",
       "      <td>14.012029</td>\n",
       "      <td>0.174336</td>\n",
       "    </tr>\n",
       "    <tr>\n",
       "      <th>1</th>\n",
       "      <td>10.233519</td>\n",
       "      <td>0.021092</td>\n",
       "      <td>10.254156</td>\n",
       "      <td>0.205878</td>\n",
       "    </tr>\n",
       "    <tr>\n",
       "      <th>2</th>\n",
       "      <td>7.716855</td>\n",
       "      <td>0.023397</td>\n",
       "      <td>7.758755</td>\n",
       "      <td>0.251325</td>\n",
       "    </tr>\n",
       "    <tr>\n",
       "      <th>3</th>\n",
       "      <td>6.091336</td>\n",
       "      <td>0.026292</td>\n",
       "      <td>6.161126</td>\n",
       "      <td>0.299132</td>\n",
       "    </tr>\n",
       "    <tr>\n",
       "      <th>4</th>\n",
       "      <td>5.087824</td>\n",
       "      <td>0.030202</td>\n",
       "      <td>5.182935</td>\n",
       "      <td>0.344186</td>\n",
       "    </tr>\n",
       "    <tr>\n",
       "      <th>5</th>\n",
       "      <td>4.491441</td>\n",
       "      <td>0.033180</td>\n",
       "      <td>4.611151</td>\n",
       "      <td>0.380308</td>\n",
       "    </tr>\n",
       "    <tr>\n",
       "      <th>6</th>\n",
       "      <td>4.144433</td>\n",
       "      <td>0.034081</td>\n",
       "      <td>4.291791</td>\n",
       "      <td>0.400225</td>\n",
       "    </tr>\n",
       "    <tr>\n",
       "      <th>7</th>\n",
       "      <td>3.944788</td>\n",
       "      <td>0.036651</td>\n",
       "      <td>4.110189</td>\n",
       "      <td>0.414840</td>\n",
       "    </tr>\n",
       "    <tr>\n",
       "      <th>8</th>\n",
       "      <td>3.816554</td>\n",
       "      <td>0.041909</td>\n",
       "      <td>4.013213</td>\n",
       "      <td>0.422683</td>\n",
       "    </tr>\n",
       "    <tr>\n",
       "      <th>9</th>\n",
       "      <td>3.737582</td>\n",
       "      <td>0.043329</td>\n",
       "      <td>3.954275</td>\n",
       "      <td>0.432999</td>\n",
       "    </tr>\n",
       "  </tbody>\n",
       "</table>\n",
       "</div>"
      ],
      "text/plain": [
       "   train-rmse-mean  train-rmse-std  test-rmse-mean  test-rmse-std\n",
       "0        14.003738        0.018487       14.012029       0.174336\n",
       "1        10.233519        0.021092       10.254156       0.205878\n",
       "2         7.716855        0.023397        7.758755       0.251325\n",
       "3         6.091336        0.026292        6.161126       0.299132\n",
       "4         5.087824        0.030202        5.182935       0.344186\n",
       "5         4.491441        0.033180        4.611151       0.380308\n",
       "6         4.144433        0.034081        4.291791       0.400225\n",
       "7         3.944788        0.036651        4.110189       0.414840\n",
       "8         3.816554        0.041909        4.013213       0.422683\n",
       "9         3.737582        0.043329        3.954275       0.432999"
      ]
     },
     "execution_count": 137,
     "metadata": {},
     "output_type": "execute_result"
    }
   ],
   "source": [
    "data = xgboost.DMatrix(X, label = y)\n",
    "params = {\n",
    "    'booster': 'gbtree',\n",
    "    'objective': 'reg:squarederror',\n",
    "    'learning_rate': 0.3\n",
    "}\n",
    "\n",
    "xgb_cv = xgboost.cv(\n",
    "  params = params,\n",
    "  dtrain = data,\n",
    "  nfold=10, # Number of folds to use\n",
    "  metrics = 'rmse', # List of evaluation metrics to be used in cross validation, when it is not specified, the evaluation metric is chosen according to objective function.\n",
    "  as_pandas = True,\n",
    "  seed = 42,\n",
    "  #early_stopping_rounds = 10, # Training with a validation set will stop if the performance doesn't improve for n rounds.\n",
    ")\n",
    "\n",
    "xgb_cv"
   ]
  },
  {
   "cell_type": "markdown",
   "metadata": {},
   "source": [
    "#### Some visualization and analysis on predicted data by XGBoost Model"
   ]
  },
  {
   "cell_type": "code",
   "execution_count": 138,
   "metadata": {},
   "outputs": [
    {
     "data": {
      "text/html": [
       "<div>\n",
       "<style scoped>\n",
       "    .dataframe tbody tr th:only-of-type {\n",
       "        vertical-align: middle;\n",
       "    }\n",
       "\n",
       "    .dataframe tbody tr th {\n",
       "        vertical-align: top;\n",
       "    }\n",
       "\n",
       "    .dataframe thead th {\n",
       "        text-align: right;\n",
       "    }\n",
       "</style>\n",
       "<table border=\"1\" class=\"dataframe\">\n",
       "  <thead>\n",
       "    <tr style=\"text-align: right;\">\n",
       "      <th></th>\n",
       "      <th>VendorID</th>\n",
       "      <th>passenger_count</th>\n",
       "      <th>trip_distance</th>\n",
       "      <th>RatecodeID</th>\n",
       "      <th>mta_tax</th>\n",
       "      <th>tolls_amount</th>\n",
       "      <th>airport_fee</th>\n",
       "      <th>pickup_longitude</th>\n",
       "      <th>pickup_latitude</th>\n",
       "      <th>dropoff_longitude</th>\n",
       "      <th>...</th>\n",
       "      <th>pickup_brooklyn</th>\n",
       "      <th>pickup_bronx</th>\n",
       "      <th>pickup_laGuardia</th>\n",
       "      <th>drop_manhattan</th>\n",
       "      <th>drop_jfk</th>\n",
       "      <th>drop_brooklyn</th>\n",
       "      <th>drop_bronx</th>\n",
       "      <th>drop_laGuardia</th>\n",
       "      <th>fare_amount_original</th>\n",
       "      <th>fare_amount_predicted</th>\n",
       "    </tr>\n",
       "  </thead>\n",
       "  <tbody>\n",
       "    <tr>\n",
       "      <th>205691</th>\n",
       "      <td>2</td>\n",
       "      <td>1</td>\n",
       "      <td>1.969732</td>\n",
       "      <td>1.0</td>\n",
       "      <td>0.5</td>\n",
       "      <td>0.0</td>\n",
       "      <td>0.0</td>\n",
       "      <td>-73.954325</td>\n",
       "      <td>40.817577</td>\n",
       "      <td>-73.965569</td>\n",
       "      <td>...</td>\n",
       "      <td>0</td>\n",
       "      <td>0</td>\n",
       "      <td>0</td>\n",
       "      <td>1</td>\n",
       "      <td>0</td>\n",
       "      <td>0</td>\n",
       "      <td>0</td>\n",
       "      <td>0</td>\n",
       "      <td>7.0</td>\n",
       "      <td>9.017797</td>\n",
       "    </tr>\n",
       "    <tr>\n",
       "      <th>158655</th>\n",
       "      <td>2</td>\n",
       "      <td>2</td>\n",
       "      <td>4.854479</td>\n",
       "      <td>1.0</td>\n",
       "      <td>0.5</td>\n",
       "      <td>0.0</td>\n",
       "      <td>0.0</td>\n",
       "      <td>-73.985929</td>\n",
       "      <td>40.748808</td>\n",
       "      <td>-74.016120</td>\n",
       "      <td>...</td>\n",
       "      <td>0</td>\n",
       "      <td>0</td>\n",
       "      <td>0</td>\n",
       "      <td>1</td>\n",
       "      <td>0</td>\n",
       "      <td>0</td>\n",
       "      <td>0</td>\n",
       "      <td>0</td>\n",
       "      <td>25.5</td>\n",
       "      <td>21.130247</td>\n",
       "    </tr>\n",
       "    <tr>\n",
       "      <th>37526</th>\n",
       "      <td>2</td>\n",
       "      <td>1</td>\n",
       "      <td>2.263386</td>\n",
       "      <td>1.0</td>\n",
       "      <td>0.5</td>\n",
       "      <td>0.0</td>\n",
       "      <td>0.0</td>\n",
       "      <td>-73.996778</td>\n",
       "      <td>40.742546</td>\n",
       "      <td>-73.989857</td>\n",
       "      <td>...</td>\n",
       "      <td>0</td>\n",
       "      <td>0</td>\n",
       "      <td>0</td>\n",
       "      <td>1</td>\n",
       "      <td>0</td>\n",
       "      <td>0</td>\n",
       "      <td>0</td>\n",
       "      <td>0</td>\n",
       "      <td>13.5</td>\n",
       "      <td>12.107370</td>\n",
       "    </tr>\n",
       "    <tr>\n",
       "      <th>32984</th>\n",
       "      <td>2</td>\n",
       "      <td>1</td>\n",
       "      <td>1.954153</td>\n",
       "      <td>1.0</td>\n",
       "      <td>0.5</td>\n",
       "      <td>0.0</td>\n",
       "      <td>0.0</td>\n",
       "      <td>-73.985929</td>\n",
       "      <td>40.748808</td>\n",
       "      <td>-73.965174</td>\n",
       "      <td>...</td>\n",
       "      <td>0</td>\n",
       "      <td>0</td>\n",
       "      <td>0</td>\n",
       "      <td>1</td>\n",
       "      <td>0</td>\n",
       "      <td>0</td>\n",
       "      <td>0</td>\n",
       "      <td>0</td>\n",
       "      <td>11.5</td>\n",
       "      <td>10.492877</td>\n",
       "    </tr>\n",
       "    <tr>\n",
       "      <th>176399</th>\n",
       "      <td>2</td>\n",
       "      <td>5</td>\n",
       "      <td>4.456747</td>\n",
       "      <td>1.0</td>\n",
       "      <td>0.5</td>\n",
       "      <td>0.0</td>\n",
       "      <td>0.0</td>\n",
       "      <td>-73.972815</td>\n",
       "      <td>40.791766</td>\n",
       "      <td>-73.988786</td>\n",
       "      <td>...</td>\n",
       "      <td>0</td>\n",
       "      <td>0</td>\n",
       "      <td>0</td>\n",
       "      <td>1</td>\n",
       "      <td>0</td>\n",
       "      <td>0</td>\n",
       "      <td>0</td>\n",
       "      <td>0</td>\n",
       "      <td>18.0</td>\n",
       "      <td>17.531523</td>\n",
       "    </tr>\n",
       "  </tbody>\n",
       "</table>\n",
       "<p>5 rows × 28 columns</p>\n",
       "</div>"
      ],
      "text/plain": [
       "        VendorID  passenger_count  trip_distance  RatecodeID  mta_tax  \\\n",
       "205691         2                1       1.969732         1.0      0.5   \n",
       "158655         2                2       4.854479         1.0      0.5   \n",
       "37526          2                1       2.263386         1.0      0.5   \n",
       "32984          2                1       1.954153         1.0      0.5   \n",
       "176399         2                5       4.456747         1.0      0.5   \n",
       "\n",
       "        tolls_amount  airport_fee  pickup_longitude  pickup_latitude  \\\n",
       "205691           0.0          0.0        -73.954325        40.817577   \n",
       "158655           0.0          0.0        -73.985929        40.748808   \n",
       "37526            0.0          0.0        -73.996778        40.742546   \n",
       "32984            0.0          0.0        -73.985929        40.748808   \n",
       "176399           0.0          0.0        -73.972815        40.791766   \n",
       "\n",
       "        dropoff_longitude  ...  pickup_brooklyn  pickup_bronx  \\\n",
       "205691         -73.965569  ...                0             0   \n",
       "158655         -74.016120  ...                0             0   \n",
       "37526          -73.989857  ...                0             0   \n",
       "32984          -73.965174  ...                0             0   \n",
       "176399         -73.988786  ...                0             0   \n",
       "\n",
       "        pickup_laGuardia  drop_manhattan  drop_jfk  drop_brooklyn  drop_bronx  \\\n",
       "205691                 0               1         0              0           0   \n",
       "158655                 0               1         0              0           0   \n",
       "37526                  0               1         0              0           0   \n",
       "32984                  0               1         0              0           0   \n",
       "176399                 0               1         0              0           0   \n",
       "\n",
       "        drop_laGuardia  fare_amount_original  fare_amount_predicted  \n",
       "205691               0                   7.0               9.017797  \n",
       "158655               0                  25.5              21.130247  \n",
       "37526                0                  13.5              12.107370  \n",
       "32984                0                  11.5              10.492877  \n",
       "176399               0                  18.0              17.531523  \n",
       "\n",
       "[5 rows x 28 columns]"
      ]
     },
     "execution_count": 138,
     "metadata": {},
     "output_type": "execute_result"
    }
   ],
   "source": [
    "test_df = X_test.copy()\n",
    "test_df[\"fare_amount_original\"] = y_test\n",
    "test_df[\"fare_amount_predicted\"] = xgb_pred\n",
    "test_df.head()"
   ]
  },
  {
   "cell_type": "markdown",
   "metadata": {},
   "source": [
    "Visualizing actual and predicted values"
   ]
  },
  {
   "cell_type": "code",
   "execution_count": 139,
   "metadata": {},
   "outputs": [
    {
     "data": {
      "image/png": "[encoded data removed]",
      "text/plain": [
       "<Figure size 1000x1000 with 1 Axes>"
      ]
     },
     "metadata": {},
     "output_type": "display_data"
    }
   ],
   "source": [
    "plt.figure(figsize=(10,10))\n",
    "plt.scatter(y_test, xgb_pred, c='green')\n",
    "# plt.yscale('log')\n",
    "# plt.xscale('log')\n",
    "\n",
    "p1 = max(max(xgb_pred), max(y_test))\n",
    "p2 = min(min(xgb_pred), min(y_test))\n",
    "plt.plot([p1, p2], [p1, p2], 'b-')\n",
    "plt.xlabel('True Values', fontsize=15)\n",
    "plt.ylabel('Predictions', fontsize=15)\n",
    "plt.axis('equal')\n",
    "plt.show()"
   ]
  },
  {
   "cell_type": "markdown",
   "metadata": {},
   "source": [
    "Visualizing relationship between trip distance and fare amount\n",
    "\n",
    "As expected :- as the trip distance increases, fare amount should mostly increase.\n",
    "\n",
    "Some outliers are observed. These outliers can be due to unusual pick ups / drops at emergency situations resulting to high fares even for a less distance"
   ]
  },
  {
   "cell_type": "code",
   "execution_count": 140,
   "metadata": {},
   "outputs": [
    {
     "data": {
      "image/png": "[encoded data removed]",
      "text/plain": [
       "<Figure size 640x480 with 1 Axes>"
      ]
     },
     "metadata": {},
     "output_type": "display_data"
    }
   ],
   "source": [
    "xaxis = test_df[\"fare_amount_predicted\"]\n",
    "yaxis = test_df[\"trip_distance\"]\n",
    "plt.scatter(xaxis, yaxis)\n",
    "plt.rcParams.update({'figure.figsize':(10,8), 'figure.dpi':100})\n",
    "plt.title('Simple Scatter plot')\n",
    "plt.xlabel('Fair Amount Predicted')\n",
    "plt.ylabel('Trip Distance')\n",
    "plt.show()"
   ]
  },
  {
   "cell_type": "markdown",
   "metadata": {},
   "source": [
    "Which pick up area had the highest fare rate for a taxi trip?"
   ]
  },
  {
   "cell_type": "code",
   "execution_count": 141,
   "metadata": {},
   "outputs": [
    {
     "name": "stdout",
     "output_type": "stream",
     "text": [
      "(62911, 28)\n",
      "(3802, 28)\n",
      "(233, 28)\n",
      "(66, 28)\n",
      "(2395, 28)\n",
      "166.26778\n",
      "137.93304\n",
      "68.32961\n",
      "66.63534\n",
      "109.99635\n"
     ]
    },
    {
     "data": {
      "image/png": "[encoded data removed]",
      "text/plain": [
       "<Figure size 1000x800 with 1 Axes>"
      ]
     },
     "metadata": {},
     "output_type": "display_data"
    }
   ],
   "source": [
    "pickup_manhatton_df = test_df.loc[df['pickup_manhattan'] == 1]\n",
    "pickup_jfk_df = test_df.loc[df['pickup_jfk'] == 1]\n",
    "pickup_brooklyn_df = test_df.loc[df['pickup_brooklyn'] == 1]\n",
    "pickup_bronx_df = test_df.loc[df['pickup_bronx'] == 1]\n",
    "pickup_laGuardia_df = test_df.loc[df['pickup_laGuardia'] == 1]\n",
    "\n",
    "print(pickup_manhatton_df.shape)\n",
    "print(pickup_jfk_df.shape)\n",
    "print(pickup_brooklyn_df.shape)\n",
    "print(pickup_bronx_df.shape)\n",
    "print(pickup_laGuardia_df.shape)\n",
    "\n",
    "manhatton_max_price = pickup_manhatton_df['fare_amount_predicted'].max()\n",
    "print(manhatton_max_price)\n",
    "\n",
    "jfk_max_price = pickup_jfk_df['fare_amount_predicted'].max()\n",
    "print(jfk_max_price)\n",
    "\n",
    "brooklyn_max_price = pickup_brooklyn_df['fare_amount_predicted'].max()\n",
    "print(brooklyn_max_price)\n",
    "\n",
    "bronx_max_price = pickup_bronx_df['fare_amount_predicted'].max()\n",
    "print(bronx_max_price)\n",
    "\n",
    "laGuardia_max_price = pickup_laGuardia_df['fare_amount_predicted'].max()\n",
    "print(laGuardia_max_price)\n",
    "\n",
    "fig = plt.figure()\n",
    "ax = fig.add_axes([0,0,1,1])\n",
    "langs = ['Manhatton', 'JFK', 'Brooklyn', 'Bronx', 'La Guardia']\n",
    "students = [manhatton_max_price,jfk_max_price,brooklyn_max_price,bronx_max_price,laGuardia_max_price]\n",
    "ax.bar(langs,students)\n",
    "plt.show()"
   ]
  },
  {
   "attachments": {},
   "cell_type": "markdown",
   "metadata": {},
   "source": [
    "As we can visualize above, we can observe which area has the maximum fare rate in the month of September, 2022 in NYC."
   ]
  },
  {
   "cell_type": "markdown",
   "metadata": {},
   "source": [
    "Which weekday had the highest fare rate for a trip?"
   ]
  },
  {
   "cell_type": "code",
   "execution_count": 142,
   "metadata": {},
   "outputs": [
    {
     "data": {
      "text/plain": [
       "<AxesSubplot: xlabel='pickup_weekday'>"
      ]
     },
     "execution_count": 142,
     "metadata": {},
     "output_type": "execute_result"
    },
    {
     "data": {
      "image/png": "[encoded data removed]",
      "text/plain": [
       "<Figure size 1000x800 with 1 Axes>"
      ]
     },
     "metadata": {},
     "output_type": "display_data"
    }
   ],
   "source": [
    "# Max price of weekdays: 0 - Monday, 6 - Sunday\n",
    "test_df.groupby(['pickup_weekday'], sort=False)['fare_amount_predicted'].max().plot(kind = \"bar\")"
   ]
  },
  {
   "cell_type": "code",
   "execution_count": 143,
   "metadata": {},
   "outputs": [
    {
     "data": {
      "text/plain": [
       "VendorID               int64\n",
       "passenger_count        int64\n",
       "trip_distance        float64\n",
       "RatecodeID           float64\n",
       "fare_amount          float64\n",
       "mta_tax              float64\n",
       "tolls_amount         float64\n",
       "airport_fee          float64\n",
       "pickup_longitude     float64\n",
       "pickup_latitude      float64\n",
       "dropoff_longitude    float64\n",
       "dropoff_latitude     float64\n",
       "pickup_day             int64\n",
       "pickup_weekday         int64\n",
       "pickup_hour            int64\n",
       "mid_night_trip         int64\n",
       "rush_hour_trip         int64\n",
       "pickup_manhattan       int64\n",
       "pickup_jfk             int64\n",
       "pickup_brooklyn        int64\n",
       "pickup_bronx           int64\n",
       "pickup_laGuardia       int64\n",
       "drop_manhattan         int64\n",
       "drop_jfk               int64\n",
       "drop_brooklyn          int64\n",
       "drop_bronx             int64\n",
       "drop_laGuardia         int64\n",
       "dtype: object"
      ]
     },
     "execution_count": 143,
     "metadata": {},
     "output_type": "execute_result"
    }
   ],
   "source": [
    "df.dtypes"
   ]
  },
  {
   "cell_type": "code",
   "execution_count": 144,
   "metadata": {},
   "outputs": [
    {
     "data": {
      "text/plain": [
       "Index(['VendorID', 'passenger_count', 'trip_distance', 'RatecodeID',\n",
       "       'fare_amount', 'mta_tax', 'tolls_amount', 'airport_fee',\n",
       "       'pickup_longitude', 'pickup_latitude', 'dropoff_longitude',\n",
       "       'dropoff_latitude', 'pickup_day', 'pickup_weekday', 'pickup_hour',\n",
       "       'mid_night_trip', 'rush_hour_trip', 'pickup_manhattan', 'pickup_jfk',\n",
       "       'pickup_brooklyn', 'pickup_bronx', 'pickup_laGuardia', 'drop_manhattan',\n",
       "       'drop_jfk', 'drop_brooklyn', 'drop_bronx', 'drop_laGuardia'],\n",
       "      dtype='object')"
      ]
     },
     "execution_count": 144,
     "metadata": {},
     "output_type": "execute_result"
    }
   ],
   "source": [
    "df.columns"
   ]
  },
  {
   "attachments": {},
   "cell_type": "markdown",
   "metadata": {},
   "source": [
    "## Refection\n",
    "\n",
    "1. What issues did you encounter when aquiring and cleaning the data?\n",
    "\n",
    "One of the main issues I faced with the data was the fact that for pickup and drop locations of any trip, instead of giving the longitutde and latitude values of those locations, we were provided with the location ID. There was a seperate Taxi Zone Lookup Table maintained - https://d37ci6vzurychx.cloudfront.net/misc/taxi+_zone_lookup.csv that consisted of the zone information of the location ID. Using the lookup file, I was then required to extract the longitude and latitudes of those zones from Geodata converter site - https://mygeodata.cloud/converter/shp-to-latlong. After this, I performed joins with my original dataset to get the pick up and drop off longitude and latitudes of the trips in my dataset.\n",
    "\n",
    "2. What features did you use in your final model and why were others excluded?\n",
    "\n",
    "In my final method, the features that I used were - \n",
    "\n",
    "VendorID, passenger_count, trip_distance, RatecodeID, fare_amount, mta_tax, tolls_amount, airport_fee, pickup_longitude, pickup_latitude, dropoff_longitude, dropoff_latitude, pickup_day, pickup_weekday, pickup_hour, mid_night_trip, rush_hour_trip, pickup_manhattan, pickup_jfk, pickup_brooklyn, pickup_bronx, pickup_laGuardia, drop_manhattan, drop_jfk, drop_brooklyn, drop_bronx, drop_laGuardia\n",
    "\n",
    "Features that were excluded - \n",
    "\n",
    "store_and_fwd_flag, payment_type, extra, tip_amount, improvement_surcharge, total_amount, congestion_surcharge, PULocationID, DOLocationID, OBJECTID_x, Shape_Leng_x, Shape_Area_x, LocationID_x, zone_x, borough_x, OBJECTID_y, Shape_Leng_y, Shape_Area_y, zone_y,LocationID_y, borough_y, tpep_dropoff_datetime, tpep_pickup_datetime\n",
    "\n",
    "These features were excluded because they did not have any effect on the fare_amount which is our target variable. \n",
    "\n",
    "store_and_fwd_flag - This flag indicates whether the trip record was held in vehicle memory before sending to the vendor. This does not affect the fare price\n",
    "\n",
    "payment_type - A numeric code signifying how the passenger paid for the trip. Again, this does not affect the fare price\n",
    "\n",
    "extra, tip_amount, improvement_surcharge, total_amount, congestion_surcharge - are variables that contribute to the variable total_amount and not the fare_amount, hence they are dropped\n",
    "\n",
    "PULocationID, DOLocationID, OBJECTID_x, Shape_Leng_x, Shape_Area_x, LocationID_x, zone_x, borough_x, OBJECTID_y, Shape_Leng_y, Shape_Area_y, zone_y,LocationID_y, borough_y - These variables were added during the join commands with the taxi_zones datasheet. They are extra and not required, hence dropped.\n",
    "\n",
    "tpep_dropoff_datetime, tpep_pickup_datetime - We performed feature engineering from these variables and created more meaningful features. Hence these variables are dropped.\n",
    "\n",
    "\n",
    "3. Which ML methods did you use and why? Which performed best before you started tuning? Did things change after tuning?\n",
    "\n",
    "ML methods used -\n",
    "\n",
    "Linear Regression, Decision Tree Regressor,\tRandom Forest Regressor, AdaBoost Regressor, XGBoost Regressor\n",
    "\n",
    "I first selected Linear Regression since it was the easiest to implement, interpret and efficient to train.\n",
    "\n",
    "Decision tree regressor was used because decision trees are not largely influenced by outliers or missing values. It can also handle both numerical and categorical variables.\n",
    "\n",
    "Random Forest Regressor was selected since this model can handle large datasets efficiently. It also provides a higher level of accuracy in predicting outcomes over the decision tree algorithm.\n",
    "\n",
    "Adaboost is less prune to overfitting as the input parameters are not jointly optimised and hence it was chosen.\n",
    "\n",
    "Finally, XGBoost was chosen since it provides strong regularization and is very fast due to parallel processing. XGBoost also works really very with large datasets.\n",
    "\n",
    "XGBoost performed best before I started tuning. No, XGBoost still performed the best even after tuning.\n",
    "\n",
    "4. What was your accuracy before and then after cross validation?\n",
    "\n",
    "Before cross validation, RSME was 3.305921. After cross validation, RSME was 3.740427.\n",
    "\n",
    "5. What was the most challenging part of this project?\n",
    "\n",
    "I think the most challenging part of the project was data pre-processing. This stage took quite some time. It was difficult to clean such a huge dataset and figure out each step on how to go about getting a cleaner dataset for our model analysis. As you can see above, several data cleaning steps have been performed before the analysis of the data begins. One main challenging step here was to categorize our pickup and drop data into different locations of New York City. However, this step was important and crucial as it would help us improve our analysis results. \n",
    "\n",
    "All in all, it was quite interesting at the same time to perform this type of high level data cleaning!"
   ]
  },
  {
   "cell_type": "markdown",
   "metadata": {},
   "source": []
  }
 ],
 "metadata": {
  "anaconda-cloud": {},
  "kernelspec": {
   "display_name": "Python 3.10.7 64-bit",
   "language": "python",
   "name": "python3"
  },
  "language_info": {
   "codemirror_mode": {
    "name": "ipython",
    "version": 3
   },
   "file_extension": ".py",
   "mimetype": "text/x-python",
   "name": "python",
   "nbconvert_exporter": "python",
   "pygments_lexer": "ipython3",
   "version": "3.10.7"
  },
  "vscode": {
   "interpreter": {
    "hash": "19aafbfcbbb9baf57e7c243a30b74d68d5b97b74b8628c69e27a3c00302d2378"
   }
  }
 },
 "nbformat": 4,
 "nbformat_minor": 1
}
